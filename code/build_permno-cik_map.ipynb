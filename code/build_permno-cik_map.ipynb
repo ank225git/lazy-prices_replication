{
 "cells": [
  {
   "cell_type": "markdown",
   "id": "e7b95dce",
   "metadata": {},
   "source": [
    "This file is to build a map between WRDS PERMNO identifier and SEC CIK identifier."
   ]
  },
  {
   "cell_type": "code",
   "execution_count": 1,
   "id": "f8015f5b",
   "metadata": {},
   "outputs": [],
   "source": [
    "import pandas as pd\n"
   ]
  },
  {
   "cell_type": "markdown",
   "id": "6396623e",
   "metadata": {},
   "source": [
    "Getting my saved tic-cik map:"
   ]
  },
  {
   "cell_type": "code",
   "execution_count": 2,
   "id": "d287972b",
   "metadata": {},
   "outputs": [
    {
     "name": "stdout",
     "output_type": "stream",
     "text": [
      "(12084, 2)\n"
     ]
    },
    {
     "data": {
      "application/vnd.microsoft.datawrangler.viewer.v0+json": {
       "columns": [
        {
         "name": "index",
         "rawType": "int64",
         "type": "integer"
        },
        {
         "name": "ticker",
         "rawType": "object",
         "type": "string"
        },
        {
         "name": "cik",
         "rawType": "int64",
         "type": "integer"
        }
       ],
       "conversionMethod": "pd.DataFrame",
       "ref": "4ab51e3a-043a-45b5-87dd-23650783e320",
       "rows": [
        [
         "0",
         "aapl",
         "320193"
        ],
        [
         "1",
         "msft",
         "789019"
        ],
        [
         "2",
         "brk-b",
         "1067983"
        ],
        [
         "3",
         "unh",
         "731766"
        ],
        [
         "4",
         "jnj",
         "200406"
        ]
       ],
       "shape": {
        "columns": 2,
        "rows": 5
       }
      },
      "text/html": [
       "<div>\n",
       "<style scoped>\n",
       "    .dataframe tbody tr th:only-of-type {\n",
       "        vertical-align: middle;\n",
       "    }\n",
       "\n",
       "    .dataframe tbody tr th {\n",
       "        vertical-align: top;\n",
       "    }\n",
       "\n",
       "    .dataframe thead th {\n",
       "        text-align: right;\n",
       "    }\n",
       "</style>\n",
       "<table border=\"1\" class=\"dataframe\">\n",
       "  <thead>\n",
       "    <tr style=\"text-align: right;\">\n",
       "      <th></th>\n",
       "      <th>ticker</th>\n",
       "      <th>cik</th>\n",
       "    </tr>\n",
       "  </thead>\n",
       "  <tbody>\n",
       "    <tr>\n",
       "      <th>0</th>\n",
       "      <td>aapl</td>\n",
       "      <td>320193</td>\n",
       "    </tr>\n",
       "    <tr>\n",
       "      <th>1</th>\n",
       "      <td>msft</td>\n",
       "      <td>789019</td>\n",
       "    </tr>\n",
       "    <tr>\n",
       "      <th>2</th>\n",
       "      <td>brk-b</td>\n",
       "      <td>1067983</td>\n",
       "    </tr>\n",
       "    <tr>\n",
       "      <th>3</th>\n",
       "      <td>unh</td>\n",
       "      <td>731766</td>\n",
       "    </tr>\n",
       "    <tr>\n",
       "      <th>4</th>\n",
       "      <td>jnj</td>\n",
       "      <td>200406</td>\n",
       "    </tr>\n",
       "  </tbody>\n",
       "</table>\n",
       "</div>"
      ],
      "text/plain": [
       "  ticker      cik\n",
       "0   aapl   320193\n",
       "1   msft   789019\n",
       "2  brk-b  1067983\n",
       "3    unh   731766\n",
       "4    jnj   200406"
      ]
     },
     "execution_count": 2,
     "metadata": {},
     "output_type": "execute_result"
    }
   ],
   "source": [
    "# Load from your processed folder\n",
    "df_ticker_cik = pd.read_csv(\"../data/processed/sec_ticker_cik_mapping.csv\")\n",
    "\n",
    "print(df_ticker_cik.shape)\n",
    "df_ticker_cik.head()\n"
   ]
  },
  {
   "cell_type": "markdown",
   "id": "fb04f6a2",
   "metadata": {},
   "source": [
    "Cleaning:"
   ]
  },
  {
   "cell_type": "code",
   "execution_count": 3,
   "id": "11ed9398",
   "metadata": {},
   "outputs": [
    {
     "data": {
      "application/vnd.microsoft.datawrangler.viewer.v0+json": {
       "columns": [
        {
         "name": "index",
         "rawType": "int64",
         "type": "integer"
        },
        {
         "name": "tic",
         "rawType": "object",
         "type": "unknown"
        },
        {
         "name": "cik",
         "rawType": "object",
         "type": "string"
        }
       ],
       "conversionMethod": "pd.DataFrame",
       "ref": "ceebfede-55b9-46d9-8ace-d1ae7b5819dd",
       "rows": [
        [
         "0",
         "aapl",
         "0000320193"
        ],
        [
         "1",
         "msft",
         "0000789019"
        ],
        [
         "2",
         "brk-b",
         "0001067983"
        ],
        [
         "3",
         "unh",
         "0000731766"
        ],
        [
         "4",
         "jnj",
         "0000200406"
        ],
        [
         "5",
         "v",
         "0001403161"
        ],
        [
         "6",
         "tsm",
         "0001046179"
        ],
        [
         "7",
         "xom",
         "0000034088"
        ],
        [
         "8",
         "wmt",
         "0000104169"
        ],
        [
         "9",
         "spy",
         "0000884394"
        ],
        [
         "10",
         "jpm",
         "0000019617"
        ],
        [
         "11",
         "pg",
         "0000080424"
        ],
        [
         "12",
         "nvda",
         "0001045810"
        ],
        [
         "13",
         "lvmuy",
         "0000824046"
        ],
        [
         "14",
         "ma",
         "0001141391"
        ],
        [
         "15",
         "cvx",
         "0000093410"
        ],
        [
         "16",
         "tsla",
         "0001318605"
        ],
        [
         "17",
         "lly",
         "0000059478"
        ],
        [
         "18",
         "hd",
         "0000354950"
        ],
        [
         "19",
         "bac",
         "0000070858"
        ],
        [
         "20",
         "pfe",
         "0000078003"
        ],
        [
         "21",
         "ko",
         "0000021344"
        ],
        [
         "22",
         "abbv",
         "0001551152"
        ],
        [
         "23",
         "baba",
         "0001577552"
        ],
        [
         "24",
         "nvo",
         "0000353278"
        ],
        [
         "25",
         "pep",
         "0000077476"
        ],
        [
         "26",
         "cost",
         "0000909832"
        ],
        [
         "27",
         "mrk",
         "0000310158"
        ],
        [
         "28",
         "tmo",
         "0000097745"
        ],
        [
         "29",
         "avgo",
         "0001730168"
        ],
        [
         "30",
         "dhr",
         "0000313616"
        ],
        [
         "31",
         "dis",
         "0001744489"
        ],
        [
         "32",
         "tm",
         "0001094517"
        ],
        [
         "33",
         "mcd",
         "0000063908"
        ],
        [
         "34",
         "asml",
         "0000937966"
        ],
        [
         "35",
         "orcl",
         "0001341439"
        ],
        [
         "36",
         "abt",
         "0000001800"
        ],
        [
         "37",
         "csco",
         "0000858877"
        ],
        [
         "38",
         "nvs",
         "0001114448"
        ],
        [
         "39",
         "azn",
         "0000901832"
        ],
        [
         "40",
         "tmus",
         "0001283699"
        ],
        [
         "41",
         "wfc",
         "0000072971"
        ],
        [
         "42",
         "acn",
         "0001467373"
        ],
        [
         "43",
         "vz",
         "0000732712"
        ],
        [
         "44",
         "nee",
         "0000753308"
        ],
        [
         "45",
         "nke",
         "0000320187"
        ],
        [
         "46",
         "ups",
         "0001090727"
        ],
        [
         "47",
         "bmy",
         "0000014272"
        ],
        [
         "48",
         "ms",
         "0000895421"
        ],
        [
         "49",
         "cmcsa",
         "0001166691"
        ]
       ],
       "shape": {
        "columns": 2,
        "rows": 12084
       }
      },
      "text/html": [
       "<div>\n",
       "<style scoped>\n",
       "    .dataframe tbody tr th:only-of-type {\n",
       "        vertical-align: middle;\n",
       "    }\n",
       "\n",
       "    .dataframe tbody tr th {\n",
       "        vertical-align: top;\n",
       "    }\n",
       "\n",
       "    .dataframe thead th {\n",
       "        text-align: right;\n",
       "    }\n",
       "</style>\n",
       "<table border=\"1\" class=\"dataframe\">\n",
       "  <thead>\n",
       "    <tr style=\"text-align: right;\">\n",
       "      <th></th>\n",
       "      <th>tic</th>\n",
       "      <th>cik</th>\n",
       "    </tr>\n",
       "  </thead>\n",
       "  <tbody>\n",
       "    <tr>\n",
       "      <th>0</th>\n",
       "      <td>aapl</td>\n",
       "      <td>0000320193</td>\n",
       "    </tr>\n",
       "    <tr>\n",
       "      <th>1</th>\n",
       "      <td>msft</td>\n",
       "      <td>0000789019</td>\n",
       "    </tr>\n",
       "    <tr>\n",
       "      <th>2</th>\n",
       "      <td>brk-b</td>\n",
       "      <td>0001067983</td>\n",
       "    </tr>\n",
       "    <tr>\n",
       "      <th>3</th>\n",
       "      <td>unh</td>\n",
       "      <td>0000731766</td>\n",
       "    </tr>\n",
       "    <tr>\n",
       "      <th>4</th>\n",
       "      <td>jnj</td>\n",
       "      <td>0000200406</td>\n",
       "    </tr>\n",
       "    <tr>\n",
       "      <th>...</th>\n",
       "      <td>...</td>\n",
       "      <td>...</td>\n",
       "    </tr>\n",
       "    <tr>\n",
       "      <th>12079</th>\n",
       "      <td>hcicu</td>\n",
       "      <td>0001829455</td>\n",
       "    </tr>\n",
       "    <tr>\n",
       "      <th>12080</th>\n",
       "      <td>hcicw</td>\n",
       "      <td>0001829455</td>\n",
       "    </tr>\n",
       "    <tr>\n",
       "      <th>12081</th>\n",
       "      <td>hawlm</td>\n",
       "      <td>0000046207</td>\n",
       "    </tr>\n",
       "    <tr>\n",
       "      <th>12082</th>\n",
       "      <td>hbanm</td>\n",
       "      <td>0000049196</td>\n",
       "    </tr>\n",
       "    <tr>\n",
       "      <th>12083</th>\n",
       "      <td>hbanp</td>\n",
       "      <td>0000049196</td>\n",
       "    </tr>\n",
       "  </tbody>\n",
       "</table>\n",
       "<p>12084 rows × 2 columns</p>\n",
       "</div>"
      ],
      "text/plain": [
       "         tic         cik\n",
       "0       aapl  0000320193\n",
       "1       msft  0000789019\n",
       "2      brk-b  0001067983\n",
       "3        unh  0000731766\n",
       "4        jnj  0000200406\n",
       "...      ...         ...\n",
       "12079  hcicu  0001829455\n",
       "12080  hcicw  0001829455\n",
       "12081  hawlm  0000046207\n",
       "12082  hbanm  0000049196\n",
       "12083  hbanp  0000049196\n",
       "\n",
       "[12084 rows x 2 columns]"
      ]
     },
     "execution_count": 3,
     "metadata": {},
     "output_type": "execute_result"
    }
   ],
   "source": [
    "# Make sure 'ticker' is lowercase (SEC gives lowercase but double check)\n",
    "df_ticker_cik['ticker'] = df_ticker_cik['ticker'].str.lower()\n",
    "\n",
    "df_ticker_cik = df_ticker_cik.rename(columns={'ticker': 'tic'})\n",
    "\n",
    "\n",
    "# Make sure 'cik' is a 10-digit string\n",
    "df_ticker_cik['cik'] = df_ticker_cik['cik'].astype(str).str.zfill(10)\n",
    "\n",
    "df_ticker_cik\n"
   ]
  },
  {
   "cell_type": "markdown",
   "id": "fbb1d590",
   "metadata": {},
   "source": [
    "Get permno - tik map:"
   ]
  },
  {
   "cell_type": "code",
   "execution_count": 4,
   "id": "291dc814",
   "metadata": {},
   "outputs": [
    {
     "name": "stdout",
     "output_type": "stream",
     "text": [
      "(223001, 2)\n"
     ]
    },
    {
     "data": {
      "application/vnd.microsoft.datawrangler.viewer.v0+json": {
       "columns": [
        {
         "name": "index",
         "rawType": "int64",
         "type": "integer"
        },
        {
         "name": "lpermno",
         "rawType": "float64",
         "type": "float"
        },
        {
         "name": "tic",
         "rawType": "object",
         "type": "string"
        }
       ],
       "conversionMethod": "pd.DataFrame",
       "ref": "58e63ddd-a9fe-40bd-b26c-d0d03cdc8823",
       "rows": [
        [
         "0",
         "25881.0",
         "ae.2"
        ],
        [
         "1",
         "25881.0",
         "ae.2"
        ],
        [
         "2",
         "25881.0",
         "ae.2"
        ],
        [
         "3",
         "10015.0",
         "amfd."
        ],
        [
         "4",
         "10015.0",
         "amfd."
        ],
        [
         "5",
         "10015.0",
         "amfd."
        ],
        [
         "6",
         "10031.0",
         "antq"
        ],
        [
         "7",
         "10031.0",
         "antq"
        ],
        [
         "8",
         "10031.0",
         "antq"
        ],
        [
         "9",
         "10031.0",
         "antq"
        ],
        [
         "10",
         "10031.0",
         "antq"
        ],
        [
         "11",
         "10031.0",
         "antq"
        ],
        [
         "12",
         "54594.0",
         "air"
        ],
        [
         "13",
         "54594.0",
         "air"
        ],
        [
         "14",
         "54594.0",
         "air"
        ],
        [
         "15",
         "54594.0",
         "air"
        ],
        [
         "16",
         "54594.0",
         "air"
        ],
        [
         "17",
         "54594.0",
         "air"
        ],
        [
         "18",
         "54594.0",
         "air"
        ],
        [
         "19",
         "54594.0",
         "air"
        ],
        [
         "20",
         "54594.0",
         "air"
        ],
        [
         "21",
         "54594.0",
         "air"
        ],
        [
         "22",
         "54594.0",
         "air"
        ],
        [
         "23",
         "54594.0",
         "air"
        ],
        [
         "24",
         "54594.0",
         "air"
        ],
        [
         "25",
         "54594.0",
         "air"
        ],
        [
         "26",
         "54594.0",
         "air"
        ],
        [
         "27",
         "54594.0",
         "air"
        ],
        [
         "28",
         "54594.0",
         "air"
        ],
        [
         "29",
         "54594.0",
         "air"
        ],
        [
         "30",
         "54594.0",
         "air"
        ],
        [
         "31",
         "54594.0",
         "air"
        ],
        [
         "32",
         "54594.0",
         "air"
        ],
        [
         "33",
         "54594.0",
         "air"
        ],
        [
         "34",
         "54594.0",
         "air"
        ],
        [
         "35",
         "54594.0",
         "air"
        ],
        [
         "36",
         "54594.0",
         "air"
        ],
        [
         "37",
         "54594.0",
         "air"
        ],
        [
         "38",
         "54594.0",
         "air"
        ],
        [
         "39",
         "54594.0",
         "air"
        ],
        [
         "40",
         "54594.0",
         "air"
        ],
        [
         "41",
         "54594.0",
         "air"
        ],
        [
         "42",
         "54594.0",
         "air"
        ],
        [
         "43",
         "54594.0",
         "air"
        ],
        [
         "44",
         "54594.0",
         "air"
        ],
        [
         "45",
         "54594.0",
         "air"
        ],
        [
         "46",
         "54594.0",
         "air"
        ],
        [
         "47",
         "54594.0",
         "air"
        ],
        [
         "48",
         "54594.0",
         "air"
        ],
        [
         "49",
         "54594.0",
         "air"
        ]
       ],
       "shape": {
        "columns": 2,
        "rows": 223001
       }
      },
      "text/html": [
       "<div>\n",
       "<style scoped>\n",
       "    .dataframe tbody tr th:only-of-type {\n",
       "        vertical-align: middle;\n",
       "    }\n",
       "\n",
       "    .dataframe tbody tr th {\n",
       "        vertical-align: top;\n",
       "    }\n",
       "\n",
       "    .dataframe thead th {\n",
       "        text-align: right;\n",
       "    }\n",
       "</style>\n",
       "<table border=\"1\" class=\"dataframe\">\n",
       "  <thead>\n",
       "    <tr style=\"text-align: right;\">\n",
       "      <th></th>\n",
       "      <th>lpermno</th>\n",
       "      <th>tic</th>\n",
       "    </tr>\n",
       "  </thead>\n",
       "  <tbody>\n",
       "    <tr>\n",
       "      <th>0</th>\n",
       "      <td>25881.0</td>\n",
       "      <td>ae.2</td>\n",
       "    </tr>\n",
       "    <tr>\n",
       "      <th>1</th>\n",
       "      <td>25881.0</td>\n",
       "      <td>ae.2</td>\n",
       "    </tr>\n",
       "    <tr>\n",
       "      <th>2</th>\n",
       "      <td>25881.0</td>\n",
       "      <td>ae.2</td>\n",
       "    </tr>\n",
       "    <tr>\n",
       "      <th>3</th>\n",
       "      <td>10015.0</td>\n",
       "      <td>amfd.</td>\n",
       "    </tr>\n",
       "    <tr>\n",
       "      <th>4</th>\n",
       "      <td>10015.0</td>\n",
       "      <td>amfd.</td>\n",
       "    </tr>\n",
       "    <tr>\n",
       "      <th>...</th>\n",
       "      <td>...</td>\n",
       "      <td>...</td>\n",
       "    </tr>\n",
       "    <tr>\n",
       "      <th>222996</th>\n",
       "      <td>13104.0</td>\n",
       "      <td>pacd</td>\n",
       "    </tr>\n",
       "    <tr>\n",
       "      <th>222997</th>\n",
       "      <td>13104.0</td>\n",
       "      <td>pacd</td>\n",
       "    </tr>\n",
       "    <tr>\n",
       "      <th>222998</th>\n",
       "      <td>13861.0</td>\n",
       "      <td>tam</td>\n",
       "    </tr>\n",
       "    <tr>\n",
       "      <th>222999</th>\n",
       "      <td>14344.0</td>\n",
       "      <td>salt</td>\n",
       "    </tr>\n",
       "    <tr>\n",
       "      <th>223000</th>\n",
       "      <td>14297.0</td>\n",
       "      <td>alle</td>\n",
       "    </tr>\n",
       "  </tbody>\n",
       "</table>\n",
       "<p>223001 rows × 2 columns</p>\n",
       "</div>"
      ],
      "text/plain": [
       "        lpermno    tic\n",
       "0       25881.0   ae.2\n",
       "1       25881.0   ae.2\n",
       "2       25881.0   ae.2\n",
       "3       10015.0  amfd.\n",
       "4       10015.0  amfd.\n",
       "...         ...    ...\n",
       "222996  13104.0   pacd\n",
       "222997  13104.0   pacd\n",
       "222998  13861.0    tam\n",
       "222999  14344.0   salt\n",
       "223000  14297.0   alle\n",
       "\n",
       "[223001 rows x 2 columns]"
      ]
     },
     "execution_count": 4,
     "metadata": {},
     "output_type": "execute_result"
    }
   ],
   "source": [
    "# Load df_class first\n",
    "df_class = pd.read_stata(\"../data/supplement/ccm_from_class/CCM_cleaned_for_class.dta\")\n",
    "\n",
    "# Select only lpermno and tic columns\n",
    "df_class = df_class[['lpermno', 'tic']]\n",
    "\n",
    "# Clean ticker to lowercase\n",
    "df_class['tic'] = df_class['tic'].str.lower()\n",
    "\n",
    "print(df_class.shape)\n",
    "df_class\n"
   ]
  },
  {
   "cell_type": "markdown",
   "id": "c1e78bd0",
   "metadata": {},
   "source": [
    "Cleaning:"
   ]
  },
  {
   "cell_type": "code",
   "execution_count": 5,
   "id": "fe60ebb7",
   "metadata": {},
   "outputs": [
    {
     "name": "stdout",
     "output_type": "stream",
     "text": [
      "(23111, 2)\n"
     ]
    },
    {
     "name": "stderr",
     "output_type": "stream",
     "text": [
      "/var/folders/nx/v58k3cwd0wlgff1pwy874p600000gn/T/ipykernel_14533/991876719.py:5: SettingWithCopyWarning: \n",
      "A value is trying to be set on a copy of a slice from a DataFrame.\n",
      "Try using .loc[row_indexer,col_indexer] = value instead\n",
      "\n",
      "See the caveats in the documentation: https://pandas.pydata.org/pandas-docs/stable/user_guide/indexing.html#returning-a-view-versus-a-copy\n",
      "  df_class['tic'] = df_class['tic'].str.split('.').str[0]\n"
     ]
    },
    {
     "data": {
      "application/vnd.microsoft.datawrangler.viewer.v0+json": {
       "columns": [
        {
         "name": "index",
         "rawType": "int64",
         "type": "integer"
        },
        {
         "name": "lpermno",
         "rawType": "float64",
         "type": "float"
        },
        {
         "name": "tic",
         "rawType": "object",
         "type": "string"
        }
       ],
       "conversionMethod": "pd.DataFrame",
       "ref": "381107d0-66a8-4760-b44a-3b4e84e7341b",
       "rows": [
        [
         "0",
         "25881.0",
         "ae"
        ],
        [
         "3",
         "10015.0",
         "amfd"
        ],
        [
         "6",
         "10031.0",
         "antq"
        ],
        [
         "12",
         "54594.0",
         "air"
        ],
        [
         "51",
         "61903.0",
         "aba"
        ],
        [
         "58",
         "10058.0",
         "4135b"
        ],
        [
         "67",
         "10066.0",
         "abmc"
        ],
        [
         "70",
         "10074.0",
         "absi"
        ],
        [
         "83",
         "10006.0",
         "4165a"
        ],
        [
         "92",
         "10082.0",
         "acse"
        ],
        [
         "104",
         "10103.0",
         "6927b"
        ],
        [
         "116",
         "50906.0",
         "adct"
        ],
        [
         "148",
         "66405.0",
         "4327b"
        ],
        [
         "153",
         "10146.0",
         "aece"
        ],
        [
         "163",
         "10154.0",
         "aelna"
        ],
        [
         "183",
         "10162.0",
         "2938b"
        ],
        [
         "189",
         "10189.0",
         "afap"
        ],
        [
         "202",
         "68806.0",
         "5548c"
        ],
        [
         "215",
         "10218.0",
         "iwks"
        ],
        [
         "233",
         "10234.0",
         "agmn"
        ],
        [
         "241",
         "66755.0",
         "ags"
        ],
        [
         "247",
         "10269.0",
         "aiaq"
        ],
        [
         "248",
         "47351.0",
         "4225b"
        ],
        [
         "258",
         "10277.0",
         "aidca"
        ],
        [
         "260",
         "10285.0",
         "7547b"
        ],
        [
         "270",
         "10293.0",
         "ainse"
        ],
        [
         "271",
         "10014.0",
         "aj"
        ],
        [
         "272",
         "65832.0",
         "alo"
        ],
        [
         "296",
         "65453.0",
         "udi"
        ],
        [
         "314",
         "10314.0",
         "amcm"
        ],
        [
         "322",
         "66413.0",
         "aen"
        ],
        [
         "343",
         "50526.0",
         "amc"
        ],
        [
         "347",
         "15763.0",
         "amf"
        ],
        [
         "357",
         "10365.0",
         "amis"
        ],
        [
         "360",
         "18980.0",
         "mti"
        ],
        [
         "376",
         "80071.0",
         "mti"
        ],
        [
         "382",
         "21020.0",
         "aamrq"
        ],
        [
         "417",
         "21020.0",
         "aal"
        ],
        [
         "420",
         "10373.0",
         "4303b"
        ],
        [
         "421",
         "10381.0",
         "3050b"
        ],
        [
         "423",
         "10400.0",
         "2952b"
        ],
        [
         "429",
         "11499.0",
         "cece"
        ],
        [
         "463",
         "10402.0",
         "apits"
        ],
        [
         "470",
         "10429.0",
         "aski"
        ],
        [
         "482",
         "85041.0",
         "asta"
        ],
        [
         "494",
         "62500.0",
         "arxx"
        ],
        [
         "524",
         "28636.0",
         "4328b"
        ],
        [
         "536",
         "58958.0",
         "aps"
        ],
        [
         "542",
         "10445.0",
         "arii"
        ],
        [
         "547",
         "26649.0",
         "asa"
        ]
       ],
       "shape": {
        "columns": 2,
        "rows": 23111
       }
      },
      "text/html": [
       "<div>\n",
       "<style scoped>\n",
       "    .dataframe tbody tr th:only-of-type {\n",
       "        vertical-align: middle;\n",
       "    }\n",
       "\n",
       "    .dataframe tbody tr th {\n",
       "        vertical-align: top;\n",
       "    }\n",
       "\n",
       "    .dataframe thead th {\n",
       "        text-align: right;\n",
       "    }\n",
       "</style>\n",
       "<table border=\"1\" class=\"dataframe\">\n",
       "  <thead>\n",
       "    <tr style=\"text-align: right;\">\n",
       "      <th></th>\n",
       "      <th>lpermno</th>\n",
       "      <th>tic</th>\n",
       "    </tr>\n",
       "  </thead>\n",
       "  <tbody>\n",
       "    <tr>\n",
       "      <th>0</th>\n",
       "      <td>25881.0</td>\n",
       "      <td>ae</td>\n",
       "    </tr>\n",
       "    <tr>\n",
       "      <th>3</th>\n",
       "      <td>10015.0</td>\n",
       "      <td>amfd</td>\n",
       "    </tr>\n",
       "    <tr>\n",
       "      <th>6</th>\n",
       "      <td>10031.0</td>\n",
       "      <td>antq</td>\n",
       "    </tr>\n",
       "    <tr>\n",
       "      <th>12</th>\n",
       "      <td>54594.0</td>\n",
       "      <td>air</td>\n",
       "    </tr>\n",
       "    <tr>\n",
       "      <th>51</th>\n",
       "      <td>61903.0</td>\n",
       "      <td>aba</td>\n",
       "    </tr>\n",
       "    <tr>\n",
       "      <th>...</th>\n",
       "      <td>...</td>\n",
       "      <td>...</td>\n",
       "    </tr>\n",
       "    <tr>\n",
       "      <th>222993</th>\n",
       "      <td>13707.0</td>\n",
       "      <td>rdhl</td>\n",
       "    </tr>\n",
       "    <tr>\n",
       "      <th>222995</th>\n",
       "      <td>13104.0</td>\n",
       "      <td>pacd</td>\n",
       "    </tr>\n",
       "    <tr>\n",
       "      <th>222998</th>\n",
       "      <td>13861.0</td>\n",
       "      <td>tam</td>\n",
       "    </tr>\n",
       "    <tr>\n",
       "      <th>222999</th>\n",
       "      <td>14344.0</td>\n",
       "      <td>salt</td>\n",
       "    </tr>\n",
       "    <tr>\n",
       "      <th>223000</th>\n",
       "      <td>14297.0</td>\n",
       "      <td>alle</td>\n",
       "    </tr>\n",
       "  </tbody>\n",
       "</table>\n",
       "<p>23111 rows × 2 columns</p>\n",
       "</div>"
      ],
      "text/plain": [
       "        lpermno   tic\n",
       "0       25881.0    ae\n",
       "3       10015.0  amfd\n",
       "6       10031.0  antq\n",
       "12      54594.0   air\n",
       "51      61903.0   aba\n",
       "...         ...   ...\n",
       "222993  13707.0  rdhl\n",
       "222995  13104.0  pacd\n",
       "222998  13861.0   tam\n",
       "222999  14344.0  salt\n",
       "223000  14297.0  alle\n",
       "\n",
       "[23111 rows x 2 columns]"
      ]
     },
     "execution_count": 5,
     "metadata": {},
     "output_type": "execute_result"
    }
   ],
   "source": [
    "# Drop duplicate permno-tic\n",
    "df_class = df_class.drop_duplicates(subset=['lpermno', 'tic'])\n",
    "\n",
    "# Clean up ticker names\n",
    "df_class['tic'] = df_class['tic'].str.split('.').str[0]\n",
    "\n",
    "print(df_class.shape)\n",
    "df_class\n"
   ]
  },
  {
   "cell_type": "code",
   "execution_count": 6,
   "id": "a7035038",
   "metadata": {},
   "outputs": [
    {
     "name": "stdout",
     "output_type": "stream",
     "text": [
      "permno     int64\n",
      "tic       object\n",
      "dtype: object\n"
     ]
    },
    {
     "name": "stderr",
     "output_type": "stream",
     "text": [
      "/var/folders/nx/v58k3cwd0wlgff1pwy874p600000gn/T/ipykernel_14533/656809236.py:2: SettingWithCopyWarning: \n",
      "A value is trying to be set on a copy of a slice from a DataFrame.\n",
      "Try using .loc[row_indexer,col_indexer] = value instead\n",
      "\n",
      "See the caveats in the documentation: https://pandas.pydata.org/pandas-docs/stable/user_guide/indexing.html#returning-a-view-versus-a-copy\n",
      "  df_class['lpermno'] = df_class['lpermno'].astype(int)\n"
     ]
    },
    {
     "data": {
      "application/vnd.microsoft.datawrangler.viewer.v0+json": {
       "columns": [
        {
         "name": "index",
         "rawType": "int64",
         "type": "integer"
        },
        {
         "name": "permno",
         "rawType": "int64",
         "type": "integer"
        },
        {
         "name": "tic",
         "rawType": "object",
         "type": "string"
        }
       ],
       "conversionMethod": "pd.DataFrame",
       "ref": "0fe72263-a6c6-4e34-abb7-bcd5195b5fab",
       "rows": [
        [
         "0",
         "25881",
         "ae"
        ],
        [
         "3",
         "10015",
         "amfd"
        ],
        [
         "6",
         "10031",
         "antq"
        ],
        [
         "12",
         "54594",
         "air"
        ],
        [
         "51",
         "61903",
         "aba"
        ],
        [
         "58",
         "10058",
         "4135b"
        ],
        [
         "67",
         "10066",
         "abmc"
        ],
        [
         "70",
         "10074",
         "absi"
        ],
        [
         "83",
         "10006",
         "4165a"
        ],
        [
         "92",
         "10082",
         "acse"
        ],
        [
         "104",
         "10103",
         "6927b"
        ],
        [
         "116",
         "50906",
         "adct"
        ],
        [
         "148",
         "66405",
         "4327b"
        ],
        [
         "153",
         "10146",
         "aece"
        ],
        [
         "163",
         "10154",
         "aelna"
        ],
        [
         "183",
         "10162",
         "2938b"
        ],
        [
         "189",
         "10189",
         "afap"
        ],
        [
         "202",
         "68806",
         "5548c"
        ],
        [
         "215",
         "10218",
         "iwks"
        ],
        [
         "233",
         "10234",
         "agmn"
        ],
        [
         "241",
         "66755",
         "ags"
        ],
        [
         "247",
         "10269",
         "aiaq"
        ],
        [
         "248",
         "47351",
         "4225b"
        ],
        [
         "258",
         "10277",
         "aidca"
        ],
        [
         "260",
         "10285",
         "7547b"
        ],
        [
         "270",
         "10293",
         "ainse"
        ],
        [
         "271",
         "10014",
         "aj"
        ],
        [
         "272",
         "65832",
         "alo"
        ],
        [
         "296",
         "65453",
         "udi"
        ],
        [
         "314",
         "10314",
         "amcm"
        ],
        [
         "322",
         "66413",
         "aen"
        ],
        [
         "343",
         "50526",
         "amc"
        ],
        [
         "347",
         "15763",
         "amf"
        ],
        [
         "357",
         "10365",
         "amis"
        ],
        [
         "360",
         "18980",
         "mti"
        ],
        [
         "376",
         "80071",
         "mti"
        ],
        [
         "382",
         "21020",
         "aamrq"
        ],
        [
         "417",
         "21020",
         "aal"
        ],
        [
         "420",
         "10373",
         "4303b"
        ],
        [
         "421",
         "10381",
         "3050b"
        ],
        [
         "423",
         "10400",
         "2952b"
        ],
        [
         "429",
         "11499",
         "cece"
        ],
        [
         "463",
         "10402",
         "apits"
        ],
        [
         "470",
         "10429",
         "aski"
        ],
        [
         "482",
         "85041",
         "asta"
        ],
        [
         "494",
         "62500",
         "arxx"
        ],
        [
         "524",
         "28636",
         "4328b"
        ],
        [
         "536",
         "58958",
         "aps"
        ],
        [
         "542",
         "10445",
         "arii"
        ],
        [
         "547",
         "26649",
         "asa"
        ]
       ],
       "shape": {
        "columns": 2,
        "rows": 23111
       }
      },
      "text/html": [
       "<div>\n",
       "<style scoped>\n",
       "    .dataframe tbody tr th:only-of-type {\n",
       "        vertical-align: middle;\n",
       "    }\n",
       "\n",
       "    .dataframe tbody tr th {\n",
       "        vertical-align: top;\n",
       "    }\n",
       "\n",
       "    .dataframe thead th {\n",
       "        text-align: right;\n",
       "    }\n",
       "</style>\n",
       "<table border=\"1\" class=\"dataframe\">\n",
       "  <thead>\n",
       "    <tr style=\"text-align: right;\">\n",
       "      <th></th>\n",
       "      <th>permno</th>\n",
       "      <th>tic</th>\n",
       "    </tr>\n",
       "  </thead>\n",
       "  <tbody>\n",
       "    <tr>\n",
       "      <th>0</th>\n",
       "      <td>25881</td>\n",
       "      <td>ae</td>\n",
       "    </tr>\n",
       "    <tr>\n",
       "      <th>3</th>\n",
       "      <td>10015</td>\n",
       "      <td>amfd</td>\n",
       "    </tr>\n",
       "    <tr>\n",
       "      <th>6</th>\n",
       "      <td>10031</td>\n",
       "      <td>antq</td>\n",
       "    </tr>\n",
       "    <tr>\n",
       "      <th>12</th>\n",
       "      <td>54594</td>\n",
       "      <td>air</td>\n",
       "    </tr>\n",
       "    <tr>\n",
       "      <th>51</th>\n",
       "      <td>61903</td>\n",
       "      <td>aba</td>\n",
       "    </tr>\n",
       "    <tr>\n",
       "      <th>...</th>\n",
       "      <td>...</td>\n",
       "      <td>...</td>\n",
       "    </tr>\n",
       "    <tr>\n",
       "      <th>222993</th>\n",
       "      <td>13707</td>\n",
       "      <td>rdhl</td>\n",
       "    </tr>\n",
       "    <tr>\n",
       "      <th>222995</th>\n",
       "      <td>13104</td>\n",
       "      <td>pacd</td>\n",
       "    </tr>\n",
       "    <tr>\n",
       "      <th>222998</th>\n",
       "      <td>13861</td>\n",
       "      <td>tam</td>\n",
       "    </tr>\n",
       "    <tr>\n",
       "      <th>222999</th>\n",
       "      <td>14344</td>\n",
       "      <td>salt</td>\n",
       "    </tr>\n",
       "    <tr>\n",
       "      <th>223000</th>\n",
       "      <td>14297</td>\n",
       "      <td>alle</td>\n",
       "    </tr>\n",
       "  </tbody>\n",
       "</table>\n",
       "<p>23111 rows × 2 columns</p>\n",
       "</div>"
      ],
      "text/plain": [
       "        permno   tic\n",
       "0        25881    ae\n",
       "3        10015  amfd\n",
       "6        10031  antq\n",
       "12       54594   air\n",
       "51       61903   aba\n",
       "...        ...   ...\n",
       "222993   13707  rdhl\n",
       "222995   13104  pacd\n",
       "222998   13861   tam\n",
       "222999   14344  salt\n",
       "223000   14297  alle\n",
       "\n",
       "[23111 rows x 2 columns]"
      ]
     },
     "execution_count": 6,
     "metadata": {},
     "output_type": "execute_result"
    }
   ],
   "source": [
    "# 1. Convert lpermno from float to int\n",
    "df_class['lpermno'] = df_class['lpermno'].astype(int)\n",
    "\n",
    "# 2. Rename lpermno to permno\n",
    "df_class = df_class.rename(columns={'lpermno': 'permno'})\n",
    "\n",
    "print(df_class.dtypes)\n",
    "df_class\n"
   ]
  },
  {
   "cell_type": "markdown",
   "id": "daabda7d",
   "metadata": {},
   "source": [
    "### Creating permno-tic-cik map"
   ]
  },
  {
   "cell_type": "code",
   "execution_count": 7,
   "id": "97b58e1d",
   "metadata": {},
   "outputs": [
    {
     "name": "stdout",
     "output_type": "stream",
     "text": [
      "(4921, 3)\n"
     ]
    },
    {
     "data": {
      "application/vnd.microsoft.datawrangler.viewer.v0+json": {
       "columns": [
        {
         "name": "index",
         "rawType": "int64",
         "type": "integer"
        },
        {
         "name": "tic",
         "rawType": "object",
         "type": "string"
        },
        {
         "name": "cik",
         "rawType": "object",
         "type": "string"
        },
        {
         "name": "permno",
         "rawType": "int64",
         "type": "integer"
        }
       ],
       "conversionMethod": "pd.DataFrame",
       "ref": "27b16231-298d-4521-997d-383536dde54c",
       "rows": [
        [
         "0",
         "aapl",
         "0000320193",
         "14593"
        ],
        [
         "1",
         "msft",
         "0000789019",
         "10107"
        ],
        [
         "2",
         "unh",
         "0000731766",
         "92655"
        ],
        [
         "3",
         "jnj",
         "0000200406",
         "22111"
        ],
        [
         "4",
         "v",
         "0001403161",
         "46842"
        ],
        [
         "5",
         "v",
         "0001403161",
         "75817"
        ],
        [
         "6",
         "v",
         "0001403161",
         "88614"
        ],
        [
         "7",
         "v",
         "0001403161",
         "92611"
        ],
        [
         "8",
         "tsm",
         "0001046179",
         "85442"
        ],
        [
         "9",
         "xom",
         "0000034088",
         "11850"
        ],
        [
         "10",
         "wmt",
         "0000104169",
         "55976"
        ],
        [
         "11",
         "spy",
         "0000884394",
         "60716"
        ],
        [
         "12",
         "jpm",
         "0000019617",
         "47896"
        ],
        [
         "13",
         "jpm",
         "0000019617",
         "48071"
        ],
        [
         "14",
         "pg",
         "0000080424",
         "18163"
        ],
        [
         "15",
         "nvda",
         "0001045810",
         "86580"
        ],
        [
         "16",
         "lvmuy",
         "0000824046",
         "11785"
        ],
        [
         "17",
         "ma",
         "0001141391",
         "91233"
        ],
        [
         "18",
         "cvx",
         "0000093410",
         "14541"
        ],
        [
         "19",
         "tsla",
         "0001318605",
         "93436"
        ],
        [
         "20",
         "lly",
         "0000059478",
         "50876"
        ],
        [
         "21",
         "hd",
         "0000354950",
         "66181"
        ],
        [
         "22",
         "bac",
         "0000070858",
         "54893"
        ],
        [
         "23",
         "bac",
         "0000070858",
         "58827"
        ],
        [
         "24",
         "bac",
         "0000070858",
         "59408"
        ],
        [
         "25",
         "pfe",
         "0000078003",
         "21936"
        ],
        [
         "26",
         "ko",
         "0000021344",
         "11308"
        ],
        [
         "27",
         "abbv",
         "0001551152",
         "13721"
        ],
        [
         "28",
         "nvo",
         "0000353278",
         "63263"
        ],
        [
         "29",
         "pep",
         "0000077476",
         "13856"
        ],
        [
         "30",
         "cost",
         "0000909832",
         "87055"
        ],
        [
         "31",
         "cost",
         "0000909832",
         "87055"
        ],
        [
         "32",
         "mrk",
         "0000310158",
         "22752"
        ],
        [
         "33",
         "tmo",
         "0000097745",
         "62092"
        ],
        [
         "34",
         "avgo",
         "0001730168",
         "88618"
        ],
        [
         "35",
         "avgo",
         "0001730168",
         "93002"
        ],
        [
         "36",
         "dhr",
         "0000313616",
         "49680"
        ],
        [
         "37",
         "dis",
         "0001744489",
         "26403"
        ],
        [
         "38",
         "tm",
         "0001094517",
         "76655"
        ],
        [
         "39",
         "tm",
         "0001094517",
         "77456"
        ],
        [
         "40",
         "mcd",
         "0000063908",
         "43449"
        ],
        [
         "41",
         "asml",
         "0000937966",
         "81472"
        ],
        [
         "42",
         "orcl",
         "0001341439",
         "10104"
        ],
        [
         "43",
         "abt",
         "0000001800",
         "20482"
        ],
        [
         "44",
         "csco",
         "0000858877",
         "76076"
        ],
        [
         "45",
         "nvs",
         "0001114448",
         "88233"
        ],
        [
         "46",
         "azn",
         "0000901832",
         "79363"
        ],
        [
         "47",
         "tmus",
         "0001283699",
         "91937"
        ],
        [
         "48",
         "wfc",
         "0000072971",
         "38703"
        ],
        [
         "49",
         "wfc",
         "0000072971",
         "50024"
        ]
       ],
       "shape": {
        "columns": 3,
        "rows": 4921
       }
      },
      "text/html": [
       "<div>\n",
       "<style scoped>\n",
       "    .dataframe tbody tr th:only-of-type {\n",
       "        vertical-align: middle;\n",
       "    }\n",
       "\n",
       "    .dataframe tbody tr th {\n",
       "        vertical-align: top;\n",
       "    }\n",
       "\n",
       "    .dataframe thead th {\n",
       "        text-align: right;\n",
       "    }\n",
       "</style>\n",
       "<table border=\"1\" class=\"dataframe\">\n",
       "  <thead>\n",
       "    <tr style=\"text-align: right;\">\n",
       "      <th></th>\n",
       "      <th>tic</th>\n",
       "      <th>cik</th>\n",
       "      <th>permno</th>\n",
       "    </tr>\n",
       "  </thead>\n",
       "  <tbody>\n",
       "    <tr>\n",
       "      <th>0</th>\n",
       "      <td>aapl</td>\n",
       "      <td>0000320193</td>\n",
       "      <td>14593</td>\n",
       "    </tr>\n",
       "    <tr>\n",
       "      <th>1</th>\n",
       "      <td>msft</td>\n",
       "      <td>0000789019</td>\n",
       "      <td>10107</td>\n",
       "    </tr>\n",
       "    <tr>\n",
       "      <th>2</th>\n",
       "      <td>unh</td>\n",
       "      <td>0000731766</td>\n",
       "      <td>92655</td>\n",
       "    </tr>\n",
       "    <tr>\n",
       "      <th>3</th>\n",
       "      <td>jnj</td>\n",
       "      <td>0000200406</td>\n",
       "      <td>22111</td>\n",
       "    </tr>\n",
       "    <tr>\n",
       "      <th>4</th>\n",
       "      <td>v</td>\n",
       "      <td>0001403161</td>\n",
       "      <td>46842</td>\n",
       "    </tr>\n",
       "    <tr>\n",
       "      <th>...</th>\n",
       "      <td>...</td>\n",
       "      <td>...</td>\n",
       "      <td>...</td>\n",
       "    </tr>\n",
       "    <tr>\n",
       "      <th>4916</th>\n",
       "      <td>gldi</td>\n",
       "      <td>0001053092</td>\n",
       "      <td>84614</td>\n",
       "    </tr>\n",
       "    <tr>\n",
       "      <th>4917</th>\n",
       "      <td>gll</td>\n",
       "      <td>0001415311</td>\n",
       "      <td>67934</td>\n",
       "    </tr>\n",
       "    <tr>\n",
       "      <th>4918</th>\n",
       "      <td>gru</td>\n",
       "      <td>0000352960</td>\n",
       "      <td>43465</td>\n",
       "    </tr>\n",
       "    <tr>\n",
       "      <th>4919</th>\n",
       "      <td>gru</td>\n",
       "      <td>0000352960</td>\n",
       "      <td>65613</td>\n",
       "    </tr>\n",
       "    <tr>\n",
       "      <th>4920</th>\n",
       "      <td>grn</td>\n",
       "      <td>0000312070</td>\n",
       "      <td>62252</td>\n",
       "    </tr>\n",
       "  </tbody>\n",
       "</table>\n",
       "<p>4921 rows × 3 columns</p>\n",
       "</div>"
      ],
      "text/plain": [
       "       tic         cik  permno\n",
       "0     aapl  0000320193   14593\n",
       "1     msft  0000789019   10107\n",
       "2      unh  0000731766   92655\n",
       "3      jnj  0000200406   22111\n",
       "4        v  0001403161   46842\n",
       "...    ...         ...     ...\n",
       "4916  gldi  0001053092   84614\n",
       "4917   gll  0001415311   67934\n",
       "4918   gru  0000352960   43465\n",
       "4919   gru  0000352960   65613\n",
       "4920   grn  0000312070   62252\n",
       "\n",
       "[4921 rows x 3 columns]"
      ]
     },
     "execution_count": 7,
     "metadata": {},
     "output_type": "execute_result"
    }
   ],
   "source": [
    "df_cik_permno = pd.merge(\n",
    "    df_ticker_cik,\n",
    "    df_class,\n",
    "    on=\"tic\",\n",
    "    how=\"inner\"\n",
    ")\n",
    "\n",
    "print(df_cik_permno.shape)\n",
    "df_cik_permno\n"
   ]
  }
 ],
 "metadata": {
  "kernelspec": {
   "display_name": "base",
   "language": "python",
   "name": "python3"
  },
  "language_info": {
   "codemirror_mode": {
    "name": "ipython",
    "version": 3
   },
   "file_extension": ".py",
   "mimetype": "text/x-python",
   "name": "python",
   "nbconvert_exporter": "python",
   "pygments_lexer": "ipython3",
   "version": "3.12.7"
  }
 },
 "nbformat": 4,
 "nbformat_minor": 5
}
