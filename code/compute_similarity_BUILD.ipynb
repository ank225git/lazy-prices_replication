{
 "cells": [
  {
   "cell_type": "markdown",
   "id": "6a475163",
   "metadata": {},
   "source": [
    "This file is for computing cosine similarity and/or jaccard similarity for the sample file."
   ]
  },
  {
   "cell_type": "markdown",
   "id": "10d719c4",
   "metadata": {},
   "source": [
    "Load the sample file:"
   ]
  },
  {
   "cell_type": "code",
   "execution_count": null,
   "id": "62ac863f",
   "metadata": {},
   "outputs": [],
   "source": []
  },
  {
   "cell_type": "markdown",
   "id": "a840890c",
   "metadata": {},
   "source": [
    "Compute similarity"
   ]
  },
  {
   "cell_type": "code",
   "execution_count": null,
   "id": "5ac16bdf",
   "metadata": {},
   "outputs": [],
   "source": []
  }
 ],
 "metadata": {
  "language_info": {
   "name": "python"
  }
 },
 "nbformat": 4,
 "nbformat_minor": 5
}
