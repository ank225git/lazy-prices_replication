{
 "cells": [
  {
   "cell_type": "code",
   "execution_count": 1,
   "id": "0f40bf6c",
   "metadata": {},
   "outputs": [],
   "source": [
    "import os\n",
    "import pandas as pd\n",
    "\n",
    "# File paths as plain strings\n",
    "input_path = \"../data/raw/lm_dictionaries/Loughran-McDonald_10X_DocumentDictionaries_1993-2024.txt\"\n",
    "output_path = \"../temp/sample_docdict.csv\"\n",
    "\n",
    "# Ensure output folder exists\n",
    "os.makedirs(\"temp\", exist_ok=True)\n"
   ]
  },
  {
   "cell_type": "markdown",
   "id": "c0d1f8cf",
   "metadata": {},
   "source": [
    "### Creating a sample"
   ]
  },
  {
   "cell_type": "code",
   "execution_count": 2,
   "id": "769c5e88",
   "metadata": {},
   "outputs": [],
   "source": [
    "# CIKs of 5 companies: Apple, Microsoft, Amazon, Google, Johnson & Johnson\n",
    "target_ciks = {\"320193\", \"789019\", \"1018724\", \"1652044\", \"200406\"}\n",
    "\n",
    "# Target filing years\n",
    "start_year = 2012\n",
    "end_year = 2016"
   ]
  },
  {
   "cell_type": "code",
   "execution_count": 3,
   "id": "f1918924",
   "metadata": {},
   "outputs": [],
   "source": [
    "def parse_docdict_line(line):\n",
    "    header_str, wordcount_str = line.strip().split('|', maxsplit=1)\n",
    "    header_parts = header_str.split(',')\n",
    "    word_counts = wordcount_str.split(',')\n",
    "\n",
    "    header = {\n",
    "        \"cik\": header_parts[0],\n",
    "        \"filing_date\": header_parts[1],\n",
    "        \"accession_number\": header_parts[2],\n",
    "        \"report_date\": header_parts[3],\n",
    "        \"form_type\": header_parts[4],\n",
    "        \"company_name\": header_parts[5]\n",
    "    }\n",
    "\n",
    "    word_dict = {}\n",
    "    for pair in word_counts:\n",
    "        if ':' in pair:\n",
    "            idx, count = pair.split(':')\n",
    "            word_dict[f'word_{int(idx)}'] = int(count)\n",
    "\n",
    "    return header, word_dict\n",
    "\n",
    "\n",
    "def is_target_filing(header):\n",
    "    year = int(header[\"filing_date\"][:4])\n",
    "    return header[\"cik\"] in target_ciks and start_year <= year <= end_year\n"
   ]
  },
  {
   "cell_type": "markdown",
   "id": "325b23a5",
   "metadata": {},
   "source": [
    "#### Build sample dataframe"
   ]
  },
  {
   "cell_type": "code",
   "execution_count": 5,
   "id": "6e1e086a",
   "metadata": {},
   "outputs": [
    {
     "name": "stderr",
     "output_type": "stream",
     "text": [
      "Reading filings: 1224508it [18:14, 1118.42it/s]\n"
     ]
    },
    {
     "data": {
      "text/plain": [
       "(87, 8438)"
      ]
     },
     "execution_count": 5,
     "metadata": {},
     "output_type": "execute_result"
    }
   ],
   "source": [
    "from tqdm import tqdm\n",
    "\n",
    "records = []\n",
    "\n",
    "with open(input_path, \"r\", encoding=\"utf-8\") as f:\n",
    "    for line in tqdm(f, desc=\"Reading filings\"):\n",
    "        header, word_data = parse_docdict_line(line)\n",
    "        if is_target_filing(header):\n",
    "            row = {**header, **word_data}\n",
    "            records.append(row)\n",
    "\n",
    "df = pd.DataFrame(records)\n",
    "df.to_csv(output_path, index=False)\n",
    "df.shape\n"
   ]
  },
  {
   "cell_type": "code",
   "execution_count": null,
   "id": "b8aaa22d",
   "metadata": {},
   "outputs": [],
   "source": [
    "df\n"
   ]
  }
 ],
 "metadata": {
  "kernelspec": {
   "display_name": "base",
   "language": "python",
   "name": "python3"
  },
  "language_info": {
   "codemirror_mode": {
    "name": "ipython",
    "version": 3
   },
   "file_extension": ".py",
   "mimetype": "text/x-python",
   "name": "python",
   "nbconvert_exporter": "python",
   "pygments_lexer": "ipython3",
   "version": "3.12.7"
  }
 },
 "nbformat": 4,
 "nbformat_minor": 5
}
