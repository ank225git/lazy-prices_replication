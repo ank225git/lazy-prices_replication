{
 "cells": [
  {
   "cell_type": "markdown",
   "id": "218dbb5d",
   "metadata": {},
   "source": [
    "This portfolio construction file implements new logic with using a right-merge stock-score dataset. Here, a quartile will be assigned to each month-return row."
   ]
  },
  {
   "cell_type": "code",
   "execution_count": 210,
   "id": "b3421f4a",
   "metadata": {},
   "outputs": [
    {
     "data": {
      "application/vnd.microsoft.datawrangler.viewer.v0+json": {
       "columns": [
        {
         "name": "index",
         "rawType": "int64",
         "type": "integer"
        },
        {
         "name": "permno",
         "rawType": "float64",
         "type": "float"
        },
        {
         "name": "cik",
         "rawType": "float64",
         "type": "float"
        },
        {
         "name": "tic",
         "rawType": "object",
         "type": "unknown"
        },
        {
         "name": "month",
         "rawType": "object",
         "type": "string"
        },
        {
         "name": "similarity_score",
         "rawType": "float64",
         "type": "float"
        },
        {
         "name": "ret",
         "rawType": "float64",
         "type": "float"
        }
       ],
       "conversionMethod": "pd.DataFrame",
       "ref": "3e012d9e-a15c-4c34-bb41-ee9737d08854",
       "rows": [
        [
         "0",
         "10000.0",
         null,
         null,
         "1986-01-31",
         null,
         null
        ],
        [
         "1",
         "10000.0",
         null,
         null,
         "1986-02-28",
         null,
         "-25.7143"
        ],
        [
         "2",
         "10000.0",
         null,
         null,
         "1986-03-31",
         null,
         "36.5385"
        ],
        [
         "3",
         "10000.0",
         null,
         null,
         "1986-04-30",
         null,
         "-9.8592"
        ],
        [
         "4",
         "10000.0",
         null,
         null,
         "1986-05-30",
         null,
         "-22.2656"
        ],
        [
         "5",
         "10000.0",
         null,
         null,
         "1986-06-30",
         null,
         "-0.5025"
        ],
        [
         "6",
         "10000.0",
         null,
         null,
         "1986-07-31",
         null,
         "-8.0808"
        ],
        [
         "7",
         "10000.0",
         null,
         null,
         "1986-08-29",
         null,
         "-61.5385"
        ],
        [
         "8",
         "10000.0",
         null,
         null,
         "1986-09-30",
         null,
         "-5.7143"
        ],
        [
         "9",
         "10000.0",
         null,
         null,
         "1986-10-31",
         null,
         "-24.2424"
        ],
        [
         "10",
         "10000.0",
         null,
         null,
         "1986-11-28",
         null,
         "6.0"
        ],
        [
         "11",
         "10000.0",
         null,
         null,
         "1986-12-31",
         null,
         "-37.7358"
        ],
        [
         "12",
         "10000.0",
         null,
         null,
         "1987-01-30",
         null,
         "-21.2121"
        ],
        [
         "13",
         "10000.0",
         null,
         null,
         "1987-02-27",
         null,
         "0.0"
        ],
        [
         "14",
         "10000.0",
         null,
         null,
         "1987-03-31",
         null,
         "-38.4615"
        ],
        [
         "15",
         "10000.0",
         null,
         null,
         "1987-04-30",
         null,
         "-6.25"
        ],
        [
         "16",
         "10000.0",
         null,
         null,
         "1987-05-29",
         null,
         "-6.6667"
        ],
        [
         "17",
         "10001.0",
         null,
         null,
         "1986-01-31",
         null,
         null
        ],
        [
         "18",
         "10001.0",
         null,
         null,
         "1986-02-28",
         null,
         "2.0408"
        ],
        [
         "19",
         "10001.0",
         null,
         null,
         "1986-03-31",
         null,
         "2.52"
        ],
        [
         "20",
         "10001.0",
         null,
         null,
         "1986-04-30",
         null,
         "0.9901"
        ],
        [
         "21",
         "10001.0",
         null,
         null,
         "1986-05-30",
         null,
         "-0.9804"
        ],
        [
         "22",
         "10001.0",
         null,
         null,
         "1986-06-30",
         null,
         "-1.3069"
        ],
        [
         "23",
         "10001.0",
         null,
         null,
         "1986-07-31",
         null,
         "-1.0204"
        ],
        [
         "24",
         "10001.0",
         null,
         null,
         "1986-08-29",
         null,
         "7.2165"
        ],
        [
         "25",
         "10001.0",
         null,
         null,
         "1986-09-30",
         null,
         "-0.3077"
        ],
        [
         "26",
         "10001.0",
         null,
         null,
         "1986-10-31",
         null,
         "3.9216"
        ],
        [
         "27",
         "10001.0",
         null,
         null,
         "1986-11-28",
         null,
         "5.6604"
        ],
        [
         "28",
         "10001.0",
         null,
         null,
         "1986-12-31",
         null,
         "1.5"
        ],
        [
         "29",
         "10001.0",
         null,
         null,
         "1987-01-30",
         null,
         "-3.5714"
        ],
        [
         "30",
         "10001.0",
         null,
         null,
         "1987-02-27",
         null,
         "-7.4074"
        ],
        [
         "31",
         "10001.0",
         null,
         null,
         "1987-03-31",
         null,
         "3.68"
        ],
        [
         "32",
         "10001.0",
         null,
         null,
         "1987-04-30",
         null,
         "-3.9216"
        ],
        [
         "33",
         "10001.0",
         null,
         null,
         "1987-05-29",
         null,
         "-7.1429"
        ],
        [
         "34",
         "10001.0",
         null,
         null,
         "1987-06-30",
         null,
         "5.1429"
        ],
        [
         "35",
         "10001.0",
         null,
         null,
         "1987-07-31",
         null,
         "2.1277"
        ],
        [
         "36",
         "10001.0",
         null,
         null,
         "1987-08-31",
         null,
         "8.3333"
        ],
        [
         "37",
         "10001.0",
         null,
         null,
         "1987-09-30",
         null,
         "-2.2308"
        ],
        [
         "38",
         "10001.0",
         null,
         null,
         "1987-10-30",
         null,
         "2.0"
        ],
        [
         "39",
         "10001.0",
         null,
         null,
         "1987-11-30",
         null,
         "-2.9412"
        ],
        [
         "40",
         "10001.0",
         null,
         null,
         "1987-12-31",
         null,
         "-3.3535"
        ],
        [
         "41",
         "10001.0",
         null,
         null,
         "1988-01-29",
         null,
         "6.383"
        ],
        [
         "42",
         "10001.0",
         null,
         null,
         "1988-02-29",
         null,
         "8.0"
        ],
        [
         "43",
         "10001.0",
         null,
         null,
         "1988-03-31",
         null,
         "-7.6296"
        ],
        [
         "44",
         "10001.0",
         null,
         null,
         "1988-04-29",
         null,
         "3.0612"
        ],
        [
         "45",
         "10001.0",
         null,
         null,
         "1988-05-31",
         null,
         "1.9802"
        ],
        [
         "46",
         "10001.0",
         null,
         null,
         "1988-06-30",
         null,
         "-1.2039"
        ],
        [
         "47",
         "10001.0",
         null,
         null,
         "1988-07-29",
         null,
         "3.0"
        ],
        [
         "48",
         "10001.0",
         null,
         null,
         "1988-08-31",
         null,
         "2.9126"
        ],
        [
         "49",
         "10001.0",
         null,
         null,
         "1988-09-30",
         null,
         "-2.1132"
        ]
       ],
       "shape": {
        "columns": 6,
        "rows": 4054677
       }
      },
      "text/html": [
       "<div>\n",
       "<style scoped>\n",
       "    .dataframe tbody tr th:only-of-type {\n",
       "        vertical-align: middle;\n",
       "    }\n",
       "\n",
       "    .dataframe tbody tr th {\n",
       "        vertical-align: top;\n",
       "    }\n",
       "\n",
       "    .dataframe thead th {\n",
       "        text-align: right;\n",
       "    }\n",
       "</style>\n",
       "<table border=\"1\" class=\"dataframe\">\n",
       "  <thead>\n",
       "    <tr style=\"text-align: right;\">\n",
       "      <th></th>\n",
       "      <th>permno</th>\n",
       "      <th>cik</th>\n",
       "      <th>tic</th>\n",
       "      <th>month</th>\n",
       "      <th>similarity_score</th>\n",
       "      <th>ret</th>\n",
       "    </tr>\n",
       "  </thead>\n",
       "  <tbody>\n",
       "    <tr>\n",
       "      <th>0</th>\n",
       "      <td>10000.0</td>\n",
       "      <td>NaN</td>\n",
       "      <td>NaN</td>\n",
       "      <td>1986-01-31</td>\n",
       "      <td>NaN</td>\n",
       "      <td>NaN</td>\n",
       "    </tr>\n",
       "    <tr>\n",
       "      <th>1</th>\n",
       "      <td>10000.0</td>\n",
       "      <td>NaN</td>\n",
       "      <td>NaN</td>\n",
       "      <td>1986-02-28</td>\n",
       "      <td>NaN</td>\n",
       "      <td>-25.7143</td>\n",
       "    </tr>\n",
       "    <tr>\n",
       "      <th>2</th>\n",
       "      <td>10000.0</td>\n",
       "      <td>NaN</td>\n",
       "      <td>NaN</td>\n",
       "      <td>1986-03-31</td>\n",
       "      <td>NaN</td>\n",
       "      <td>36.5385</td>\n",
       "    </tr>\n",
       "    <tr>\n",
       "      <th>3</th>\n",
       "      <td>10000.0</td>\n",
       "      <td>NaN</td>\n",
       "      <td>NaN</td>\n",
       "      <td>1986-04-30</td>\n",
       "      <td>NaN</td>\n",
       "      <td>-9.8592</td>\n",
       "    </tr>\n",
       "    <tr>\n",
       "      <th>4</th>\n",
       "      <td>10000.0</td>\n",
       "      <td>NaN</td>\n",
       "      <td>NaN</td>\n",
       "      <td>1986-05-30</td>\n",
       "      <td>NaN</td>\n",
       "      <td>-22.2656</td>\n",
       "    </tr>\n",
       "    <tr>\n",
       "      <th>...</th>\n",
       "      <td>...</td>\n",
       "      <td>...</td>\n",
       "      <td>...</td>\n",
       "      <td>...</td>\n",
       "      <td>...</td>\n",
       "      <td>...</td>\n",
       "    </tr>\n",
       "    <tr>\n",
       "      <th>4054672</th>\n",
       "      <td>93436.0</td>\n",
       "      <td>NaN</td>\n",
       "      <td>NaN</td>\n",
       "      <td>2024-08-30</td>\n",
       "      <td>NaN</td>\n",
       "      <td>-7.7391</td>\n",
       "    </tr>\n",
       "    <tr>\n",
       "      <th>4054673</th>\n",
       "      <td>93436.0</td>\n",
       "      <td>NaN</td>\n",
       "      <td>NaN</td>\n",
       "      <td>2024-09-30</td>\n",
       "      <td>NaN</td>\n",
       "      <td>22.1942</td>\n",
       "    </tr>\n",
       "    <tr>\n",
       "      <th>4054674</th>\n",
       "      <td>93436.0</td>\n",
       "      <td>1318605.0</td>\n",
       "      <td>tsla</td>\n",
       "      <td>2024-10-31</td>\n",
       "      <td>0.866583</td>\n",
       "      <td>-4.5025</td>\n",
       "    </tr>\n",
       "    <tr>\n",
       "      <th>4054675</th>\n",
       "      <td>93436.0</td>\n",
       "      <td>NaN</td>\n",
       "      <td>NaN</td>\n",
       "      <td>2024-11-29</td>\n",
       "      <td>NaN</td>\n",
       "      <td>38.1469</td>\n",
       "    </tr>\n",
       "    <tr>\n",
       "      <th>4054676</th>\n",
       "      <td>93436.0</td>\n",
       "      <td>NaN</td>\n",
       "      <td>NaN</td>\n",
       "      <td>2024-12-31</td>\n",
       "      <td>NaN</td>\n",
       "      <td>17.0008</td>\n",
       "    </tr>\n",
       "  </tbody>\n",
       "</table>\n",
       "<p>4054677 rows × 6 columns</p>\n",
       "</div>"
      ],
      "text/plain": [
       "          permno        cik   tic       month  similarity_score      ret\n",
       "0        10000.0        NaN   NaN  1986-01-31               NaN      NaN\n",
       "1        10000.0        NaN   NaN  1986-02-28               NaN -25.7143\n",
       "2        10000.0        NaN   NaN  1986-03-31               NaN  36.5385\n",
       "3        10000.0        NaN   NaN  1986-04-30               NaN  -9.8592\n",
       "4        10000.0        NaN   NaN  1986-05-30               NaN -22.2656\n",
       "...          ...        ...   ...         ...               ...      ...\n",
       "4054672  93436.0        NaN   NaN  2024-08-30               NaN  -7.7391\n",
       "4054673  93436.0        NaN   NaN  2024-09-30               NaN  22.1942\n",
       "4054674  93436.0  1318605.0  tsla  2024-10-31          0.866583  -4.5025\n",
       "4054675  93436.0        NaN   NaN  2024-11-29               NaN  38.1469\n",
       "4054676  93436.0        NaN   NaN  2024-12-31               NaN  17.0008\n",
       "\n",
       "[4054677 rows x 6 columns]"
      ]
     },
     "execution_count": 210,
     "metadata": {},
     "output_type": "execute_result"
    }
   ],
   "source": [
    "import pandas as pd\n",
    "\n",
    "# Load your real dataset\n",
    "df = pd.read_csv('../data/processed/full_similarity_with_returns-RIGHT.csv')\n",
    "\n",
    "\n",
    "df = df.rename(columns={\"date\": \"month\"})\n",
    "df = df.rename(columns={\"similarity\": \"similarity_score\"})\n",
    "\n",
    "\n",
    "df\n"
   ]
  },
  {
   "cell_type": "markdown",
   "id": "6e9906ba",
   "metadata": {},
   "source": [
    "#### Winsorizing:"
   ]
  },
  {
   "cell_type": "code",
   "execution_count": 211,
   "id": "dfa5347e",
   "metadata": {},
   "outputs": [
    {
     "name": "stdout",
     "output_type": "stream",
     "text": [
      "Winsorization complete.\n"
     ]
    },
    {
     "name": "stderr",
     "output_type": "stream",
     "text": [
      "/var/folders/nx/v58k3cwd0wlgff1pwy874p600000gn/T/ipykernel_43588/2852208564.py:8: DeprecationWarning: DataFrameGroupBy.apply operated on the grouping columns. This behavior is deprecated, and in a future version of pandas the grouping columns will be excluded from the operation. Either pass `include_groups=False` to exclude the groupings or explicitly select the grouping columns after groupby to silence this warning.\n",
      "  df = df.groupby('month', group_keys=False).apply(winsorize_returns)\n"
     ]
    }
   ],
   "source": [
    "\n",
    "def winsorize_returns(group):\n",
    "    lower = group['ret'].quantile(0.01)\n",
    "    upper = group['ret'].quantile(0.995)\n",
    "\n",
    "    group['ret'] = group['ret'].clip(lower, upper)\n",
    "    return group\n",
    "\n",
    "df = df.groupby('month', group_keys=False).apply(winsorize_returns)\n",
    "\n",
    "print(\"Winsorization complete.\")\n"
   ]
  },
  {
   "cell_type": "markdown",
   "id": "f3bdf879",
   "metadata": {},
   "source": [
    "### Part 1. Ranking stocks based on similarity scores"
   ]
  },
  {
   "cell_type": "markdown",
   "id": "296739f4",
   "metadata": {},
   "source": [
    "Assign quintiles to what we have:"
   ]
  },
  {
   "cell_type": "code",
   "execution_count": 212,
   "id": "0e123263",
   "metadata": {},
   "outputs": [
    {
     "name": "stderr",
     "output_type": "stream",
     "text": [
      "/var/folders/nx/v58k3cwd0wlgff1pwy874p600000gn/T/ipykernel_43588/72292322.py:34: DeprecationWarning: DataFrameGroupBy.apply operated on the grouping columns. This behavior is deprecated, and in a future version of pandas the grouping columns will be excluded from the operation. Either pass `include_groups=False` to exclude the groupings or explicitly select the grouping columns after groupby to silence this warning.\n",
      "  .apply(assign_quintiles_with_fallback)               # assign quintiles within each month\n"
     ]
    },
    {
     "data": {
      "application/vnd.microsoft.datawrangler.viewer.v0+json": {
       "columns": [
        {
         "name": "index",
         "rawType": "int64",
         "type": "integer"
        },
        {
         "name": "permno",
         "rawType": "float64",
         "type": "float"
        },
        {
         "name": "cik",
         "rawType": "float64",
         "type": "float"
        },
        {
         "name": "tic",
         "rawType": "object",
         "type": "string"
        },
        {
         "name": "month",
         "rawType": "object",
         "type": "string"
        },
        {
         "name": "similarity_score",
         "rawType": "float64",
         "type": "float"
        },
        {
         "name": "ret",
         "rawType": "float64",
         "type": "float"
        },
        {
         "name": "quintile",
         "rawType": "float64",
         "type": "float"
        }
       ],
       "conversionMethod": "pd.DataFrame",
       "ref": "40b46ba3-7cea-418d-bdf7-c149498631f5",
       "rows": [
        [
         "1116721",
         "22592.0",
         "66740.0",
         "mmm",
         "1993-11-30",
         "0.9908055701265766",
         "5.8602",
         null
        ],
        [
         "0",
         "19880.0",
         "15615.0",
         "mtz",
         "1994-01-31",
         "0.936273212979572",
         "37.234",
         "5.0"
        ],
        [
         "1",
         "51086.0",
         "107687.0",
         "wgo",
         "1994-01-31",
         "0.7570108180789334",
         "20.2532",
         "1.0"
        ],
        [
         "0",
         "10397.0",
         "793074.0",
         "wern",
         "1994-02-28",
         "1.0000000000000002",
         "-1.6949",
         "5.0"
        ],
        [
         "1",
         "19880.0",
         "15615.0",
         "mtz",
         "1994-02-28",
         "0.9795155649937972",
         "-5.4264",
         "5.0"
        ],
        [
         "2",
         "19880.0",
         "15615.0",
         "mtz",
         "1994-02-28",
         "0.9336171928469088",
         "-5.4264",
         "4.0"
        ],
        [
         "3",
         "37584.0",
         "38777.0",
         "ben",
         "1994-02-28",
         "0.873846998042165",
         "-10.804",
         "3.0"
        ],
        [
         "4",
         "58819.0",
         "352541.0",
         "lnt",
         "1994-02-28",
         "0.8525558515398072",
         "-6.4516",
         "3.0"
        ],
        [
         "5",
         "25590.0",
         "70145.0",
         "nfg",
         "1994-02-28",
         "0.8495404622258865",
         "-11.828",
         "2.0"
        ],
        [
         "6",
         "65541.0",
         "711404.0",
         "coo",
         "1994-02-28",
         "0.8257185543778081",
         "33.3333",
         "1.0"
        ],
        [
         "7",
         "65541.0",
         "711404.0",
         "coo",
         "1994-02-28",
         "0.8015353439482057",
         "33.3333",
         "1.0"
        ],
        [
         "0",
         "62958.0",
         "88948.0",
         "senea",
         "1994-03-31",
         "0.9999999999999982",
         "6.579",
         "5.0"
        ],
        [
         "1",
         "22592.0",
         "66740.0",
         "mmm",
         "1994-03-31",
         "0.9999937592684554",
         "-6.0498",
         "5.0"
        ],
        [
         "2",
         "22592.0",
         "66740.0",
         "mmm",
         "1994-03-31",
         "0.9999506047827016",
         "-6.0498",
         "5.0"
        ],
        [
         "3",
         "44768.0",
         "715787.0",
         "tile",
         "1994-03-31",
         "0.9972427858524496",
         "-20.0945",
         "5.0"
        ],
        [
         "4",
         "44768.0",
         "715787.0",
         "tile",
         "1994-03-31",
         "0.9967095695726572",
         "-20.0945",
         "5.0"
        ],
        [
         "5",
         "19880.0",
         "15615.0",
         "mtz",
         "1994-03-31",
         "0.995827829801452",
         "3.2787",
         "5.0"
        ],
        [
         "6",
         "19350.0",
         "315189.0",
         "de",
         "1994-03-31",
         "0.9616984295657188",
         "0.5926",
         "4.0"
        ],
        [
         "7",
         "22592.0",
         "66740.0",
         "mmm",
         "1994-03-31",
         "0.9616060426348236",
         "-6.0498",
         "4.0"
        ],
        [
         "8",
         "44768.0",
         "715787.0",
         "tile",
         "1994-03-31",
         "0.9605115516717834",
         "-20.0945",
         "4.0"
        ],
        [
         "9",
         "23931.0",
         "72903.0",
         "xel",
         "1994-03-31",
         "0.950069887375412",
         "-0.9091",
         "4.0"
        ],
        [
         "10",
         "75573.0",
         "800240.0",
         "odp",
         "1994-03-31",
         "0.948189851444436",
         "-5.7432",
         "4.0"
        ],
        [
         "11",
         "65541.0",
         "711404.0",
         "coo",
         "1994-03-31",
         "0.9475612701700592",
         "33.3333",
         "3.0"
        ],
        [
         "12",
         "44768.0",
         "715787.0",
         "tile",
         "1994-03-31",
         "0.9461297015901372",
         "-20.0945",
         "3.0"
        ],
        [
         "13",
         "22592.0",
         "66740.0",
         "mmm",
         "1994-03-31",
         "0.9460452254038516",
         "-6.0498",
         "3.0"
        ],
        [
         "14",
         "44768.0",
         "715787.0",
         "tile",
         "1994-03-31",
         "0.9286116192500996",
         "-20.0945",
         "3.0"
        ],
        [
         "15",
         "27828.0",
         "47217.0",
         "hpq",
         "1994-03-31",
         "0.9185185443501876",
         "-9.1035",
         "3.0"
        ],
        [
         "16",
         "44768.0",
         "715787.0",
         "tile",
         "1994-03-31",
         "0.907857211292214",
         "-20.0945",
         "3.0"
        ],
        [
         "17",
         "11731.0",
         "819793.0",
         "ain",
         "1994-03-31",
         "0.8675072286027359",
         "4.9359",
         "2.0"
        ],
        [
         "18",
         "87055.0",
         "909832.0",
         "cost",
         "1994-03-31",
         "0.8654230221698818",
         "-9.375",
         "2.0"
        ],
        [
         "19",
         "87055.0",
         "909832.0",
         "cost",
         "1994-03-31",
         "0.8654230221698818",
         "-9.375",
         "2.0"
        ],
        [
         "20",
         "51610.0",
         "36270.0",
         "mtb",
         "1994-03-31",
         "0.8446215439078051",
         "-3.4483",
         "2.0"
        ],
        [
         "21",
         "35554.0",
         "36270.0",
         "mtb",
         "1994-03-31",
         "0.8446215439078051",
         "2.5783",
         "2.0"
        ],
        [
         "22",
         "57809.0",
         "72331.0",
         "ndsn",
         "1994-03-31",
         "0.8417539258298273",
         "8.4821",
         "1.0"
        ],
        [
         "23",
         "58406.0",
         "73088.0",
         "nwe",
         "1994-03-31",
         "0.8284264967756048",
         "-0.4608",
         "1.0"
        ],
        [
         "24",
         "59619.0",
         "310142.0",
         "sxt",
         "1994-03-31",
         "0.8238660751134691",
         "-7.9245",
         "1.0"
        ],
        [
         "25",
         "28222.0",
         "2969.0",
         "apd",
         "1994-03-31",
         "0.7700609775122151",
         "-5.8163",
         "1.0"
        ],
        [
         "26",
         "15069.0",
         "101778.0",
         "mro",
         "1994-03-31",
         "0.7197670224353343",
         "-4.3478",
         "1.0"
        ],
        [
         "27",
         "23835.0",
         "67716.0",
         "mdu",
         "1994-03-31",
         "0.708498005692725",
         "6.3",
         "1.0"
        ],
        [
         "0",
         "50550.0",
         "77543.0",
         "tpc",
         "1994-05-31",
         "0.9999314455544333",
         "-1.0309",
         "5.0"
        ],
        [
         "1",
         "76634.0",
         "77543.0",
         "tpc",
         "1994-05-31",
         "0.9999314455544333",
         "-11.4583",
         "5.0"
        ],
        [
         "2",
         "22592.0",
         "66740.0",
         "mmm",
         "1994-05-31",
         "0.9976944550830272",
         "4.9796",
         "5.0"
        ],
        [
         "3",
         "52038.0",
         "96021.0",
         "syy",
         "1994-05-31",
         "0.997097352715953",
         "-0.4808",
         "5.0"
        ],
        [
         "4",
         "10606.0",
         "795403.0",
         "wts",
         "1994-05-31",
         "0.9961688812617068",
         "-1.8936",
         "5.0"
        ],
        [
         "5",
         "25590.0",
         "70145.0",
         "nfg",
         "1994-05-31",
         "0.9949809595437012",
         "1.25",
         "5.0"
        ],
        [
         "6",
         "44644.0",
         "8670.0",
         "adp",
         "1994-05-31",
         "0.9944237931685233",
         "3.6408",
         "5.0"
        ],
        [
         "7",
         "23297.0",
         "703351.0",
         "eat",
         "1994-05-31",
         "0.9919265609026532",
         "-10.6195",
         "5.0"
        ],
        [
         "8",
         "46578.0",
         "21076.0",
         "clx",
         "1994-05-31",
         "0.9918867704789864",
         "1.7327",
         "5.0"
        ],
        [
         "9",
         "64450.0",
         "356309.0",
         "njr",
         "1994-05-31",
         "0.9915345484138812",
         "-3.0303",
         "5.0"
        ],
        [
         "10",
         "51263.0",
         "61986.0",
         "mtw",
         "1994-05-31",
         "0.9913030856441368",
         "3.5",
         "5.0"
        ]
       ],
       "shape": {
        "columns": 7,
        "rows": 34070
       }
      },
      "text/html": [
       "<div>\n",
       "<style scoped>\n",
       "    .dataframe tbody tr th:only-of-type {\n",
       "        vertical-align: middle;\n",
       "    }\n",
       "\n",
       "    .dataframe tbody tr th {\n",
       "        vertical-align: top;\n",
       "    }\n",
       "\n",
       "    .dataframe thead th {\n",
       "        text-align: right;\n",
       "    }\n",
       "</style>\n",
       "<table border=\"1\" class=\"dataframe\">\n",
       "  <thead>\n",
       "    <tr style=\"text-align: right;\">\n",
       "      <th></th>\n",
       "      <th>permno</th>\n",
       "      <th>cik</th>\n",
       "      <th>tic</th>\n",
       "      <th>month</th>\n",
       "      <th>similarity_score</th>\n",
       "      <th>ret</th>\n",
       "      <th>quintile</th>\n",
       "    </tr>\n",
       "  </thead>\n",
       "  <tbody>\n",
       "    <tr>\n",
       "      <th>1116721</th>\n",
       "      <td>22592.0</td>\n",
       "      <td>66740.0</td>\n",
       "      <td>mmm</td>\n",
       "      <td>1993-11-30</td>\n",
       "      <td>0.990806</td>\n",
       "      <td>5.8602</td>\n",
       "      <td>NaN</td>\n",
       "    </tr>\n",
       "    <tr>\n",
       "      <th>0</th>\n",
       "      <td>19880.0</td>\n",
       "      <td>15615.0</td>\n",
       "      <td>mtz</td>\n",
       "      <td>1994-01-31</td>\n",
       "      <td>0.936273</td>\n",
       "      <td>37.2340</td>\n",
       "      <td>5.0</td>\n",
       "    </tr>\n",
       "    <tr>\n",
       "      <th>1</th>\n",
       "      <td>51086.0</td>\n",
       "      <td>107687.0</td>\n",
       "      <td>wgo</td>\n",
       "      <td>1994-01-31</td>\n",
       "      <td>0.757011</td>\n",
       "      <td>20.2532</td>\n",
       "      <td>1.0</td>\n",
       "    </tr>\n",
       "    <tr>\n",
       "      <th>0</th>\n",
       "      <td>10397.0</td>\n",
       "      <td>793074.0</td>\n",
       "      <td>wern</td>\n",
       "      <td>1994-02-28</td>\n",
       "      <td>1.000000</td>\n",
       "      <td>-1.6949</td>\n",
       "      <td>5.0</td>\n",
       "    </tr>\n",
       "    <tr>\n",
       "      <th>1</th>\n",
       "      <td>19880.0</td>\n",
       "      <td>15615.0</td>\n",
       "      <td>mtz</td>\n",
       "      <td>1994-02-28</td>\n",
       "      <td>0.979516</td>\n",
       "      <td>-5.4264</td>\n",
       "      <td>5.0</td>\n",
       "    </tr>\n",
       "    <tr>\n",
       "      <th>...</th>\n",
       "      <td>...</td>\n",
       "      <td>...</td>\n",
       "      <td>...</td>\n",
       "      <td>...</td>\n",
       "      <td>...</td>\n",
       "      <td>...</td>\n",
       "      <td>...</td>\n",
       "    </tr>\n",
       "    <tr>\n",
       "      <th>0</th>\n",
       "      <td>92121.0</td>\n",
       "      <td>1393612.0</td>\n",
       "      <td>dfs</td>\n",
       "      <td>2024-12-31</td>\n",
       "      <td>0.998017</td>\n",
       "      <td>-5.0430</td>\n",
       "      <td>5.0</td>\n",
       "    </tr>\n",
       "    <tr>\n",
       "      <th>1</th>\n",
       "      <td>92121.0</td>\n",
       "      <td>1393612.0</td>\n",
       "      <td>dfs</td>\n",
       "      <td>2024-12-31</td>\n",
       "      <td>0.996312</td>\n",
       "      <td>-5.0430</td>\n",
       "      <td>4.0</td>\n",
       "    </tr>\n",
       "    <tr>\n",
       "      <th>2</th>\n",
       "      <td>87394.0</td>\n",
       "      <td>1058811.0</td>\n",
       "      <td>immr</td>\n",
       "      <td>2024-12-31</td>\n",
       "      <td>0.985401</td>\n",
       "      <td>-2.3490</td>\n",
       "      <td>3.0</td>\n",
       "    </tr>\n",
       "    <tr>\n",
       "      <th>3</th>\n",
       "      <td>92121.0</td>\n",
       "      <td>1393612.0</td>\n",
       "      <td>dfs</td>\n",
       "      <td>2024-12-31</td>\n",
       "      <td>0.977140</td>\n",
       "      <td>-5.0430</td>\n",
       "      <td>2.0</td>\n",
       "    </tr>\n",
       "    <tr>\n",
       "      <th>4</th>\n",
       "      <td>67847.0</td>\n",
       "      <td>85535.0</td>\n",
       "      <td>rgld</td>\n",
       "      <td>2024-12-31</td>\n",
       "      <td>0.923907</td>\n",
       "      <td>-9.8523</td>\n",
       "      <td>1.0</td>\n",
       "    </tr>\n",
       "  </tbody>\n",
       "</table>\n",
       "<p>34070 rows × 7 columns</p>\n",
       "</div>"
      ],
      "text/plain": [
       "          permno        cik   tic       month  similarity_score      ret  \\\n",
       "1116721  22592.0    66740.0   mmm  1993-11-30          0.990806   5.8602   \n",
       "0        19880.0    15615.0   mtz  1994-01-31          0.936273  37.2340   \n",
       "1        51086.0   107687.0   wgo  1994-01-31          0.757011  20.2532   \n",
       "0        10397.0   793074.0  wern  1994-02-28          1.000000  -1.6949   \n",
       "1        19880.0    15615.0   mtz  1994-02-28          0.979516  -5.4264   \n",
       "...          ...        ...   ...         ...               ...      ...   \n",
       "0        92121.0  1393612.0   dfs  2024-12-31          0.998017  -5.0430   \n",
       "1        92121.0  1393612.0   dfs  2024-12-31          0.996312  -5.0430   \n",
       "2        87394.0  1058811.0  immr  2024-12-31          0.985401  -2.3490   \n",
       "3        92121.0  1393612.0   dfs  2024-12-31          0.977140  -5.0430   \n",
       "4        67847.0    85535.0  rgld  2024-12-31          0.923907  -9.8523   \n",
       "\n",
       "         quintile  \n",
       "1116721       NaN  \n",
       "0             5.0  \n",
       "1             1.0  \n",
       "0             5.0  \n",
       "1             5.0  \n",
       "...           ...  \n",
       "0             5.0  \n",
       "1             4.0  \n",
       "2             3.0  \n",
       "3             2.0  \n",
       "4             1.0  \n",
       "\n",
       "[34070 rows x 7 columns]"
      ]
     },
     "execution_count": 212,
     "metadata": {},
     "output_type": "execute_result"
    }
   ],
   "source": [
    "def assign_quintiles_with_fallback(df):\n",
    "    all_quintiles = []\n",
    "\n",
    "    for month, group in df.groupby(\"month\"):\n",
    "        # filter out firms with no similarity score\n",
    "        valid = group.dropna(subset=[\"similarity_score\"]).copy()\n",
    "        \n",
    "        # at least 5 firms — use qcut for proper quintiles\n",
    "        if len(valid) >= 5:\n",
    "            valid = valid.sort_values(\"similarity_score\", ascending=False).reset_index(drop=True)\n",
    "            valid[\"quintile\"] = pd.qcut(valid.index, 5, labels=[5,4,3,2,1]).astype(int)\n",
    "        \n",
    "        # exactly 2 firms — manually assign quintiles\n",
    "        elif len(valid) == 2:\n",
    "            valid = valid.sort_values(\"similarity_score\", ascending=False).reset_index(drop=True)\n",
    "            valid[\"quintile\"] = [5, 1]\n",
    "\n",
    "        # 3–4 firms — manually assign top, bottom, and middle values\n",
    "        elif len(valid) > 2:\n",
    "            valid = valid.sort_values(\"similarity_score\", ascending=False).reset_index(drop=True)\n",
    "            ranks = [5] + [3] * (len(valid) - 2) + [1]\n",
    "            valid[\"quintile\"] = ranks\n",
    "\n",
    "        # append any valid quintile rows (skip if no valid scores at all)\n",
    "        all_quintiles.append(valid)\n",
    "\n",
    "    return pd.concat(all_quintiles)\n",
    "\n",
    "\n",
    "# Step 2: Apply the quintile assignment to each month group\n",
    "quintile_df = (\n",
    "    df.dropna(subset=['similarity_score'])  # keep only rows with similarity score\n",
    "      .groupby('month', group_keys=False)   # group by month\n",
    "      .apply(assign_quintiles_with_fallback)               # assign quintiles within each month\n",
    ")\n",
    "\n",
    "\n",
    "quintile_df"
   ]
  },
  {
   "cell_type": "markdown",
   "id": "e919e7ff",
   "metadata": {},
   "source": [
    "Merge assigned quintiles back into the full dataset (which includes months with missing scores)"
   ]
  },
  {
   "cell_type": "code",
   "execution_count": 213,
   "id": "244f0c8b",
   "metadata": {},
   "outputs": [
    {
     "data": {
      "application/vnd.microsoft.datawrangler.viewer.v0+json": {
       "columns": [
        {
         "name": "index",
         "rawType": "int64",
         "type": "integer"
        },
        {
         "name": "permno",
         "rawType": "float64",
         "type": "float"
        },
        {
         "name": "cik_x",
         "rawType": "float64",
         "type": "float"
        },
        {
         "name": "tic_x",
         "rawType": "object",
         "type": "unknown"
        },
        {
         "name": "month",
         "rawType": "object",
         "type": "string"
        },
        {
         "name": "similarity_score_x",
         "rawType": "float64",
         "type": "float"
        },
        {
         "name": "ret_x",
         "rawType": "float64",
         "type": "float"
        },
        {
         "name": "cik_y",
         "rawType": "float64",
         "type": "float"
        },
        {
         "name": "tic_y",
         "rawType": "object",
         "type": "unknown"
        },
        {
         "name": "similarity_score_y",
         "rawType": "float64",
         "type": "float"
        },
        {
         "name": "ret_y",
         "rawType": "float64",
         "type": "float"
        },
        {
         "name": "quintile",
         "rawType": "float64",
         "type": "float"
        }
       ],
       "conversionMethod": "pd.DataFrame",
       "ref": "cf5a6c82-7fbf-4fca-af6d-f685055296f4",
       "rows": [
        [
         "0",
         "10000.0",
         null,
         null,
         "1986-01-31",
         null,
         null,
         null,
         null,
         null,
         null,
         null
        ],
        [
         "1",
         "10000.0",
         null,
         null,
         "1986-02-28",
         null,
         "-25.7143",
         null,
         null,
         null,
         null,
         null
        ],
        [
         "2",
         "10000.0",
         null,
         null,
         "1986-03-31",
         null,
         "36.5385",
         null,
         null,
         null,
         null,
         null
        ],
        [
         "3",
         "10000.0",
         null,
         null,
         "1986-04-30",
         null,
         "-9.8592",
         null,
         null,
         null,
         null,
         null
        ],
        [
         "4",
         "10000.0",
         null,
         null,
         "1986-05-30",
         null,
         "-22.2656",
         null,
         null,
         null,
         null,
         null
        ],
        [
         "5",
         "10000.0",
         null,
         null,
         "1986-06-30",
         null,
         "-0.5025",
         null,
         null,
         null,
         null,
         null
        ],
        [
         "6",
         "10000.0",
         null,
         null,
         "1986-07-31",
         null,
         "-8.0808",
         null,
         null,
         null,
         null,
         null
        ],
        [
         "7",
         "10000.0",
         null,
         null,
         "1986-08-29",
         null,
         "-33.3333",
         null,
         null,
         null,
         null,
         null
        ],
        [
         "8",
         "10000.0",
         null,
         null,
         "1986-09-30",
         null,
         "-5.7143",
         null,
         null,
         null,
         null,
         null
        ],
        [
         "9",
         "10000.0",
         null,
         null,
         "1986-10-31",
         null,
         "-24.2424",
         null,
         null,
         null,
         null,
         null
        ],
        [
         "10",
         "10000.0",
         null,
         null,
         "1986-11-28",
         null,
         "6.0",
         null,
         null,
         null,
         null,
         null
        ],
        [
         "11",
         "10000.0",
         null,
         null,
         "1986-12-31",
         null,
         "-37.7358",
         null,
         null,
         null,
         null,
         null
        ],
        [
         "12",
         "10000.0",
         null,
         null,
         "1987-01-30",
         null,
         "-21.2121",
         null,
         null,
         null,
         null,
         null
        ],
        [
         "13",
         "10000.0",
         null,
         null,
         "1987-02-27",
         null,
         "0.0",
         null,
         null,
         null,
         null,
         null
        ],
        [
         "14",
         "10000.0",
         null,
         null,
         "1987-03-31",
         null,
         "-30.7692",
         null,
         null,
         null,
         null,
         null
        ],
        [
         "15",
         "10000.0",
         null,
         null,
         "1987-04-30",
         null,
         "-6.25",
         null,
         null,
         null,
         null,
         null
        ],
        [
         "16",
         "10000.0",
         null,
         null,
         "1987-05-29",
         null,
         "-6.6667",
         null,
         null,
         null,
         null,
         null
        ],
        [
         "17",
         "10001.0",
         null,
         null,
         "1986-01-31",
         null,
         null,
         null,
         null,
         null,
         null,
         null
        ],
        [
         "18",
         "10001.0",
         null,
         null,
         "1986-02-28",
         null,
         "2.0408",
         null,
         null,
         null,
         null,
         null
        ],
        [
         "19",
         "10001.0",
         null,
         null,
         "1986-03-31",
         null,
         "2.52",
         null,
         null,
         null,
         null,
         null
        ],
        [
         "20",
         "10001.0",
         null,
         null,
         "1986-04-30",
         null,
         "0.9901",
         null,
         null,
         null,
         null,
         null
        ],
        [
         "21",
         "10001.0",
         null,
         null,
         "1986-05-30",
         null,
         "-0.9804",
         null,
         null,
         null,
         null,
         null
        ],
        [
         "22",
         "10001.0",
         null,
         null,
         "1986-06-30",
         null,
         "-1.3069",
         null,
         null,
         null,
         null,
         null
        ],
        [
         "23",
         "10001.0",
         null,
         null,
         "1986-07-31",
         null,
         "-1.0204",
         null,
         null,
         null,
         null,
         null
        ],
        [
         "24",
         "10001.0",
         null,
         null,
         "1986-08-29",
         null,
         "7.2165",
         null,
         null,
         null,
         null,
         null
        ],
        [
         "25",
         "10001.0",
         null,
         null,
         "1986-09-30",
         null,
         "-0.3077",
         null,
         null,
         null,
         null,
         null
        ],
        [
         "26",
         "10001.0",
         null,
         null,
         "1986-10-31",
         null,
         "3.9216",
         null,
         null,
         null,
         null,
         null
        ],
        [
         "27",
         "10001.0",
         null,
         null,
         "1986-11-28",
         null,
         "5.6604",
         null,
         null,
         null,
         null,
         null
        ],
        [
         "28",
         "10001.0",
         null,
         null,
         "1986-12-31",
         null,
         "1.5",
         null,
         null,
         null,
         null,
         null
        ],
        [
         "29",
         "10001.0",
         null,
         null,
         "1987-01-30",
         null,
         "-3.5714",
         null,
         null,
         null,
         null,
         null
        ],
        [
         "30",
         "10001.0",
         null,
         null,
         "1987-02-27",
         null,
         "-7.4074",
         null,
         null,
         null,
         null,
         null
        ],
        [
         "31",
         "10001.0",
         null,
         null,
         "1987-03-31",
         null,
         "3.68",
         null,
         null,
         null,
         null,
         null
        ],
        [
         "32",
         "10001.0",
         null,
         null,
         "1987-04-30",
         null,
         "-3.9216",
         null,
         null,
         null,
         null,
         null
        ],
        [
         "33",
         "10001.0",
         null,
         null,
         "1987-05-29",
         null,
         "-7.1429",
         null,
         null,
         null,
         null,
         null
        ],
        [
         "34",
         "10001.0",
         null,
         null,
         "1987-06-30",
         null,
         "5.1429",
         null,
         null,
         null,
         null,
         null
        ],
        [
         "35",
         "10001.0",
         null,
         null,
         "1987-07-31",
         null,
         "2.1277",
         null,
         null,
         null,
         null,
         null
        ],
        [
         "36",
         "10001.0",
         null,
         null,
         "1987-08-31",
         null,
         "8.3333",
         null,
         null,
         null,
         null,
         null
        ],
        [
         "37",
         "10001.0",
         null,
         null,
         "1987-09-30",
         null,
         "-2.2308",
         null,
         null,
         null,
         null,
         null
        ],
        [
         "38",
         "10001.0",
         null,
         null,
         "1987-10-30",
         null,
         "2.0",
         null,
         null,
         null,
         null,
         null
        ],
        [
         "39",
         "10001.0",
         null,
         null,
         "1987-11-30",
         null,
         "-2.9412",
         null,
         null,
         null,
         null,
         null
        ],
        [
         "40",
         "10001.0",
         null,
         null,
         "1987-12-31",
         null,
         "-3.3535",
         null,
         null,
         null,
         null,
         null
        ],
        [
         "41",
         "10001.0",
         null,
         null,
         "1988-01-29",
         null,
         "6.383",
         null,
         null,
         null,
         null,
         null
        ],
        [
         "42",
         "10001.0",
         null,
         null,
         "1988-02-29",
         null,
         "8.0",
         null,
         null,
         null,
         null,
         null
        ],
        [
         "43",
         "10001.0",
         null,
         null,
         "1988-03-31",
         null,
         "-7.6296",
         null,
         null,
         null,
         null,
         null
        ],
        [
         "44",
         "10001.0",
         null,
         null,
         "1988-04-29",
         null,
         "3.0612",
         null,
         null,
         null,
         null,
         null
        ],
        [
         "45",
         "10001.0",
         null,
         null,
         "1988-05-31",
         null,
         "1.9802",
         null,
         null,
         null,
         null,
         null
        ],
        [
         "46",
         "10001.0",
         null,
         null,
         "1988-06-30",
         null,
         "-1.2039",
         null,
         null,
         null,
         null,
         null
        ],
        [
         "47",
         "10001.0",
         null,
         null,
         "1988-07-29",
         null,
         "3.0",
         null,
         null,
         null,
         null,
         null
        ],
        [
         "48",
         "10001.0",
         null,
         null,
         "1988-08-31",
         null,
         "2.9126",
         null,
         null,
         null,
         null,
         null
        ],
        [
         "49",
         "10001.0",
         null,
         null,
         "1988-09-30",
         null,
         "-2.1132",
         null,
         null,
         null,
         null,
         null
        ]
       ],
       "shape": {
        "columns": 11,
        "rows": 4064218
       }
      },
      "text/html": [
       "<div>\n",
       "<style scoped>\n",
       "    .dataframe tbody tr th:only-of-type {\n",
       "        vertical-align: middle;\n",
       "    }\n",
       "\n",
       "    .dataframe tbody tr th {\n",
       "        vertical-align: top;\n",
       "    }\n",
       "\n",
       "    .dataframe thead th {\n",
       "        text-align: right;\n",
       "    }\n",
       "</style>\n",
       "<table border=\"1\" class=\"dataframe\">\n",
       "  <thead>\n",
       "    <tr style=\"text-align: right;\">\n",
       "      <th></th>\n",
       "      <th>permno</th>\n",
       "      <th>cik_x</th>\n",
       "      <th>tic_x</th>\n",
       "      <th>month</th>\n",
       "      <th>similarity_score_x</th>\n",
       "      <th>ret_x</th>\n",
       "      <th>cik_y</th>\n",
       "      <th>tic_y</th>\n",
       "      <th>similarity_score_y</th>\n",
       "      <th>ret_y</th>\n",
       "      <th>quintile</th>\n",
       "    </tr>\n",
       "  </thead>\n",
       "  <tbody>\n",
       "    <tr>\n",
       "      <th>0</th>\n",
       "      <td>10000.0</td>\n",
       "      <td>NaN</td>\n",
       "      <td>NaN</td>\n",
       "      <td>1986-01-31</td>\n",
       "      <td>NaN</td>\n",
       "      <td>NaN</td>\n",
       "      <td>NaN</td>\n",
       "      <td>NaN</td>\n",
       "      <td>NaN</td>\n",
       "      <td>NaN</td>\n",
       "      <td>NaN</td>\n",
       "    </tr>\n",
       "    <tr>\n",
       "      <th>1</th>\n",
       "      <td>10000.0</td>\n",
       "      <td>NaN</td>\n",
       "      <td>NaN</td>\n",
       "      <td>1986-02-28</td>\n",
       "      <td>NaN</td>\n",
       "      <td>-25.7143</td>\n",
       "      <td>NaN</td>\n",
       "      <td>NaN</td>\n",
       "      <td>NaN</td>\n",
       "      <td>NaN</td>\n",
       "      <td>NaN</td>\n",
       "    </tr>\n",
       "    <tr>\n",
       "      <th>2</th>\n",
       "      <td>10000.0</td>\n",
       "      <td>NaN</td>\n",
       "      <td>NaN</td>\n",
       "      <td>1986-03-31</td>\n",
       "      <td>NaN</td>\n",
       "      <td>36.5385</td>\n",
       "      <td>NaN</td>\n",
       "      <td>NaN</td>\n",
       "      <td>NaN</td>\n",
       "      <td>NaN</td>\n",
       "      <td>NaN</td>\n",
       "    </tr>\n",
       "    <tr>\n",
       "      <th>3</th>\n",
       "      <td>10000.0</td>\n",
       "      <td>NaN</td>\n",
       "      <td>NaN</td>\n",
       "      <td>1986-04-30</td>\n",
       "      <td>NaN</td>\n",
       "      <td>-9.8592</td>\n",
       "      <td>NaN</td>\n",
       "      <td>NaN</td>\n",
       "      <td>NaN</td>\n",
       "      <td>NaN</td>\n",
       "      <td>NaN</td>\n",
       "    </tr>\n",
       "    <tr>\n",
       "      <th>4</th>\n",
       "      <td>10000.0</td>\n",
       "      <td>NaN</td>\n",
       "      <td>NaN</td>\n",
       "      <td>1986-05-30</td>\n",
       "      <td>NaN</td>\n",
       "      <td>-22.2656</td>\n",
       "      <td>NaN</td>\n",
       "      <td>NaN</td>\n",
       "      <td>NaN</td>\n",
       "      <td>NaN</td>\n",
       "      <td>NaN</td>\n",
       "    </tr>\n",
       "    <tr>\n",
       "      <th>...</th>\n",
       "      <td>...</td>\n",
       "      <td>...</td>\n",
       "      <td>...</td>\n",
       "      <td>...</td>\n",
       "      <td>...</td>\n",
       "      <td>...</td>\n",
       "      <td>...</td>\n",
       "      <td>...</td>\n",
       "      <td>...</td>\n",
       "      <td>...</td>\n",
       "      <td>...</td>\n",
       "    </tr>\n",
       "    <tr>\n",
       "      <th>4064213</th>\n",
       "      <td>93436.0</td>\n",
       "      <td>NaN</td>\n",
       "      <td>NaN</td>\n",
       "      <td>2024-08-30</td>\n",
       "      <td>NaN</td>\n",
       "      <td>-7.7391</td>\n",
       "      <td>NaN</td>\n",
       "      <td>NaN</td>\n",
       "      <td>NaN</td>\n",
       "      <td>NaN</td>\n",
       "      <td>NaN</td>\n",
       "    </tr>\n",
       "    <tr>\n",
       "      <th>4064214</th>\n",
       "      <td>93436.0</td>\n",
       "      <td>NaN</td>\n",
       "      <td>NaN</td>\n",
       "      <td>2024-09-30</td>\n",
       "      <td>NaN</td>\n",
       "      <td>22.1942</td>\n",
       "      <td>NaN</td>\n",
       "      <td>NaN</td>\n",
       "      <td>NaN</td>\n",
       "      <td>NaN</td>\n",
       "      <td>NaN</td>\n",
       "    </tr>\n",
       "    <tr>\n",
       "      <th>4064215</th>\n",
       "      <td>93436.0</td>\n",
       "      <td>1318605.0</td>\n",
       "      <td>tsla</td>\n",
       "      <td>2024-10-31</td>\n",
       "      <td>0.866583</td>\n",
       "      <td>-4.5025</td>\n",
       "      <td>1318605.0</td>\n",
       "      <td>tsla</td>\n",
       "      <td>0.866583</td>\n",
       "      <td>-4.5025</td>\n",
       "      <td>1.0</td>\n",
       "    </tr>\n",
       "    <tr>\n",
       "      <th>4064216</th>\n",
       "      <td>93436.0</td>\n",
       "      <td>NaN</td>\n",
       "      <td>NaN</td>\n",
       "      <td>2024-11-29</td>\n",
       "      <td>NaN</td>\n",
       "      <td>38.1469</td>\n",
       "      <td>NaN</td>\n",
       "      <td>NaN</td>\n",
       "      <td>NaN</td>\n",
       "      <td>NaN</td>\n",
       "      <td>NaN</td>\n",
       "    </tr>\n",
       "    <tr>\n",
       "      <th>4064217</th>\n",
       "      <td>93436.0</td>\n",
       "      <td>NaN</td>\n",
       "      <td>NaN</td>\n",
       "      <td>2024-12-31</td>\n",
       "      <td>NaN</td>\n",
       "      <td>17.0008</td>\n",
       "      <td>NaN</td>\n",
       "      <td>NaN</td>\n",
       "      <td>NaN</td>\n",
       "      <td>NaN</td>\n",
       "      <td>NaN</td>\n",
       "    </tr>\n",
       "  </tbody>\n",
       "</table>\n",
       "<p>4064218 rows × 11 columns</p>\n",
       "</div>"
      ],
      "text/plain": [
       "          permno      cik_x tic_x       month  similarity_score_x    ret_x  \\\n",
       "0        10000.0        NaN   NaN  1986-01-31                 NaN      NaN   \n",
       "1        10000.0        NaN   NaN  1986-02-28                 NaN -25.7143   \n",
       "2        10000.0        NaN   NaN  1986-03-31                 NaN  36.5385   \n",
       "3        10000.0        NaN   NaN  1986-04-30                 NaN  -9.8592   \n",
       "4        10000.0        NaN   NaN  1986-05-30                 NaN -22.2656   \n",
       "...          ...        ...   ...         ...                 ...      ...   \n",
       "4064213  93436.0        NaN   NaN  2024-08-30                 NaN  -7.7391   \n",
       "4064214  93436.0        NaN   NaN  2024-09-30                 NaN  22.1942   \n",
       "4064215  93436.0  1318605.0  tsla  2024-10-31            0.866583  -4.5025   \n",
       "4064216  93436.0        NaN   NaN  2024-11-29                 NaN  38.1469   \n",
       "4064217  93436.0        NaN   NaN  2024-12-31                 NaN  17.0008   \n",
       "\n",
       "             cik_y tic_y  similarity_score_y   ret_y  quintile  \n",
       "0              NaN   NaN                 NaN     NaN       NaN  \n",
       "1              NaN   NaN                 NaN     NaN       NaN  \n",
       "2              NaN   NaN                 NaN     NaN       NaN  \n",
       "3              NaN   NaN                 NaN     NaN       NaN  \n",
       "4              NaN   NaN                 NaN     NaN       NaN  \n",
       "...            ...   ...                 ...     ...       ...  \n",
       "4064213        NaN   NaN                 NaN     NaN       NaN  \n",
       "4064214        NaN   NaN                 NaN     NaN       NaN  \n",
       "4064215  1318605.0  tsla            0.866583 -4.5025       1.0  \n",
       "4064216        NaN   NaN                 NaN     NaN       NaN  \n",
       "4064217        NaN   NaN                 NaN     NaN       NaN  \n",
       "\n",
       "[4064218 rows x 11 columns]"
      ]
     },
     "execution_count": 213,
     "metadata": {},
     "output_type": "execute_result"
    }
   ],
   "source": [
    "df = df.merge(quintile_df, on=['permno', 'month'], how='left')\n",
    "\n",
    "df"
   ]
  },
  {
   "cell_type": "markdown",
   "id": "72349ac9",
   "metadata": {},
   "source": [
    "Clean it up:"
   ]
  },
  {
   "cell_type": "code",
   "execution_count": 214,
   "id": "45b6c7cd",
   "metadata": {},
   "outputs": [],
   "source": [
    "\n",
    "# Keep original df columns\n",
    "columns_to_keep = [col for col in df.columns if col.endswith('_x')]\n",
    "df = df[columns_to_keep + ['permno', 'month', 'quintile']]  # Add merge keys and new quintile\n",
    "\n",
    "# Rename columns\n",
    "df = df.rename(columns=lambda x: x.replace('_x', ''))  # Remove _x suffix"
   ]
  },
  {
   "cell_type": "markdown",
   "id": "5f8aac32",
   "metadata": {},
   "source": [
    "Forward-filling the quintile ranks to the rows where we assume that traders trade on the old report's similarity score until a new report comes out and a new score is computed."
   ]
  },
  {
   "cell_type": "code",
   "execution_count": 215,
   "id": "d7f0f16a",
   "metadata": {},
   "outputs": [
    {
     "data": {
      "application/vnd.microsoft.datawrangler.viewer.v0+json": {
       "columns": [
        {
         "name": "index",
         "rawType": "int64",
         "type": "integer"
        },
        {
         "name": "cik",
         "rawType": "float64",
         "type": "float"
        },
        {
         "name": "tic",
         "rawType": "object",
         "type": "unknown"
        },
        {
         "name": "similarity_score",
         "rawType": "float64",
         "type": "float"
        },
        {
         "name": "ret",
         "rawType": "float64",
         "type": "float"
        },
        {
         "name": "permno",
         "rawType": "float64",
         "type": "float"
        },
        {
         "name": "month",
         "rawType": "object",
         "type": "string"
        },
        {
         "name": "quintile",
         "rawType": "float64",
         "type": "float"
        }
       ],
       "conversionMethod": "pd.DataFrame",
       "ref": "9dcc5027-bbeb-4e08-8148-53f3715a8548",
       "rows": [
        [
         "0",
         null,
         null,
         null,
         null,
         "10000.0",
         "1986-01-31",
         null
        ],
        [
         "1",
         null,
         null,
         null,
         "-25.7143",
         "10000.0",
         "1986-02-28",
         null
        ],
        [
         "2",
         null,
         null,
         null,
         "36.5385",
         "10000.0",
         "1986-03-31",
         null
        ],
        [
         "3",
         null,
         null,
         null,
         "-9.8592",
         "10000.0",
         "1986-04-30",
         null
        ],
        [
         "4",
         null,
         null,
         null,
         "-22.2656",
         "10000.0",
         "1986-05-30",
         null
        ],
        [
         "5",
         null,
         null,
         null,
         "-0.5025",
         "10000.0",
         "1986-06-30",
         null
        ],
        [
         "6",
         null,
         null,
         null,
         "-8.0808",
         "10000.0",
         "1986-07-31",
         null
        ],
        [
         "7",
         null,
         null,
         null,
         "-33.3333",
         "10000.0",
         "1986-08-29",
         null
        ],
        [
         "8",
         null,
         null,
         null,
         "-5.7143",
         "10000.0",
         "1986-09-30",
         null
        ],
        [
         "9",
         null,
         null,
         null,
         "-24.2424",
         "10000.0",
         "1986-10-31",
         null
        ],
        [
         "10",
         null,
         null,
         null,
         "6.0",
         "10000.0",
         "1986-11-28",
         null
        ],
        [
         "11",
         null,
         null,
         null,
         "-37.7358",
         "10000.0",
         "1986-12-31",
         null
        ],
        [
         "12",
         null,
         null,
         null,
         "-21.2121",
         "10000.0",
         "1987-01-30",
         null
        ],
        [
         "13",
         null,
         null,
         null,
         "0.0",
         "10000.0",
         "1987-02-27",
         null
        ],
        [
         "14",
         null,
         null,
         null,
         "-30.7692",
         "10000.0",
         "1987-03-31",
         null
        ],
        [
         "15",
         null,
         null,
         null,
         "-6.25",
         "10000.0",
         "1987-04-30",
         null
        ],
        [
         "16",
         null,
         null,
         null,
         "-6.6667",
         "10000.0",
         "1987-05-29",
         null
        ],
        [
         "17",
         null,
         null,
         null,
         null,
         "10001.0",
         "1986-01-31",
         null
        ],
        [
         "18",
         null,
         null,
         null,
         "2.0408",
         "10001.0",
         "1986-02-28",
         null
        ],
        [
         "19",
         null,
         null,
         null,
         "2.52",
         "10001.0",
         "1986-03-31",
         null
        ],
        [
         "20",
         null,
         null,
         null,
         "0.9901",
         "10001.0",
         "1986-04-30",
         null
        ],
        [
         "21",
         null,
         null,
         null,
         "-0.9804",
         "10001.0",
         "1986-05-30",
         null
        ],
        [
         "22",
         null,
         null,
         null,
         "-1.3069",
         "10001.0",
         "1986-06-30",
         null
        ],
        [
         "23",
         null,
         null,
         null,
         "-1.0204",
         "10001.0",
         "1986-07-31",
         null
        ],
        [
         "24",
         null,
         null,
         null,
         "7.2165",
         "10001.0",
         "1986-08-29",
         null
        ],
        [
         "25",
         null,
         null,
         null,
         "-0.3077",
         "10001.0",
         "1986-09-30",
         null
        ],
        [
         "26",
         null,
         null,
         null,
         "3.9216",
         "10001.0",
         "1986-10-31",
         null
        ],
        [
         "27",
         null,
         null,
         null,
         "5.6604",
         "10001.0",
         "1986-11-28",
         null
        ],
        [
         "28",
         null,
         null,
         null,
         "1.5",
         "10001.0",
         "1986-12-31",
         null
        ],
        [
         "29",
         null,
         null,
         null,
         "-3.5714",
         "10001.0",
         "1987-01-30",
         null
        ],
        [
         "30",
         null,
         null,
         null,
         "-7.4074",
         "10001.0",
         "1987-02-27",
         null
        ],
        [
         "31",
         null,
         null,
         null,
         "3.68",
         "10001.0",
         "1987-03-31",
         null
        ],
        [
         "32",
         null,
         null,
         null,
         "-3.9216",
         "10001.0",
         "1987-04-30",
         null
        ],
        [
         "33",
         null,
         null,
         null,
         "-7.1429",
         "10001.0",
         "1987-05-29",
         null
        ],
        [
         "34",
         null,
         null,
         null,
         "5.1429",
         "10001.0",
         "1987-06-30",
         null
        ],
        [
         "35",
         null,
         null,
         null,
         "2.1277",
         "10001.0",
         "1987-07-31",
         null
        ],
        [
         "36",
         null,
         null,
         null,
         "8.3333",
         "10001.0",
         "1987-08-31",
         null
        ],
        [
         "37",
         null,
         null,
         null,
         "-2.2308",
         "10001.0",
         "1987-09-30",
         null
        ],
        [
         "38",
         null,
         null,
         null,
         "2.0",
         "10001.0",
         "1987-10-30",
         null
        ],
        [
         "39",
         null,
         null,
         null,
         "-2.9412",
         "10001.0",
         "1987-11-30",
         null
        ],
        [
         "40",
         null,
         null,
         null,
         "-3.3535",
         "10001.0",
         "1987-12-31",
         null
        ],
        [
         "41",
         null,
         null,
         null,
         "6.383",
         "10001.0",
         "1988-01-29",
         null
        ],
        [
         "42",
         null,
         null,
         null,
         "8.0",
         "10001.0",
         "1988-02-29",
         null
        ],
        [
         "43",
         null,
         null,
         null,
         "-7.6296",
         "10001.0",
         "1988-03-31",
         null
        ],
        [
         "44",
         null,
         null,
         null,
         "3.0612",
         "10001.0",
         "1988-04-29",
         null
        ],
        [
         "45",
         null,
         null,
         null,
         "1.9802",
         "10001.0",
         "1988-05-31",
         null
        ],
        [
         "46",
         null,
         null,
         null,
         "-1.2039",
         "10001.0",
         "1988-06-30",
         null
        ],
        [
         "47",
         null,
         null,
         null,
         "3.0",
         "10001.0",
         "1988-07-29",
         null
        ],
        [
         "48",
         null,
         null,
         null,
         "2.9126",
         "10001.0",
         "1988-08-31",
         null
        ],
        [
         "49",
         null,
         null,
         null,
         "-2.1132",
         "10001.0",
         "1988-09-30",
         null
        ]
       ],
       "shape": {
        "columns": 7,
        "rows": 4064218
       }
      },
      "text/html": [
       "<div>\n",
       "<style scoped>\n",
       "    .dataframe tbody tr th:only-of-type {\n",
       "        vertical-align: middle;\n",
       "    }\n",
       "\n",
       "    .dataframe tbody tr th {\n",
       "        vertical-align: top;\n",
       "    }\n",
       "\n",
       "    .dataframe thead th {\n",
       "        text-align: right;\n",
       "    }\n",
       "</style>\n",
       "<table border=\"1\" class=\"dataframe\">\n",
       "  <thead>\n",
       "    <tr style=\"text-align: right;\">\n",
       "      <th></th>\n",
       "      <th>cik</th>\n",
       "      <th>tic</th>\n",
       "      <th>similarity_score</th>\n",
       "      <th>ret</th>\n",
       "      <th>permno</th>\n",
       "      <th>month</th>\n",
       "      <th>quintile</th>\n",
       "    </tr>\n",
       "  </thead>\n",
       "  <tbody>\n",
       "    <tr>\n",
       "      <th>0</th>\n",
       "      <td>NaN</td>\n",
       "      <td>NaN</td>\n",
       "      <td>NaN</td>\n",
       "      <td>NaN</td>\n",
       "      <td>10000.0</td>\n",
       "      <td>1986-01-31</td>\n",
       "      <td>NaN</td>\n",
       "    </tr>\n",
       "    <tr>\n",
       "      <th>1</th>\n",
       "      <td>NaN</td>\n",
       "      <td>NaN</td>\n",
       "      <td>NaN</td>\n",
       "      <td>-25.7143</td>\n",
       "      <td>10000.0</td>\n",
       "      <td>1986-02-28</td>\n",
       "      <td>NaN</td>\n",
       "    </tr>\n",
       "    <tr>\n",
       "      <th>2</th>\n",
       "      <td>NaN</td>\n",
       "      <td>NaN</td>\n",
       "      <td>NaN</td>\n",
       "      <td>36.5385</td>\n",
       "      <td>10000.0</td>\n",
       "      <td>1986-03-31</td>\n",
       "      <td>NaN</td>\n",
       "    </tr>\n",
       "    <tr>\n",
       "      <th>3</th>\n",
       "      <td>NaN</td>\n",
       "      <td>NaN</td>\n",
       "      <td>NaN</td>\n",
       "      <td>-9.8592</td>\n",
       "      <td>10000.0</td>\n",
       "      <td>1986-04-30</td>\n",
       "      <td>NaN</td>\n",
       "    </tr>\n",
       "    <tr>\n",
       "      <th>4</th>\n",
       "      <td>NaN</td>\n",
       "      <td>NaN</td>\n",
       "      <td>NaN</td>\n",
       "      <td>-22.2656</td>\n",
       "      <td>10000.0</td>\n",
       "      <td>1986-05-30</td>\n",
       "      <td>NaN</td>\n",
       "    </tr>\n",
       "    <tr>\n",
       "      <th>...</th>\n",
       "      <td>...</td>\n",
       "      <td>...</td>\n",
       "      <td>...</td>\n",
       "      <td>...</td>\n",
       "      <td>...</td>\n",
       "      <td>...</td>\n",
       "      <td>...</td>\n",
       "    </tr>\n",
       "    <tr>\n",
       "      <th>4064213</th>\n",
       "      <td>NaN</td>\n",
       "      <td>NaN</td>\n",
       "      <td>NaN</td>\n",
       "      <td>-7.7391</td>\n",
       "      <td>93436.0</td>\n",
       "      <td>2024-08-30</td>\n",
       "      <td>2.0</td>\n",
       "    </tr>\n",
       "    <tr>\n",
       "      <th>4064214</th>\n",
       "      <td>NaN</td>\n",
       "      <td>NaN</td>\n",
       "      <td>NaN</td>\n",
       "      <td>22.1942</td>\n",
       "      <td>93436.0</td>\n",
       "      <td>2024-09-30</td>\n",
       "      <td>2.0</td>\n",
       "    </tr>\n",
       "    <tr>\n",
       "      <th>4064215</th>\n",
       "      <td>1318605.0</td>\n",
       "      <td>tsla</td>\n",
       "      <td>0.866583</td>\n",
       "      <td>-4.5025</td>\n",
       "      <td>93436.0</td>\n",
       "      <td>2024-10-31</td>\n",
       "      <td>1.0</td>\n",
       "    </tr>\n",
       "    <tr>\n",
       "      <th>4064216</th>\n",
       "      <td>NaN</td>\n",
       "      <td>NaN</td>\n",
       "      <td>NaN</td>\n",
       "      <td>38.1469</td>\n",
       "      <td>93436.0</td>\n",
       "      <td>2024-11-29</td>\n",
       "      <td>1.0</td>\n",
       "    </tr>\n",
       "    <tr>\n",
       "      <th>4064217</th>\n",
       "      <td>NaN</td>\n",
       "      <td>NaN</td>\n",
       "      <td>NaN</td>\n",
       "      <td>17.0008</td>\n",
       "      <td>93436.0</td>\n",
       "      <td>2024-12-31</td>\n",
       "      <td>1.0</td>\n",
       "    </tr>\n",
       "  </tbody>\n",
       "</table>\n",
       "<p>4064218 rows × 7 columns</p>\n",
       "</div>"
      ],
      "text/plain": [
       "               cik   tic  similarity_score      ret   permno       month  \\\n",
       "0              NaN   NaN               NaN      NaN  10000.0  1986-01-31   \n",
       "1              NaN   NaN               NaN -25.7143  10000.0  1986-02-28   \n",
       "2              NaN   NaN               NaN  36.5385  10000.0  1986-03-31   \n",
       "3              NaN   NaN               NaN  -9.8592  10000.0  1986-04-30   \n",
       "4              NaN   NaN               NaN -22.2656  10000.0  1986-05-30   \n",
       "...            ...   ...               ...      ...      ...         ...   \n",
       "4064213        NaN   NaN               NaN  -7.7391  93436.0  2024-08-30   \n",
       "4064214        NaN   NaN               NaN  22.1942  93436.0  2024-09-30   \n",
       "4064215  1318605.0  tsla          0.866583  -4.5025  93436.0  2024-10-31   \n",
       "4064216        NaN   NaN               NaN  38.1469  93436.0  2024-11-29   \n",
       "4064217        NaN   NaN               NaN  17.0008  93436.0  2024-12-31   \n",
       "\n",
       "         quintile  \n",
       "0             NaN  \n",
       "1             NaN  \n",
       "2             NaN  \n",
       "3             NaN  \n",
       "4             NaN  \n",
       "...           ...  \n",
       "4064213       2.0  \n",
       "4064214       2.0  \n",
       "4064215       1.0  \n",
       "4064216       1.0  \n",
       "4064217       1.0  \n",
       "\n",
       "[4064218 rows x 7 columns]"
      ]
     },
     "execution_count": 215,
     "metadata": {},
     "output_type": "execute_result"
    }
   ],
   "source": [
    "df = df.sort_values(['permno', 'month'])\n",
    "df['quintile'] = df.groupby('permno')['quintile'].ffill()\n",
    "\n",
    "df"
   ]
  },
  {
   "cell_type": "markdown",
   "id": "6a3c82cf",
   "metadata": {},
   "source": [
    "Dropping rows without a quintile assigned: there were never any reports for those months."
   ]
  },
  {
   "cell_type": "code",
   "execution_count": 216,
   "id": "a16c96fb",
   "metadata": {},
   "outputs": [
    {
     "data": {
      "application/vnd.microsoft.datawrangler.viewer.v0+json": {
       "columns": [
        {
         "name": "index",
         "rawType": "int64",
         "type": "integer"
        },
        {
         "name": "cik",
         "rawType": "float64",
         "type": "float"
        },
        {
         "name": "tic",
         "rawType": "object",
         "type": "unknown"
        },
        {
         "name": "similarity_score",
         "rawType": "float64",
         "type": "float"
        },
        {
         "name": "ret",
         "rawType": "float64",
         "type": "float"
        },
        {
         "name": "permno",
         "rawType": "float64",
         "type": "float"
        },
        {
         "name": "month",
         "rawType": "object",
         "type": "string"
        },
        {
         "name": "quintile",
         "rawType": "float64",
         "type": "float"
        }
       ],
       "conversionMethod": "pd.DataFrame",
       "ref": "40578157-f690-4e93-a6b6-6da90112909b",
       "rows": [
        [
         "4711",
         "785956.0",
         "jjsf",
         "0.7186216277430555",
         "4.1237",
         "10026.0",
         "1995-06-30",
         "1.0"
        ],
        [
         "4712",
         null,
         null,
         null,
         "-6.9307",
         "10026.0",
         "1995-07-31",
         "1.0"
        ],
        [
         "4713",
         "785956.0",
         "jjsf",
         "0.7227926997915116",
         "4.2553",
         "10026.0",
         "1995-08-31",
         "1.0"
        ],
        [
         "4714",
         null,
         null,
         null,
         "-4.0816",
         "10026.0",
         "1995-09-29",
         "1.0"
        ],
        [
         "4715",
         null,
         null,
         null,
         "-5.3192",
         "10026.0",
         "1995-10-31",
         "1.0"
        ],
        [
         "4716",
         null,
         null,
         null,
         "10.1124",
         "10026.0",
         "1995-11-30",
         "1.0"
        ],
        [
         "4717",
         null,
         null,
         null,
         "-10.2041",
         "10026.0",
         "1995-12-29",
         "1.0"
        ],
        [
         "4718",
         null,
         null,
         null,
         "9.0909",
         "10026.0",
         "1996-01-31",
         "1.0"
        ],
        [
         "4719",
         "785956.0",
         "jjsf",
         "0.874533323063964",
         "-1.0417",
         "10026.0",
         "1996-02-29",
         "2.0"
        ],
        [
         "4720",
         null,
         null,
         null,
         "0.0",
         "10026.0",
         "1996-03-29",
         "2.0"
        ],
        [
         "4721",
         null,
         null,
         null,
         "3.1579",
         "10026.0",
         "1996-04-30",
         "2.0"
        ],
        [
         "4722",
         "785956.0",
         "jjsf",
         "0.9678470365425924",
         "7.1429",
         "10026.0",
         "1996-05-31",
         "4.0"
        ],
        [
         "4723",
         null,
         null,
         null,
         "-12.381",
         "10026.0",
         "1996-06-28",
         "4.0"
        ],
        [
         "4724",
         null,
         null,
         null,
         "-11.413",
         "10026.0",
         "1996-07-31",
         "4.0"
        ],
        [
         "4725",
         null,
         null,
         null,
         "0.6135",
         "10026.0",
         "1996-08-30",
         "4.0"
        ],
        [
         "4726",
         null,
         null,
         null,
         "4.8781",
         "10026.0",
         "1996-09-30",
         "4.0"
        ],
        [
         "4727",
         null,
         null,
         null,
         "2.3256",
         "10026.0",
         "1996-10-31",
         "4.0"
        ],
        [
         "4728",
         null,
         null,
         null,
         "0.0",
         "10026.0",
         "1996-11-29",
         "4.0"
        ],
        [
         "4729",
         "785956.0",
         "jjsf",
         null,
         "22.7273",
         "10026.0",
         "1996-12-31",
         "4.0"
        ],
        [
         "4730",
         null,
         null,
         null,
         "-3.7037",
         "10026.0",
         "1997-01-31",
         "4.0"
        ],
        [
         "4731",
         "785956.0",
         "jjsf",
         "0.9074126251636412",
         "-0.4808",
         "10026.0",
         "1997-02-28",
         "2.0"
        ],
        [
         "4732",
         null,
         null,
         null,
         "-1.4493",
         "10026.0",
         "1997-03-31",
         "2.0"
        ],
        [
         "4733",
         null,
         null,
         null,
         "0.0",
         "10026.0",
         "1997-04-30",
         "2.0"
        ],
        [
         "4734",
         null,
         null,
         null,
         "11.7647",
         "10026.0",
         "1997-05-30",
         "2.0"
        ],
        [
         "4735",
         null,
         null,
         null,
         "7.8947",
         "10026.0",
         "1997-06-30",
         "2.0"
        ],
        [
         "4736",
         null,
         null,
         null,
         "2.439",
         "10026.0",
         "1997-07-31",
         "2.0"
        ],
        [
         "4737",
         null,
         null,
         null,
         "-1.5873",
         "10026.0",
         "1997-08-29",
         "2.0"
        ],
        [
         "4738",
         null,
         null,
         null,
         "4.8387",
         "10026.0",
         "1997-09-30",
         "2.0"
        ],
        [
         "4739",
         null,
         null,
         null,
         "4.6154",
         "10026.0",
         "1997-10-31",
         "2.0"
        ],
        [
         "4740",
         null,
         null,
         null,
         "-2.2059",
         "10026.0",
         "1997-11-28",
         "2.0"
        ],
        [
         "4741",
         "785956.0",
         "jjsf",
         null,
         "-1.5038",
         "10026.0",
         "1997-12-31",
         "2.0"
        ],
        [
         "4742",
         null,
         null,
         null,
         "-12.9771",
         "10026.0",
         "1998-01-30",
         "2.0"
        ],
        [
         "4743",
         null,
         null,
         null,
         "9.6491",
         "10026.0",
         "1998-02-27",
         "2.0"
        ],
        [
         "4744",
         null,
         null,
         null,
         "25.2",
         "10026.0",
         "1998-03-31",
         "2.0"
        ],
        [
         "4745",
         null,
         null,
         null,
         "-0.3195",
         "10026.0",
         "1998-04-30",
         "2.0"
        ],
        [
         "4746",
         null,
         null,
         null,
         "-0.9615",
         "10026.0",
         "1998-05-29",
         "2.0"
        ],
        [
         "4747",
         null,
         null,
         null,
         "8.0906",
         "10026.0",
         "1998-06-30",
         "2.0"
        ],
        [
         "4748",
         null,
         null,
         null,
         "-7.7844",
         "10026.0",
         "1998-07-31",
         "2.0"
        ],
        [
         "4749",
         "785956.0",
         "jjsf",
         null,
         "-18.1818",
         "10026.0",
         "1998-08-31",
         "2.0"
        ],
        [
         "4750",
         null,
         null,
         null,
         "17.4603",
         "10026.0",
         "1998-09-30",
         "2.0"
        ],
        [
         "4751",
         null,
         null,
         null,
         "21.6216",
         "10026.0",
         "1998-10-30",
         "2.0"
        ],
        [
         "4752",
         null,
         null,
         null,
         "-7.2222",
         "10026.0",
         "1998-11-30",
         "2.0"
        ],
        [
         "4753",
         "785956.0",
         "jjsf",
         null,
         "7.1856",
         "10026.0",
         "1998-12-31",
         "2.0"
        ],
        [
         "4754",
         null,
         null,
         null,
         "8.3799",
         "10026.0",
         "1999-01-29",
         "2.0"
        ],
        [
         "4755",
         null,
         null,
         null,
         "-12.8866",
         "10026.0",
         "1999-02-26",
         "2.0"
        ],
        [
         "4756",
         null,
         null,
         null,
         "-4.7337",
         "10026.0",
         "1999-03-31",
         "2.0"
        ],
        [
         "4757",
         "785956.0",
         "jjsf",
         null,
         "8.0745",
         "10026.0",
         "1999-04-30",
         "2.0"
        ],
        [
         "4759",
         null,
         null,
         null,
         "-4.5977",
         "10026.0",
         "1999-05-28",
         "2.0"
        ],
        [
         "4760",
         null,
         null,
         null,
         "15.6627",
         "10026.0",
         "1999-06-30",
         "2.0"
        ],
        [
         "4761",
         null,
         null,
         null,
         "0.0",
         "10026.0",
         "1999-07-30",
         "2.0"
        ]
       ],
       "shape": {
        "columns": 7,
        "rows": 548100
       }
      },
      "text/html": [
       "<div>\n",
       "<style scoped>\n",
       "    .dataframe tbody tr th:only-of-type {\n",
       "        vertical-align: middle;\n",
       "    }\n",
       "\n",
       "    .dataframe tbody tr th {\n",
       "        vertical-align: top;\n",
       "    }\n",
       "\n",
       "    .dataframe thead th {\n",
       "        text-align: right;\n",
       "    }\n",
       "</style>\n",
       "<table border=\"1\" class=\"dataframe\">\n",
       "  <thead>\n",
       "    <tr style=\"text-align: right;\">\n",
       "      <th></th>\n",
       "      <th>cik</th>\n",
       "      <th>tic</th>\n",
       "      <th>similarity_score</th>\n",
       "      <th>ret</th>\n",
       "      <th>permno</th>\n",
       "      <th>month</th>\n",
       "      <th>quintile</th>\n",
       "    </tr>\n",
       "  </thead>\n",
       "  <tbody>\n",
       "    <tr>\n",
       "      <th>4711</th>\n",
       "      <td>785956.0</td>\n",
       "      <td>jjsf</td>\n",
       "      <td>0.718622</td>\n",
       "      <td>4.1237</td>\n",
       "      <td>10026.0</td>\n",
       "      <td>1995-06-30</td>\n",
       "      <td>1.0</td>\n",
       "    </tr>\n",
       "    <tr>\n",
       "      <th>4712</th>\n",
       "      <td>NaN</td>\n",
       "      <td>NaN</td>\n",
       "      <td>NaN</td>\n",
       "      <td>-6.9307</td>\n",
       "      <td>10026.0</td>\n",
       "      <td>1995-07-31</td>\n",
       "      <td>1.0</td>\n",
       "    </tr>\n",
       "    <tr>\n",
       "      <th>4713</th>\n",
       "      <td>785956.0</td>\n",
       "      <td>jjsf</td>\n",
       "      <td>0.722793</td>\n",
       "      <td>4.2553</td>\n",
       "      <td>10026.0</td>\n",
       "      <td>1995-08-31</td>\n",
       "      <td>1.0</td>\n",
       "    </tr>\n",
       "    <tr>\n",
       "      <th>4714</th>\n",
       "      <td>NaN</td>\n",
       "      <td>NaN</td>\n",
       "      <td>NaN</td>\n",
       "      <td>-4.0816</td>\n",
       "      <td>10026.0</td>\n",
       "      <td>1995-09-29</td>\n",
       "      <td>1.0</td>\n",
       "    </tr>\n",
       "    <tr>\n",
       "      <th>4715</th>\n",
       "      <td>NaN</td>\n",
       "      <td>NaN</td>\n",
       "      <td>NaN</td>\n",
       "      <td>-5.3192</td>\n",
       "      <td>10026.0</td>\n",
       "      <td>1995-10-31</td>\n",
       "      <td>1.0</td>\n",
       "    </tr>\n",
       "    <tr>\n",
       "      <th>...</th>\n",
       "      <td>...</td>\n",
       "      <td>...</td>\n",
       "      <td>...</td>\n",
       "      <td>...</td>\n",
       "      <td>...</td>\n",
       "      <td>...</td>\n",
       "      <td>...</td>\n",
       "    </tr>\n",
       "    <tr>\n",
       "      <th>4064213</th>\n",
       "      <td>NaN</td>\n",
       "      <td>NaN</td>\n",
       "      <td>NaN</td>\n",
       "      <td>-7.7391</td>\n",
       "      <td>93436.0</td>\n",
       "      <td>2024-08-30</td>\n",
       "      <td>2.0</td>\n",
       "    </tr>\n",
       "    <tr>\n",
       "      <th>4064214</th>\n",
       "      <td>NaN</td>\n",
       "      <td>NaN</td>\n",
       "      <td>NaN</td>\n",
       "      <td>22.1942</td>\n",
       "      <td>93436.0</td>\n",
       "      <td>2024-09-30</td>\n",
       "      <td>2.0</td>\n",
       "    </tr>\n",
       "    <tr>\n",
       "      <th>4064215</th>\n",
       "      <td>1318605.0</td>\n",
       "      <td>tsla</td>\n",
       "      <td>0.866583</td>\n",
       "      <td>-4.5025</td>\n",
       "      <td>93436.0</td>\n",
       "      <td>2024-10-31</td>\n",
       "      <td>1.0</td>\n",
       "    </tr>\n",
       "    <tr>\n",
       "      <th>4064216</th>\n",
       "      <td>NaN</td>\n",
       "      <td>NaN</td>\n",
       "      <td>NaN</td>\n",
       "      <td>38.1469</td>\n",
       "      <td>93436.0</td>\n",
       "      <td>2024-11-29</td>\n",
       "      <td>1.0</td>\n",
       "    </tr>\n",
       "    <tr>\n",
       "      <th>4064217</th>\n",
       "      <td>NaN</td>\n",
       "      <td>NaN</td>\n",
       "      <td>NaN</td>\n",
       "      <td>17.0008</td>\n",
       "      <td>93436.0</td>\n",
       "      <td>2024-12-31</td>\n",
       "      <td>1.0</td>\n",
       "    </tr>\n",
       "  </tbody>\n",
       "</table>\n",
       "<p>548100 rows × 7 columns</p>\n",
       "</div>"
      ],
      "text/plain": [
       "               cik   tic  similarity_score      ret   permno       month  \\\n",
       "4711      785956.0  jjsf          0.718622   4.1237  10026.0  1995-06-30   \n",
       "4712           NaN   NaN               NaN  -6.9307  10026.0  1995-07-31   \n",
       "4713      785956.0  jjsf          0.722793   4.2553  10026.0  1995-08-31   \n",
       "4714           NaN   NaN               NaN  -4.0816  10026.0  1995-09-29   \n",
       "4715           NaN   NaN               NaN  -5.3192  10026.0  1995-10-31   \n",
       "...            ...   ...               ...      ...      ...         ...   \n",
       "4064213        NaN   NaN               NaN  -7.7391  93436.0  2024-08-30   \n",
       "4064214        NaN   NaN               NaN  22.1942  93436.0  2024-09-30   \n",
       "4064215  1318605.0  tsla          0.866583  -4.5025  93436.0  2024-10-31   \n",
       "4064216        NaN   NaN               NaN  38.1469  93436.0  2024-11-29   \n",
       "4064217        NaN   NaN               NaN  17.0008  93436.0  2024-12-31   \n",
       "\n",
       "         quintile  \n",
       "4711          1.0  \n",
       "4712          1.0  \n",
       "4713          1.0  \n",
       "4714          1.0  \n",
       "4715          1.0  \n",
       "...           ...  \n",
       "4064213       2.0  \n",
       "4064214       2.0  \n",
       "4064215       1.0  \n",
       "4064216       1.0  \n",
       "4064217       1.0  \n",
       "\n",
       "[548100 rows x 7 columns]"
      ]
     },
     "execution_count": 216,
     "metadata": {},
     "output_type": "execute_result"
    }
   ],
   "source": [
    "df = df.dropna(subset=['quintile'])\n",
    "\n",
    "df"
   ]
  },
  {
   "cell_type": "markdown",
   "id": "7be1f7e8",
   "metadata": {},
   "source": [
    "### Part 2: Constructing Portfolios and Trading on them."
   ]
  },
  {
   "cell_type": "markdown",
   "id": "7158323b",
   "metadata": {},
   "source": [
    "Compute monthly long-short portfolio returns"
   ]
  },
  {
   "cell_type": "code",
   "execution_count": 217,
   "id": "7b8f0b3e",
   "metadata": {},
   "outputs": [],
   "source": [
    "df = df.dropna(subset=['ret'])\n",
    "\n",
    "\n",
    "portfolio_rets = []\n",
    "for month, group in df.groupby('month'):\n",
    "    long_ret = group.loc[group['quintile'] == 5, 'ret'].mean()\n",
    "    short_ret = group.loc[group['quintile'] == 1, 'ret'].mean()\n",
    "    long_short = long_ret - short_ret\n",
    "    portfolio_rets.append({'month': month, 'portfolio_return': long_short})\n",
    "\n",
    "portfolio_df = pd.DataFrame(portfolio_rets)\n",
    "portfolio_df['month'] = pd.to_datetime(portfolio_df['month'])\n",
    "portfolio_df = portfolio_df.sort_values('month')"
   ]
  },
  {
   "cell_type": "markdown",
   "id": "f4b5ed6e",
   "metadata": {},
   "source": [
    "Calculate cumulative return (growth of $1, if ret is percent, convert to decimal first)"
   ]
  },
  {
   "cell_type": "code",
   "execution_count": 218,
   "id": "5df690f3",
   "metadata": {},
   "outputs": [
    {
     "data": {
      "application/vnd.microsoft.datawrangler.viewer.v0+json": {
       "columns": [
        {
         "name": "index",
         "rawType": "int64",
         "type": "integer"
        },
        {
         "name": "month",
         "rawType": "datetime64[ns]",
         "type": "datetime"
        },
        {
         "name": "portfolio_return",
         "rawType": "float64",
         "type": "float"
        },
        {
         "name": "portfolio_return_decimal",
         "rawType": "float64",
         "type": "float"
        },
        {
         "name": "cum_portfolio",
         "rawType": "float64",
         "type": "float"
        }
       ],
       "conversionMethod": "pd.DataFrame",
       "ref": "d59c2f6d-9ea1-4e3d-b3d4-06e631701394",
       "rows": [
        [
         "0",
         "1994-01-31 00:00:00",
         "16.980800000000002",
         "0.16980800000000001",
         "1.169808"
        ],
        [
         "1",
         "1994-02-28 00:00:00",
         "-32.32288666666667",
         "-0.32322886666666667",
         "0.7916922859423999"
        ],
        [
         "2",
         "1994-03-31 00:00:00",
         "-10.924323846153843",
         "-0.10924323846153844",
         "0.7052052567610338"
        ],
        [
         "3",
         "1994-04-29 00:00:00",
         "-2.1331190476190476",
         "-0.021331190476190476",
         "0.6901623891042534"
        ],
        [
         "4",
         "1994-05-31 00:00:00",
         "-0.27188221120984224",
         "-0.002718822112098422",
         "0.6882859603398181"
        ],
        [
         "5",
         "1994-06-30 00:00:00",
         "-1.7926142795232938",
         "-0.017926142795232938",
         "0.6759476479308125"
        ],
        [
         "6",
         "1994-07-29 00:00:00",
         "1.173611974789917",
         "0.01173611974789917",
         "0.6838806504702393"
        ],
        [
         "7",
         "1994-08-31 00:00:00",
         "-0.6439943340972745",
         "-0.006439943340972745",
         "0.6794764978292234"
        ],
        [
         "8",
         "1994-09-30 00:00:00",
         "-1.278395061728395",
         "-0.01278395061728395",
         "0.6707901038353695"
        ],
        [
         "9",
         "1994-10-31 00:00:00",
         "0.213928176277544",
         "0.0021392817627754403",
         "0.6722251128711548"
        ],
        [
         "10",
         "1994-11-30 00:00:00",
         "-1.8669824263038546",
         "-0.018669824263038547",
         "0.6596747881486491"
        ],
        [
         "11",
         "1994-12-30 00:00:00",
         "0.21637037037037032",
         "0.0021637037037037033",
         "0.6611021289310063"
        ],
        [
         "12",
         "1995-01-31 00:00:00",
         "1.5527852059925094",
         "0.015527852059925094",
         "0.6713676249855485"
        ],
        [
         "13",
         "1995-02-28 00:00:00",
         "-0.7256881533101049",
         "-0.007256881533101049",
         "0.666495589665869"
        ],
        [
         "14",
         "1995-03-31 00:00:00",
         "-0.9986711801782224",
         "-0.009986711801782224",
         "0.659839490294717"
        ],
        [
         "15",
         "1995-04-28 00:00:00",
         "1.1186645833333335",
         "0.011186645833333335",
         "0.6672208809794913"
        ],
        [
         "16",
         "1995-05-31 00:00:00",
         "-2.4529980171274213",
         "-0.024529980171274213",
         "0.6508539659992043"
        ],
        [
         "17",
         "1995-06-30 00:00:00",
         "1.268981731601731",
         "0.012689817316017309",
         "0.6591131839271395"
        ],
        [
         "18",
         "1995-07-31 00:00:00",
         "1.3294912882882866",
         "0.013294912882882865",
         "0.6678760362874102"
        ],
        [
         "19",
         "1995-08-31 00:00:00",
         "-0.8502939791338813",
         "-0.008502939791338813",
         "0.6621971265627804"
        ],
        [
         "20",
         "1995-09-29 00:00:00",
         "0.35511658119658074",
         "0.0035511658119658073",
         "0.6645486983594121"
        ],
        [
         "21",
         "1995-10-31 00:00:00",
         "0.3093929320155744",
         "0.003093929320155744",
         "0.6666047650619377"
        ],
        [
         "22",
         "1995-11-30 00:00:00",
         "-1.8577826611716217",
         "-0.018577826611716218",
         "0.6542206973180731"
        ],
        [
         "23",
         "1995-12-29 00:00:00",
         "1.686121181238453",
         "0.01686121181238453",
         "0.665251651067599"
        ],
        [
         "24",
         "1996-01-31 00:00:00",
         "1.7341840847967094",
         "0.017341840847967093",
         "0.6767883393242606"
        ],
        [
         "25",
         "1996-02-29 00:00:00",
         "0.04217744257436218",
         "0.00042177442574362176",
         "0.6770737913374291"
        ],
        [
         "26",
         "1996-03-29 00:00:00",
         "-0.027960937500000504",
         "-0.00027960937500000506",
         "0.6768844751578043"
        ],
        [
         "27",
         "1996-04-30 00:00:00",
         "-2.3807728171836873",
         "-0.02380772817183687",
         "0.6607693935695108"
        ],
        [
         "28",
         "1996-05-31 00:00:00",
         "-2.1933307876502335",
         "-0.021933307876502335",
         "0.646276535024981"
        ],
        [
         "29",
         "1996-06-28 00:00:00",
         "0.30754888888888665",
         "0.0030754888888888665",
         "0.6482641513275998"
        ],
        [
         "30",
         "1996-07-31 00:00:00",
         "2.7451393569739952",
         "0.027451393569739954",
         "0.6660599056828473"
        ],
        [
         "31",
         "1996-08-30 00:00:00",
         "0.34495640262000293",
         "0.003449564026200029",
         "0.6683575219727851"
        ],
        [
         "32",
         "1996-09-30 00:00:00",
         "-1.4264339197457474",
         "-0.014264339197457475",
         "0.6588238435741931"
        ],
        [
         "33",
         "1996-10-31 00:00:00",
         "2.4972502527202525",
         "0.024972502527202525",
         "0.6752763236728309"
        ],
        [
         "34",
         "1996-11-29 00:00:00",
         "-0.33480275862069053",
         "-0.0033480275862069054",
         "0.6730154799128618"
        ],
        [
         "35",
         "1996-12-31 00:00:00",
         "-1.0866705495356037",
         "-0.010866705495356037",
         "0.6657020188988331"
        ],
        [
         "36",
         "1997-01-31 00:00:00",
         "0.7156371392035084",
         "0.007156371392035083",
         "0.6704660297825007"
        ],
        [
         "37",
         "1997-02-28 00:00:00",
         "-0.7180267426045565",
         "-0.007180267426045565",
         "0.6656519043885832"
        ],
        [
         "38",
         "1997-03-31 00:00:00",
         "2.088114459580324",
         "0.02088114459580324",
         "0.679551478054593"
        ],
        [
         "39",
         "1997-04-30 00:00:00",
         "0.12284064806822342",
         "0.0012284064806822343",
         "0.6803862434941925"
        ],
        [
         "40",
         "1997-05-30 00:00:00",
         "-1.2618256643356647",
         "-0.012618256643356647",
         "0.6718009552571734"
        ],
        [
         "41",
         "1997-06-30 00:00:00",
         "-2.0389904264158742",
         "-0.020389904264158744",
         "0.6581029980949092"
        ],
        [
         "42",
         "1997-07-31 00:00:00",
         "-0.7519178695652178",
         "-0.007519178695652178",
         "0.6531546040520891"
        ],
        [
         "43",
         "1997-08-29 00:00:00",
         "-0.2144799199644285",
         "-0.002144799199644285",
         "0.6517537185800742"
        ],
        [
         "44",
         "1997-09-30 00:00:00",
         "2.503346152247188",
         "0.025033461522471878",
         "0.6680693702162765"
        ],
        [
         "45",
         "1997-10-31 00:00:00",
         "1.0489391992498558",
         "0.010489391992498558",
         "0.6750770117186567"
        ],
        [
         "46",
         "1997-11-28 00:00:00",
         "2.927771981346846",
         "0.02927771981346846",
         "0.694841727320269"
        ],
        [
         "47",
         "1997-12-31 00:00:00",
         "1.6552693634234619",
         "0.01655269363423462",
         "0.7063432295568839"
        ],
        [
         "48",
         "1998-01-30 00:00:00",
         "-0.7146836391812866",
         "-0.007146836391812866",
         "0.7012951100587761"
        ],
        [
         "49",
         "1998-02-27 00:00:00",
         "-1.9140966842105254",
         "-0.019140966842105252",
         "0.6878716436106106"
        ]
       ],
       "shape": {
        "columns": 4,
        "rows": 372
       }
      },
      "text/html": [
       "<div>\n",
       "<style scoped>\n",
       "    .dataframe tbody tr th:only-of-type {\n",
       "        vertical-align: middle;\n",
       "    }\n",
       "\n",
       "    .dataframe tbody tr th {\n",
       "        vertical-align: top;\n",
       "    }\n",
       "\n",
       "    .dataframe thead th {\n",
       "        text-align: right;\n",
       "    }\n",
       "</style>\n",
       "<table border=\"1\" class=\"dataframe\">\n",
       "  <thead>\n",
       "    <tr style=\"text-align: right;\">\n",
       "      <th></th>\n",
       "      <th>month</th>\n",
       "      <th>portfolio_return</th>\n",
       "      <th>portfolio_return_decimal</th>\n",
       "      <th>cum_portfolio</th>\n",
       "    </tr>\n",
       "  </thead>\n",
       "  <tbody>\n",
       "    <tr>\n",
       "      <th>0</th>\n",
       "      <td>1994-01-31</td>\n",
       "      <td>16.980800</td>\n",
       "      <td>0.169808</td>\n",
       "      <td>1.169808</td>\n",
       "    </tr>\n",
       "    <tr>\n",
       "      <th>1</th>\n",
       "      <td>1994-02-28</td>\n",
       "      <td>-32.322887</td>\n",
       "      <td>-0.323229</td>\n",
       "      <td>0.791692</td>\n",
       "    </tr>\n",
       "    <tr>\n",
       "      <th>2</th>\n",
       "      <td>1994-03-31</td>\n",
       "      <td>-10.924324</td>\n",
       "      <td>-0.109243</td>\n",
       "      <td>0.705205</td>\n",
       "    </tr>\n",
       "    <tr>\n",
       "      <th>3</th>\n",
       "      <td>1994-04-29</td>\n",
       "      <td>-2.133119</td>\n",
       "      <td>-0.021331</td>\n",
       "      <td>0.690162</td>\n",
       "    </tr>\n",
       "    <tr>\n",
       "      <th>4</th>\n",
       "      <td>1994-05-31</td>\n",
       "      <td>-0.271882</td>\n",
       "      <td>-0.002719</td>\n",
       "      <td>0.688286</td>\n",
       "    </tr>\n",
       "    <tr>\n",
       "      <th>...</th>\n",
       "      <td>...</td>\n",
       "      <td>...</td>\n",
       "      <td>...</td>\n",
       "      <td>...</td>\n",
       "    </tr>\n",
       "    <tr>\n",
       "      <th>367</th>\n",
       "      <td>2024-08-30</td>\n",
       "      <td>-0.940091</td>\n",
       "      <td>-0.009401</td>\n",
       "      <td>0.524043</td>\n",
       "    </tr>\n",
       "    <tr>\n",
       "      <th>368</th>\n",
       "      <td>2024-09-30</td>\n",
       "      <td>-0.034985</td>\n",
       "      <td>-0.000350</td>\n",
       "      <td>0.523860</td>\n",
       "    </tr>\n",
       "    <tr>\n",
       "      <th>369</th>\n",
       "      <td>2024-10-31</td>\n",
       "      <td>0.124382</td>\n",
       "      <td>0.001244</td>\n",
       "      <td>0.524511</td>\n",
       "    </tr>\n",
       "    <tr>\n",
       "      <th>370</th>\n",
       "      <td>2024-11-29</td>\n",
       "      <td>0.611263</td>\n",
       "      <td>0.006113</td>\n",
       "      <td>0.527717</td>\n",
       "    </tr>\n",
       "    <tr>\n",
       "      <th>371</th>\n",
       "      <td>2024-12-31</td>\n",
       "      <td>-0.155168</td>\n",
       "      <td>-0.001552</td>\n",
       "      <td>0.526899</td>\n",
       "    </tr>\n",
       "  </tbody>\n",
       "</table>\n",
       "<p>372 rows × 4 columns</p>\n",
       "</div>"
      ],
      "text/plain": [
       "         month  portfolio_return  portfolio_return_decimal  cum_portfolio\n",
       "0   1994-01-31         16.980800                  0.169808       1.169808\n",
       "1   1994-02-28        -32.322887                 -0.323229       0.791692\n",
       "2   1994-03-31        -10.924324                 -0.109243       0.705205\n",
       "3   1994-04-29         -2.133119                 -0.021331       0.690162\n",
       "4   1994-05-31         -0.271882                 -0.002719       0.688286\n",
       "..         ...               ...                       ...            ...\n",
       "367 2024-08-30         -0.940091                 -0.009401       0.524043\n",
       "368 2024-09-30         -0.034985                 -0.000350       0.523860\n",
       "369 2024-10-31          0.124382                  0.001244       0.524511\n",
       "370 2024-11-29          0.611263                  0.006113       0.527717\n",
       "371 2024-12-31         -0.155168                 -0.001552       0.526899\n",
       "\n",
       "[372 rows x 4 columns]"
      ]
     },
     "execution_count": 218,
     "metadata": {},
     "output_type": "execute_result"
    }
   ],
   "source": [
    "portfolio_df['portfolio_return_decimal'] = portfolio_df['portfolio_return'] / 100\n",
    "portfolio_df['cum_portfolio'] = (1 + portfolio_df['portfolio_return_decimal']).cumprod()\n",
    "\n",
    "portfolio_df"
   ]
  },
  {
   "cell_type": "markdown",
   "id": "90632a9c",
   "metadata": {},
   "source": [
    "Plot monthly portfolio returns:"
   ]
  },
  {
   "cell_type": "code",
   "execution_count": 219,
   "id": "89e312c5",
   "metadata": {},
   "outputs": [
    {
     "data": {
      "image/png": "[encoded data removed]",
      "text/plain": [
       "<Figure size 1000x500 with 1 Axes>"
      ]
     },
     "metadata": {},
     "output_type": "display_data"
    }
   ],
   "source": [
    "\n",
    "import matplotlib.pyplot as plt\n",
    "\n",
    "plt.figure(figsize=(10,5))\n",
    "plt.plot(portfolio_df['month'], portfolio_df['portfolio_return'], marker='o', label='Monthly Portfolio Return')\n",
    "plt.xlabel('Month')\n",
    "plt.ylabel('Monthly Long-Short Return (%)')\n",
    "plt.title('Monthly Long-Short Portfolio Return')\n",
    "plt.legend()\n",
    "plt.grid(alpha=0.3)\n",
    "plt.xticks(rotation=45)\n",
    "plt.tight_layout()\n",
    "plt.show()\n",
    "\n"
   ]
  },
  {
   "cell_type": "code",
   "execution_count": 220,
   "id": "d568dcab",
   "metadata": {},
   "outputs": [
    {
     "name": "stdout",
     "output_type": "stream",
     "text": [
      "-0.0013626511662945555\n"
     ]
    }
   ],
   "source": [
    "print(portfolio_df['portfolio_return_decimal'].mean())"
   ]
  },
  {
   "cell_type": "markdown",
   "id": "818062e4",
   "metadata": {},
   "source": [
    "The monthly returns are extremely volatile.\n",
    "- trading only 1 long 1 short stock can skew this a lot\n",
    "- we don't have information on market cap to weigh it\n",
    "\n",
    "\n",
    "-> might have to only keep portfolios in months with a lot of stocks\n"
   ]
  },
  {
   "cell_type": "markdown",
   "id": "00b4fb39",
   "metadata": {},
   "source": [
    "Plot cumulative returns"
   ]
  },
  {
   "cell_type": "code",
   "execution_count": 221,
   "id": "980c2fb2",
   "metadata": {},
   "outputs": [
    {
     "data": {
      "image/png": "[encoded data removed]",
      "text/plain": [
       "<Figure size 1000x500 with 1 Axes>"
      ]
     },
     "metadata": {},
     "output_type": "display_data"
    }
   ],
   "source": [
    "import matplotlib.pyplot as plt\n",
    "\n",
    "plt.figure(figsize=(10,5))\n",
    "plt.plot(portfolio_df['month'], portfolio_df['cum_portfolio'], label='Cumulative Portfolio Value')\n",
    "plt.xlabel('Month')\n",
    "plt.ylabel('Portfolio Value (Starting at 1)')\n",
    "plt.title('Cumulative Return of Long-Short Portfolio')\n",
    "plt.grid(alpha=0.3)\n",
    "plt.legend()\n",
    "plt.xticks(rotation=45)\n",
    "plt.tight_layout()\n",
    "plt.show()\n"
   ]
  },
  {
   "cell_type": "code",
   "execution_count": 222,
   "id": "19c9b7b6",
   "metadata": {},
   "outputs": [
    {
     "name": "stdout",
     "output_type": "stream",
     "text": [
      "month\n",
      "1994-01-31       4\n",
      "1994-02-28      14\n",
      "1994-03-31      91\n",
      "1994-04-29      24\n",
      "1994-05-31     370\n",
      "              ... \n",
      "2024-08-30    1831\n",
      "2024-09-30    1842\n",
      "2024-10-31    1856\n",
      "2024-11-29    1810\n",
      "2024-12-31    1818\n",
      "Name: count, Length: 372, dtype: int64\n"
     ]
    }
   ],
   "source": [
    "# For each month, count how many stocks we have\n",
    "month_sizes = df['month'].value_counts().sort_index()\n",
    "print(month_sizes)\n"
   ]
  },
  {
   "cell_type": "code",
   "execution_count": 223,
   "id": "eee1e33c",
   "metadata": {},
   "outputs": [
    {
     "data": {
      "image/png": "[encoded data removed]",
      "text/plain": [
       "<Figure size 1000x500 with 1 Axes>"
      ]
     },
     "metadata": {},
     "output_type": "display_data"
    }
   ],
   "source": [
    "import matplotlib.pyplot as plt\n",
    "\n",
    "plt.figure(figsize=(10,5))\n",
    "plt.hist(month_sizes, bins=50, edgecolor='k')\n",
    "plt.xlabel('Number of Stocks per Month')\n",
    "plt.ylabel('Frequency')\n",
    "plt.title('Distribution of Number of Stocks per Month')\n",
    "plt.grid(alpha=0.3)\n",
    "plt.show()\n"
   ]
  },
  {
   "cell_type": "markdown",
   "id": "2b05107b",
   "metadata": {},
   "source": [
    "Filter portfolio returns based on month count:"
   ]
  },
  {
   "cell_type": "code",
   "execution_count": 224,
   "id": "20331d60",
   "metadata": {},
   "outputs": [
    {
     "name": "stderr",
     "output_type": "stream",
     "text": [
      "/var/folders/nx/v58k3cwd0wlgff1pwy874p600000gn/T/ipykernel_43588/2617997722.py:9: FutureWarning: The behavior of 'isin' with dtype=datetime64[ns] and castable values (e.g. strings) is deprecated. In a future version, these will not be considered matching by isin. Explicitly cast to the appropriate dtype before calling isin instead.\n",
      "  portfolio_df_filtered = portfolio_df[portfolio_df['month'].isin(valid_months)].copy()\n"
     ]
    },
    {
     "data": {
      "image/png": "[encoded data removed]",
      "text/plain": [
       "<Figure size 1000x500 with 1 Axes>"
      ]
     },
     "metadata": {},
     "output_type": "display_data"
    },
    {
     "data": {
      "image/png": "[encoded data removed]",
      "text/plain": [
       "<Figure size 1000x500 with 1 Axes>"
      ]
     },
     "metadata": {},
     "output_type": "display_data"
    }
   ],
   "source": [
    "import pandas as pd\n",
    "import matplotlib.pyplot as plt\n",
    "\n",
    "# Step 1: Count number of firms per month from full df\n",
    "month_sizes = df['month'].value_counts().sort_index()\n",
    "\n",
    "# Step 2: Filter portfolio_df to only include months with >= 100 stocks\n",
    "valid_months = month_sizes[month_sizes >= 1000].index\n",
    "portfolio_df_filtered = portfolio_df[portfolio_df['month'].isin(valid_months)].copy()\n",
    "\n",
    "# Step 3: Plot monthly returns\n",
    "plt.figure(figsize=(10,5))\n",
    "plt.plot(portfolio_df_filtered['month'], portfolio_df_filtered['portfolio_return'], marker='o', label='Monthly Portfolio Return')\n",
    "plt.xlabel('Month')\n",
    "plt.ylabel('Monthly Long-Short Return (%)')\n",
    "plt.title('Monthly Long-Short Portfolio Return (Months with ≥ 100 Stocks)')\n",
    "plt.legend()\n",
    "plt.grid(alpha=0.3)\n",
    "plt.xticks(rotation=45)\n",
    "plt.tight_layout()\n",
    "plt.show()\n",
    "\n",
    "# Step 4: Recalculate and plot cumulative return\n",
    "portfolio_df_filtered['portfolio_return_decimal'] = portfolio_df_filtered['portfolio_return'] / 100\n",
    "portfolio_df_filtered['cum_portfolio'] = (1 + portfolio_df_filtered['portfolio_return_decimal']).cumprod()\n",
    "\n",
    "plt.figure(figsize=(10,5))\n",
    "plt.plot(portfolio_df_filtered['month'], portfolio_df_filtered['cum_portfolio'], label='Cumulative Portfolio Value')\n",
    "plt.xlabel('Month')\n",
    "plt.ylabel('Portfolio Value (Starting at 1)')\n",
    "plt.title('Cumulative Return of Long-Short Portfolio (Months with ≥ 100 Stocks)')\n",
    "plt.legend()\n",
    "plt.grid(alpha=0.3)\n",
    "plt.xticks(rotation=45)\n",
    "plt.tight_layout()\n",
    "plt.show()\n",
    "\n",
    "# Step 5: Save to CSV\n",
    "portfolio_df_filtered.to_csv(\"../data/processed/filtered_portfolio_returns-RIGHT.csv\", index=False)\n"
   ]
  },
  {
   "cell_type": "code",
   "execution_count": 225,
   "id": "ccf73df2",
   "metadata": {},
   "outputs": [
    {
     "name": "stdout",
     "output_type": "stream",
     "text": [
      "-0.0010516156449793855\n"
     ]
    }
   ],
   "source": [
    "print(portfolio_df_filtered['portfolio_return_decimal'].mean())"
   ]
  },
  {
   "cell_type": "markdown",
   "id": "c966d641",
   "metadata": {},
   "source": [
    "Logic\n",
    "1.\n",
    "a. Sort all firms by their similarity_score for that month (the higher the score, the more “similar” their filing is to the previous one).\n",
    "b. Assign quintiles (divide into 5 groups) based on the similarity_score within that month:\n",
    "Top 20% (5th quintile): Firms with the highest similarity\n",
    "Bottom 20% (1st quintile): Firms with the lowest similarity\n",
    "2.\n",
    "Long leg: Go long (buy) all stocks in the top quintile (highest similarity).\n",
    "Short leg: Go short (sell) all stocks in the bottom quintile (lowest similarity).\n",
    "\n",
    "Returns are equally weighted within each leg (i.e., average the returns for the long group and the short group).\n",
    "3.\n",
    "Long-short return = Mean(return of long leg) - Mean(return of short leg)\n",
    "\n",
    "Key\n",
    "If the long-short return is consistently positive:It means firms with high similarity (i.e., \"lazy\" prices) tend to outperform those with low similarity, after controlling for general market movements.\n"
   ]
  },
  {
   "cell_type": "markdown",
   "id": "2235f3f2",
   "metadata": {},
   "source": []
  }
 ],
 "metadata": {
  "kernelspec": {
   "display_name": "base",
   "language": "python",
   "name": "python3"
  },
  "language_info": {
   "codemirror_mode": {
    "name": "ipython",
    "version": 3
   },
   "file_extension": ".py",
   "mimetype": "text/x-python",
   "name": "python",
   "nbconvert_exporter": "python",
   "pygments_lexer": "ipython3",
   "version": "3.12.7"
  }
 },
 "nbformat": 4,
 "nbformat_minor": 5
}
