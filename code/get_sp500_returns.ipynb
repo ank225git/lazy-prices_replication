{
 "cells": [
  {
   "cell_type": "code",
   "execution_count": 8,
   "id": "b1624e7d",
   "metadata": {},
   "outputs": [
    {
     "name": "stderr",
     "output_type": "stream",
     "text": [
      "[*********************100%***********************]  1 of 1 completed"
     ]
    },
    {
     "name": "stdout",
     "output_type": "stream",
     "text": [
      "Price       month    return\n",
      "Ticker                     \n",
      "1      1993-04-01 -0.025417\n",
      "2      1993-05-01  0.022717\n",
      "3      1993-06-01  0.000755\n",
      "4      1993-07-01 -0.005327\n",
      "5      1993-08-01  0.034432\n"
     ]
    },
    {
     "name": "stderr",
     "output_type": "stream",
     "text": [
      "\n"
     ]
    }
   ],
   "source": [
    "import yfinance as yf\n",
    "import pandas as pd\n",
    "\n",
    "# Download S&P 500 (^GSPC) monthly data\n",
    "sp500 = yf.download('^GSPC', start='1993-03-01', end='2025-04-30', interval='1mo')\n",
    "\n",
    "# Keep only Close\n",
    "sp500 = sp500[['Close']]\n",
    "\n",
    "# Reset index to have 'month' as a column\n",
    "sp500 = sp500.reset_index()\n",
    "sp500 = sp500.rename(columns={'Date': 'month', 'Close': 'sp500_close'})\n",
    "\n",
    "# Calculate monthly returns\n",
    "sp500['return'] = sp500['sp500_close'].pct_change()\n",
    "\n",
    "# Drop the first row with NaN return\n",
    "sp500 = sp500.dropna()\n",
    "\n",
    "# Keep only 'month' and 'return'\n",
    "sp500 = sp500[['month', 'return']]\n",
    "\n",
    "# Save to CSV\n",
    "sp500.to_csv('../data/processed/sp500_monthly.csv', index=False)\n",
    "\n",
    "# Quick check\n",
    "print(sp500.head())\n"
   ]
  }
 ],
 "metadata": {
  "kernelspec": {
   "display_name": "base",
   "language": "python",
   "name": "python3"
  },
  "language_info": {
   "codemirror_mode": {
    "name": "ipython",
    "version": 3
   },
   "file_extension": ".py",
   "mimetype": "text/x-python",
   "name": "python",
   "nbconvert_exporter": "python",
   "pygments_lexer": "ipython3",
   "version": "3.12.7"
  }
 },
 "nbformat": 4,
 "nbformat_minor": 5
}
