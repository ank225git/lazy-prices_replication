{
 "cells": [
  {
   "cell_type": "markdown",
   "id": "267a17c4",
   "metadata": {},
   "source": [
    "Loading stock data:"
   ]
  },
  {
   "cell_type": "code",
   "execution_count": 11,
   "id": "11bc9496",
   "metadata": {},
   "outputs": [
    {
     "name": "stdout",
     "output_type": "stream",
     "text": [
      "(4047630, 3)\n"
     ]
    },
    {
     "data": {
      "application/vnd.microsoft.datawrangler.viewer.v0+json": {
       "columns": [
        {
         "name": "index",
         "rawType": "int64",
         "type": "integer"
        },
        {
         "name": "permno",
         "rawType": "int64",
         "type": "integer"
        },
        {
         "name": "date",
         "rawType": "datetime64[ns]",
         "type": "datetime"
        },
        {
         "name": "ret",
         "rawType": "float64",
         "type": "float"
        }
       ],
       "conversionMethod": "pd.DataFrame",
       "ref": "4946a746-4417-475d-ba60-b7a17eaf8a1a",
       "rows": [
        [
         "0",
         "10000",
         "1986-01-31 00:00:00",
         null
        ],
        [
         "1",
         "10000",
         "1986-02-28 00:00:00",
         "-25.7143"
        ],
        [
         "2",
         "10000",
         "1986-03-31 00:00:00",
         "36.5385"
        ],
        [
         "3",
         "10000",
         "1986-04-30 00:00:00",
         "-9.8592"
        ],
        [
         "4",
         "10000",
         "1986-05-30 00:00:00",
         "-22.2656"
        ],
        [
         "5",
         "10000",
         "1986-06-30 00:00:00",
         "-0.5025"
        ],
        [
         "6",
         "10000",
         "1986-07-31 00:00:00",
         "-8.0808"
        ],
        [
         "7",
         "10000",
         "1986-08-29 00:00:00",
         "-61.5385"
        ],
        [
         "8",
         "10000",
         "1986-09-30 00:00:00",
         "-5.7143"
        ],
        [
         "9",
         "10000",
         "1986-10-31 00:00:00",
         "-24.2424"
        ],
        [
         "10",
         "10000",
         "1986-11-28 00:00:00",
         "6.0"
        ],
        [
         "11",
         "10000",
         "1986-12-31 00:00:00",
         "-37.7358"
        ],
        [
         "12",
         "10000",
         "1987-01-30 00:00:00",
         "-21.2121"
        ],
        [
         "13",
         "10000",
         "1987-02-27 00:00:00",
         "0.0"
        ],
        [
         "14",
         "10000",
         "1987-03-31 00:00:00",
         "-38.4615"
        ],
        [
         "15",
         "10000",
         "1987-04-30 00:00:00",
         "-6.25"
        ],
        [
         "16",
         "10000",
         "1987-05-29 00:00:00",
         "-6.6667"
        ],
        [
         "17",
         "10001",
         "1986-01-31 00:00:00",
         null
        ],
        [
         "18",
         "10001",
         "1986-02-28 00:00:00",
         "2.0408"
        ],
        [
         "19",
         "10001",
         "1986-03-31 00:00:00",
         "2.52"
        ],
        [
         "20",
         "10001",
         "1986-04-30 00:00:00",
         "0.9901"
        ],
        [
         "21",
         "10001",
         "1986-05-30 00:00:00",
         "-0.9804"
        ],
        [
         "22",
         "10001",
         "1986-06-30 00:00:00",
         "-1.3069"
        ],
        [
         "23",
         "10001",
         "1986-07-31 00:00:00",
         "-1.0204"
        ],
        [
         "24",
         "10001",
         "1986-08-29 00:00:00",
         "7.2165"
        ],
        [
         "25",
         "10001",
         "1986-09-30 00:00:00",
         "-0.3077"
        ],
        [
         "26",
         "10001",
         "1986-10-31 00:00:00",
         "3.9216"
        ],
        [
         "27",
         "10001",
         "1986-11-28 00:00:00",
         "5.6604"
        ],
        [
         "28",
         "10001",
         "1986-12-31 00:00:00",
         "1.5"
        ],
        [
         "29",
         "10001",
         "1987-01-30 00:00:00",
         "-3.5714"
        ],
        [
         "30",
         "10001",
         "1987-02-27 00:00:00",
         "-7.4074"
        ],
        [
         "31",
         "10001",
         "1987-03-31 00:00:00",
         "3.68"
        ],
        [
         "32",
         "10001",
         "1987-04-30 00:00:00",
         "-3.9216"
        ],
        [
         "33",
         "10001",
         "1987-05-29 00:00:00",
         "-7.1429"
        ],
        [
         "34",
         "10001",
         "1987-06-30 00:00:00",
         "5.1429"
        ],
        [
         "35",
         "10001",
         "1987-07-31 00:00:00",
         "2.1277"
        ],
        [
         "36",
         "10001",
         "1987-08-31 00:00:00",
         "8.3333"
        ],
        [
         "37",
         "10001",
         "1987-09-30 00:00:00",
         "-2.2308"
        ],
        [
         "38",
         "10001",
         "1987-10-30 00:00:00",
         "2.0"
        ],
        [
         "39",
         "10001",
         "1987-11-30 00:00:00",
         "-2.9412"
        ],
        [
         "40",
         "10001",
         "1987-12-31 00:00:00",
         "-3.3535"
        ],
        [
         "41",
         "10001",
         "1988-01-29 00:00:00",
         "6.383"
        ],
        [
         "42",
         "10001",
         "1988-02-29 00:00:00",
         "8.0"
        ],
        [
         "43",
         "10001",
         "1988-03-31 00:00:00",
         "-7.6296"
        ],
        [
         "44",
         "10001",
         "1988-04-29 00:00:00",
         "3.0612"
        ],
        [
         "45",
         "10001",
         "1988-05-31 00:00:00",
         "1.9802"
        ],
        [
         "46",
         "10001",
         "1988-06-30 00:00:00",
         "-1.2039"
        ],
        [
         "47",
         "10001",
         "1988-07-29 00:00:00",
         "3.0"
        ],
        [
         "48",
         "10001",
         "1988-08-31 00:00:00",
         "2.9126"
        ],
        [
         "49",
         "10001",
         "1988-09-30 00:00:00",
         "-2.1132"
        ]
       ],
       "shape": {
        "columns": 3,
        "rows": 4047630
       }
      },
      "text/html": [
       "<div>\n",
       "<style scoped>\n",
       "    .dataframe tbody tr th:only-of-type {\n",
       "        vertical-align: middle;\n",
       "    }\n",
       "\n",
       "    .dataframe tbody tr th {\n",
       "        vertical-align: top;\n",
       "    }\n",
       "\n",
       "    .dataframe thead th {\n",
       "        text-align: right;\n",
       "    }\n",
       "</style>\n",
       "<table border=\"1\" class=\"dataframe\">\n",
       "  <thead>\n",
       "    <tr style=\"text-align: right;\">\n",
       "      <th></th>\n",
       "      <th>permno</th>\n",
       "      <th>date</th>\n",
       "      <th>ret</th>\n",
       "    </tr>\n",
       "  </thead>\n",
       "  <tbody>\n",
       "    <tr>\n",
       "      <th>0</th>\n",
       "      <td>10000</td>\n",
       "      <td>1986-01-31</td>\n",
       "      <td>NaN</td>\n",
       "    </tr>\n",
       "    <tr>\n",
       "      <th>1</th>\n",
       "      <td>10000</td>\n",
       "      <td>1986-02-28</td>\n",
       "      <td>-25.7143</td>\n",
       "    </tr>\n",
       "    <tr>\n",
       "      <th>2</th>\n",
       "      <td>10000</td>\n",
       "      <td>1986-03-31</td>\n",
       "      <td>36.5385</td>\n",
       "    </tr>\n",
       "    <tr>\n",
       "      <th>3</th>\n",
       "      <td>10000</td>\n",
       "      <td>1986-04-30</td>\n",
       "      <td>-9.8592</td>\n",
       "    </tr>\n",
       "    <tr>\n",
       "      <th>4</th>\n",
       "      <td>10000</td>\n",
       "      <td>1986-05-30</td>\n",
       "      <td>-22.2656</td>\n",
       "    </tr>\n",
       "    <tr>\n",
       "      <th>...</th>\n",
       "      <td>...</td>\n",
       "      <td>...</td>\n",
       "      <td>...</td>\n",
       "    </tr>\n",
       "    <tr>\n",
       "      <th>4047625</th>\n",
       "      <td>93436</td>\n",
       "      <td>2024-08-30</td>\n",
       "      <td>-7.7391</td>\n",
       "    </tr>\n",
       "    <tr>\n",
       "      <th>4047626</th>\n",
       "      <td>93436</td>\n",
       "      <td>2024-09-30</td>\n",
       "      <td>22.1942</td>\n",
       "    </tr>\n",
       "    <tr>\n",
       "      <th>4047627</th>\n",
       "      <td>93436</td>\n",
       "      <td>2024-10-31</td>\n",
       "      <td>-4.5025</td>\n",
       "    </tr>\n",
       "    <tr>\n",
       "      <th>4047628</th>\n",
       "      <td>93436</td>\n",
       "      <td>2024-11-29</td>\n",
       "      <td>38.1469</td>\n",
       "    </tr>\n",
       "    <tr>\n",
       "      <th>4047629</th>\n",
       "      <td>93436</td>\n",
       "      <td>2024-12-31</td>\n",
       "      <td>17.0008</td>\n",
       "    </tr>\n",
       "  </tbody>\n",
       "</table>\n",
       "<p>4047630 rows × 3 columns</p>\n",
       "</div>"
      ],
      "text/plain": [
       "         permno       date      ret\n",
       "0         10000 1986-01-31      NaN\n",
       "1         10000 1986-02-28 -25.7143\n",
       "2         10000 1986-03-31  36.5385\n",
       "3         10000 1986-04-30  -9.8592\n",
       "4         10000 1986-05-30 -22.2656\n",
       "...         ...        ...      ...\n",
       "4047625   93436 2024-08-30  -7.7391\n",
       "4047626   93436 2024-09-30  22.1942\n",
       "4047627   93436 2024-10-31  -4.5025\n",
       "4047628   93436 2024-11-29  38.1469\n",
       "4047629   93436 2024-12-31  17.0008\n",
       "\n",
       "[4047630 rows x 3 columns]"
      ]
     },
     "execution_count": 11,
     "metadata": {},
     "output_type": "execute_result"
    }
   ],
   "source": [
    "import pandas as pd\n",
    "\n",
    "# Load stock returns\n",
    "df_returns = pd.read_csv(\"../data/raw/crsp_data/crsp_data.csv\")\n",
    "\n",
    "df_returns['date'] = pd.to_datetime(df_returns['date'])\n",
    "\n",
    "print(df_returns.shape)\n",
    "df_returns\n"
   ]
  },
  {
   "cell_type": "markdown",
   "id": "e9df1ae1",
   "metadata": {},
   "source": [
    "Load signal score"
   ]
  },
  {
   "cell_type": "code",
   "execution_count": 18,
   "id": "ecae9792",
   "metadata": {},
   "outputs": [
    {
     "name": "stdout",
     "output_type": "stream",
     "text": [
      "    cik filing_date  similarity\n",
      "0  1750  1994-01-13         NaN\n",
      "1  1750  1994-04-14    0.991912\n",
      "2  1750  1994-08-24    0.934598\n",
      "3  1750  1994-10-14    0.928699\n",
      "4  1750  1995-01-13    0.868299\n"
     ]
    },
    {
     "data": {
      "application/vnd.microsoft.datawrangler.viewer.v0+json": {
       "columns": [
        {
         "name": "index",
         "rawType": "int64",
         "type": "integer"
        },
        {
         "name": "cik",
         "rawType": "int64",
         "type": "integer"
        },
        {
         "name": "filing_date",
         "rawType": "datetime64[ns]",
         "type": "datetime"
        },
        {
         "name": "similarity",
         "rawType": "float64",
         "type": "float"
        }
       ],
       "conversionMethod": "pd.DataFrame",
       "ref": "521ffd73-9afa-4bb0-8b75-a65d025eb3c7",
       "rows": [
        [
         "0",
         "1750",
         "1994-01-13 00:00:00",
         null
        ],
        [
         "1",
         "1750",
         "1994-04-14 00:00:00",
         "0.9919124935715184"
        ],
        [
         "2",
         "1750",
         "1994-08-24 00:00:00",
         "0.9345975319160444"
        ],
        [
         "3",
         "1750",
         "1994-10-14 00:00:00",
         "0.9286989363593594"
        ],
        [
         "4",
         "1750",
         "1995-01-13 00:00:00",
         "0.8682989752815812"
        ],
        [
         "5",
         "1800",
         "1994-03-03 00:00:00",
         null
        ],
        [
         "6",
         "1800",
         "1994-05-13 00:00:00",
         "0.9346388411313687"
        ],
        [
         "7",
         "1800",
         "1994-08-12 00:00:00",
         "0.8885147481770947"
        ],
        [
         "8",
         "1800",
         "1994-11-10 00:00:00",
         "0.985544713370943"
        ],
        [
         "9",
         "2024",
         "1994-03-23 00:00:00",
         null
        ],
        [
         "10",
         "2024",
         "1994-05-13 00:00:00",
         "0.8437109470502007"
        ],
        [
         "11",
         "2024",
         "1994-08-12 00:00:00",
         "0.9758129339283578"
        ],
        [
         "12",
         "2024",
         "1994-11-15 00:00:00",
         "0.985324567724666"
        ],
        [
         "13",
         "2145",
         "1994-11-08 00:00:00",
         null
        ],
        [
         "14",
         "2488",
         "1994-03-07 00:00:00",
         null
        ],
        [
         "15",
         "2488",
         "1994-04-08 00:00:00",
         "0.8992338631636239"
        ],
        [
         "16",
         "2488",
         "1994-04-08 00:00:00",
         "0.9584442717880834"
        ],
        [
         "17",
         "2488",
         "1994-05-03 00:00:00",
         "0.8744835273249444"
        ],
        [
         "18",
         "2488",
         "1994-08-01 00:00:00",
         "0.8687560721110833"
        ],
        [
         "19",
         "2488",
         "1994-11-04 00:00:00",
         "0.929824388507994"
        ],
        [
         "20",
         "2648",
         "1994-03-18 00:00:00",
         null
        ],
        [
         "21",
         "2648",
         "1994-05-13 00:00:00",
         "0.9714389608552004"
        ],
        [
         "22",
         "2648",
         "1994-08-15 00:00:00",
         "0.8710001720273155"
        ],
        [
         "23",
         "2648",
         "1994-10-28 00:00:00",
         "0.8839044124391235"
        ],
        [
         "24",
         "2852",
         "1994-02-11 00:00:00",
         null
        ],
        [
         "25",
         "2852",
         "1994-05-13 00:00:00",
         "0.9908929201694924"
        ],
        [
         "26",
         "2852",
         "1994-09-23 00:00:00",
         "0.9729684859188008"
        ],
        [
         "27",
         "2852",
         "1994-11-14 00:00:00",
         "0.977644828068166"
        ],
        [
         "28",
         "2969",
         "1994-02-14 00:00:00",
         null
        ],
        [
         "29",
         "2969",
         "1994-03-18 00:00:00",
         "0.7700609775122151"
        ],
        [
         "30",
         "2969",
         "1994-05-16 00:00:00",
         "0.7587170652251912"
        ],
        [
         "31",
         "2969",
         "1994-08-12 00:00:00",
         "0.9846995267252988"
        ],
        [
         "32",
         "2969",
         "1994-12-08 00:00:00",
         "0.9255903943105076"
        ],
        [
         "33",
         "3000",
         "1994-03-29 00:00:00",
         null
        ],
        [
         "34",
         "3000",
         "1994-05-12 00:00:00",
         "0.8576134527714827"
        ],
        [
         "35",
         "3000",
         "1994-08-12 00:00:00",
         "0.9681031983501696"
        ],
        [
         "36",
         "3000",
         "1994-11-10 00:00:00",
         "0.9779748735284804"
        ],
        [
         "37",
         "3133",
         "1994-03-22 00:00:00",
         null
        ],
        [
         "38",
         "3133",
         "1994-05-12 00:00:00",
         "0.9201039023057004"
        ],
        [
         "39",
         "3133",
         "1994-08-15 00:00:00",
         "0.8309005963234307"
        ],
        [
         "40",
         "3133",
         "1994-11-14 00:00:00",
         "0.899037196814714"
        ],
        [
         "41",
         "3146",
         "1994-02-14 00:00:00",
         null
        ],
        [
         "42",
         "3146",
         "1994-05-13 00:00:00",
         "0.9892923147926314"
        ],
        [
         "43",
         "3146",
         "1994-08-12 00:00:00",
         "0.9927802271630322"
        ],
        [
         "44",
         "3146",
         "1994-12-28 00:00:00",
         "0.9451086158040488"
        ],
        [
         "45",
         "3153",
         "1994-03-28 00:00:00",
         null
        ],
        [
         "46",
         "3153",
         "1994-05-16 00:00:00",
         "0.9313005790613113"
        ],
        [
         "47",
         "3153",
         "1994-08-15 00:00:00",
         "0.9969984925818852"
        ],
        [
         "48",
         "3153",
         "1994-11-14 00:00:00",
         "0.99763971031886"
        ],
        [
         "49",
         "3333",
         "1994-01-21 00:00:00",
         null
        ]
       ],
       "shape": {
        "columns": 3,
        "rows": 1224508
       }
      },
      "text/html": [
       "<div>\n",
       "<style scoped>\n",
       "    .dataframe tbody tr th:only-of-type {\n",
       "        vertical-align: middle;\n",
       "    }\n",
       "\n",
       "    .dataframe tbody tr th {\n",
       "        vertical-align: top;\n",
       "    }\n",
       "\n",
       "    .dataframe thead th {\n",
       "        text-align: right;\n",
       "    }\n",
       "</style>\n",
       "<table border=\"1\" class=\"dataframe\">\n",
       "  <thead>\n",
       "    <tr style=\"text-align: right;\">\n",
       "      <th></th>\n",
       "      <th>cik</th>\n",
       "      <th>filing_date</th>\n",
       "      <th>similarity</th>\n",
       "    </tr>\n",
       "  </thead>\n",
       "  <tbody>\n",
       "    <tr>\n",
       "      <th>0</th>\n",
       "      <td>1750</td>\n",
       "      <td>1994-01-13</td>\n",
       "      <td>NaN</td>\n",
       "    </tr>\n",
       "    <tr>\n",
       "      <th>1</th>\n",
       "      <td>1750</td>\n",
       "      <td>1994-04-14</td>\n",
       "      <td>0.991912</td>\n",
       "    </tr>\n",
       "    <tr>\n",
       "      <th>2</th>\n",
       "      <td>1750</td>\n",
       "      <td>1994-08-24</td>\n",
       "      <td>0.934598</td>\n",
       "    </tr>\n",
       "    <tr>\n",
       "      <th>3</th>\n",
       "      <td>1750</td>\n",
       "      <td>1994-10-14</td>\n",
       "      <td>0.928699</td>\n",
       "    </tr>\n",
       "    <tr>\n",
       "      <th>4</th>\n",
       "      <td>1750</td>\n",
       "      <td>1995-01-13</td>\n",
       "      <td>0.868299</td>\n",
       "    </tr>\n",
       "    <tr>\n",
       "      <th>...</th>\n",
       "      <td>...</td>\n",
       "      <td>...</td>\n",
       "      <td>...</td>\n",
       "    </tr>\n",
       "    <tr>\n",
       "      <th>1224503</th>\n",
       "      <td>2029303</td>\n",
       "      <td>2024-11-12</td>\n",
       "      <td>NaN</td>\n",
       "    </tr>\n",
       "    <tr>\n",
       "      <th>1224504</th>\n",
       "      <td>2031561</td>\n",
       "      <td>2024-11-12</td>\n",
       "      <td>NaN</td>\n",
       "    </tr>\n",
       "    <tr>\n",
       "      <th>1224505</th>\n",
       "      <td>2032950</td>\n",
       "      <td>2024-12-26</td>\n",
       "      <td>NaN</td>\n",
       "    </tr>\n",
       "    <tr>\n",
       "      <th>1224506</th>\n",
       "      <td>2033615</td>\n",
       "      <td>2024-12-20</td>\n",
       "      <td>NaN</td>\n",
       "    </tr>\n",
       "    <tr>\n",
       "      <th>1224507</th>\n",
       "      <td>2042694</td>\n",
       "      <td>2024-12-17</td>\n",
       "      <td>NaN</td>\n",
       "    </tr>\n",
       "  </tbody>\n",
       "</table>\n",
       "<p>1224508 rows × 3 columns</p>\n",
       "</div>"
      ],
      "text/plain": [
       "             cik filing_date  similarity\n",
       "0           1750  1994-01-13         NaN\n",
       "1           1750  1994-04-14    0.991912\n",
       "2           1750  1994-08-24    0.934598\n",
       "3           1750  1994-10-14    0.928699\n",
       "4           1750  1995-01-13    0.868299\n",
       "...          ...         ...         ...\n",
       "1224503  2029303  2024-11-12         NaN\n",
       "1224504  2031561  2024-11-12         NaN\n",
       "1224505  2032950  2024-12-26         NaN\n",
       "1224506  2033615  2024-12-20         NaN\n",
       "1224507  2042694  2024-12-17         NaN\n",
       "\n",
       "[1224508 rows x 3 columns]"
      ]
     },
     "execution_count": 18,
     "metadata": {},
     "output_type": "execute_result"
    }
   ],
   "source": [
    "df_score = pd.read_csv('../data/processed/full_similarity_scores.csv')\n",
    "\n",
    "df_score['filing_date'] = pd.to_datetime(df_score['filing_date'])\n",
    "\n",
    "# Preview the data\n",
    "print(df_score.head())\n",
    "\n",
    "df_score"
   ]
  },
  {
   "cell_type": "markdown",
   "id": "669f7d2a",
   "metadata": {},
   "source": [
    "Loading cik-permno map:"
   ]
  },
  {
   "cell_type": "code",
   "execution_count": 19,
   "id": "e5ee2ec9",
   "metadata": {},
   "outputs": [
    {
     "name": "stdout",
     "output_type": "stream",
     "text": [
      "(4921, 3)\n"
     ]
    },
    {
     "data": {
      "application/vnd.microsoft.datawrangler.viewer.v0+json": {
       "columns": [
        {
         "name": "index",
         "rawType": "int64",
         "type": "integer"
        },
        {
         "name": "tic",
         "rawType": "object",
         "type": "string"
        },
        {
         "name": "cik",
         "rawType": "int64",
         "type": "integer"
        },
        {
         "name": "permno",
         "rawType": "int64",
         "type": "integer"
        }
       ],
       "conversionMethod": "pd.DataFrame",
       "ref": "8fa1f662-a863-4444-8b6e-48932f1a8352",
       "rows": [
        [
         "0",
         "aapl",
         "320193",
         "14593"
        ],
        [
         "1",
         "msft",
         "789019",
         "10107"
        ],
        [
         "2",
         "unh",
         "731766",
         "92655"
        ],
        [
         "3",
         "jnj",
         "200406",
         "22111"
        ],
        [
         "4",
         "v",
         "1403161",
         "46842"
        ]
       ],
       "shape": {
        "columns": 3,
        "rows": 5
       }
      },
      "text/html": [
       "<div>\n",
       "<style scoped>\n",
       "    .dataframe tbody tr th:only-of-type {\n",
       "        vertical-align: middle;\n",
       "    }\n",
       "\n",
       "    .dataframe tbody tr th {\n",
       "        vertical-align: top;\n",
       "    }\n",
       "\n",
       "    .dataframe thead th {\n",
       "        text-align: right;\n",
       "    }\n",
       "</style>\n",
       "<table border=\"1\" class=\"dataframe\">\n",
       "  <thead>\n",
       "    <tr style=\"text-align: right;\">\n",
       "      <th></th>\n",
       "      <th>tic</th>\n",
       "      <th>cik</th>\n",
       "      <th>permno</th>\n",
       "    </tr>\n",
       "  </thead>\n",
       "  <tbody>\n",
       "    <tr>\n",
       "      <th>0</th>\n",
       "      <td>aapl</td>\n",
       "      <td>320193</td>\n",
       "      <td>14593</td>\n",
       "    </tr>\n",
       "    <tr>\n",
       "      <th>1</th>\n",
       "      <td>msft</td>\n",
       "      <td>789019</td>\n",
       "      <td>10107</td>\n",
       "    </tr>\n",
       "    <tr>\n",
       "      <th>2</th>\n",
       "      <td>unh</td>\n",
       "      <td>731766</td>\n",
       "      <td>92655</td>\n",
       "    </tr>\n",
       "    <tr>\n",
       "      <th>3</th>\n",
       "      <td>jnj</td>\n",
       "      <td>200406</td>\n",
       "      <td>22111</td>\n",
       "    </tr>\n",
       "    <tr>\n",
       "      <th>4</th>\n",
       "      <td>v</td>\n",
       "      <td>1403161</td>\n",
       "      <td>46842</td>\n",
       "    </tr>\n",
       "  </tbody>\n",
       "</table>\n",
       "</div>"
      ],
      "text/plain": [
       "    tic      cik  permno\n",
       "0  aapl   320193   14593\n",
       "1  msft   789019   10107\n",
       "2   unh   731766   92655\n",
       "3   jnj   200406   22111\n",
       "4     v  1403161   46842"
      ]
     },
     "execution_count": 19,
     "metadata": {},
     "output_type": "execute_result"
    }
   ],
   "source": [
    "df_map = pd.read_csv(\"../data/processed/permno_cik_map.csv\")\n",
    "print(df_map.shape)\n",
    "df_map.head()"
   ]
  },
  {
   "cell_type": "markdown",
   "id": "19b9143e",
   "metadata": {},
   "source": [
    "Merge map to similarity scores:"
   ]
  },
  {
   "cell_type": "code",
   "execution_count": 20,
   "id": "73be9ceb",
   "metadata": {},
   "outputs": [
    {
     "name": "stdout",
     "output_type": "stream",
     "text": [
      "(1303803, 5)\n"
     ]
    },
    {
     "data": {
      "application/vnd.microsoft.datawrangler.viewer.v0+json": {
       "columns": [
        {
         "name": "index",
         "rawType": "int64",
         "type": "integer"
        },
        {
         "name": "cik",
         "rawType": "int64",
         "type": "integer"
        },
        {
         "name": "filing_date",
         "rawType": "datetime64[ns]",
         "type": "datetime"
        },
        {
         "name": "similarity",
         "rawType": "float64",
         "type": "float"
        },
        {
         "name": "tic",
         "rawType": "object",
         "type": "string"
        },
        {
         "name": "permno",
         "rawType": "float64",
         "type": "float"
        }
       ],
       "conversionMethod": "pd.DataFrame",
       "ref": "adc0367a-7eae-4ce1-9bc9-beee4d0dd6f9",
       "rows": [
        [
         "0",
         "1750",
         "1994-01-13 00:00:00",
         null,
         "air",
         "54594.0"
        ],
        [
         "1",
         "1750",
         "1994-04-14 00:00:00",
         "0.9919124935715184",
         "air",
         "54594.0"
        ],
        [
         "2",
         "1750",
         "1994-08-24 00:00:00",
         "0.9345975319160444",
         "air",
         "54594.0"
        ],
        [
         "3",
         "1750",
         "1994-10-14 00:00:00",
         "0.9286989363593594",
         "air",
         "54594.0"
        ],
        [
         "4",
         "1750",
         "1995-01-13 00:00:00",
         "0.8682989752815812",
         "air",
         "54594.0"
        ]
       ],
       "shape": {
        "columns": 5,
        "rows": 5
       }
      },
      "text/html": [
       "<div>\n",
       "<style scoped>\n",
       "    .dataframe tbody tr th:only-of-type {\n",
       "        vertical-align: middle;\n",
       "    }\n",
       "\n",
       "    .dataframe tbody tr th {\n",
       "        vertical-align: top;\n",
       "    }\n",
       "\n",
       "    .dataframe thead th {\n",
       "        text-align: right;\n",
       "    }\n",
       "</style>\n",
       "<table border=\"1\" class=\"dataframe\">\n",
       "  <thead>\n",
       "    <tr style=\"text-align: right;\">\n",
       "      <th></th>\n",
       "      <th>cik</th>\n",
       "      <th>filing_date</th>\n",
       "      <th>similarity</th>\n",
       "      <th>tic</th>\n",
       "      <th>permno</th>\n",
       "    </tr>\n",
       "  </thead>\n",
       "  <tbody>\n",
       "    <tr>\n",
       "      <th>0</th>\n",
       "      <td>1750</td>\n",
       "      <td>1994-01-13</td>\n",
       "      <td>NaN</td>\n",
       "      <td>air</td>\n",
       "      <td>54594.0</td>\n",
       "    </tr>\n",
       "    <tr>\n",
       "      <th>1</th>\n",
       "      <td>1750</td>\n",
       "      <td>1994-04-14</td>\n",
       "      <td>0.991912</td>\n",
       "      <td>air</td>\n",
       "      <td>54594.0</td>\n",
       "    </tr>\n",
       "    <tr>\n",
       "      <th>2</th>\n",
       "      <td>1750</td>\n",
       "      <td>1994-08-24</td>\n",
       "      <td>0.934598</td>\n",
       "      <td>air</td>\n",
       "      <td>54594.0</td>\n",
       "    </tr>\n",
       "    <tr>\n",
       "      <th>3</th>\n",
       "      <td>1750</td>\n",
       "      <td>1994-10-14</td>\n",
       "      <td>0.928699</td>\n",
       "      <td>air</td>\n",
       "      <td>54594.0</td>\n",
       "    </tr>\n",
       "    <tr>\n",
       "      <th>4</th>\n",
       "      <td>1750</td>\n",
       "      <td>1995-01-13</td>\n",
       "      <td>0.868299</td>\n",
       "      <td>air</td>\n",
       "      <td>54594.0</td>\n",
       "    </tr>\n",
       "  </tbody>\n",
       "</table>\n",
       "</div>"
      ],
      "text/plain": [
       "    cik filing_date  similarity  tic   permno\n",
       "0  1750  1994-01-13         NaN  air  54594.0\n",
       "1  1750  1994-04-14    0.991912  air  54594.0\n",
       "2  1750  1994-08-24    0.934598  air  54594.0\n",
       "3  1750  1994-10-14    0.928699  air  54594.0\n",
       "4  1750  1995-01-13    0.868299  air  54594.0"
      ]
     },
     "execution_count": 20,
     "metadata": {},
     "output_type": "execute_result"
    }
   ],
   "source": [
    "df_similarity_permno = df_score.merge(df_map, on=\"cik\", how=\"left\")\n",
    "print(df_similarity_permno.shape)\n",
    "df_similarity_permno.head()\n"
   ]
  },
  {
   "cell_type": "markdown",
   "id": "cc86d237",
   "metadata": {},
   "source": [
    "### Aligning filing dates to stock return dates \n",
    "\n",
    "Stock returns (df_returns) have monthly dates (e.g., '2012-05-31'), but filing dates are specific days (e.g., '2012-05-07').\n",
    "\n",
    "- Solution: convert each filing_date to the correct monthly date. We'll assume we want the filing's filing month, so we set filing date to the end of the month."
   ]
  },
  {
   "cell_type": "code",
   "execution_count": 21,
   "id": "0fcdfd2f",
   "metadata": {},
   "outputs": [
    {
     "data": {
      "application/vnd.microsoft.datawrangler.viewer.v0+json": {
       "columns": [
        {
         "name": "index",
         "rawType": "int64",
         "type": "integer"
        },
        {
         "name": "cik",
         "rawType": "int64",
         "type": "integer"
        },
        {
         "name": "filing_date",
         "rawType": "datetime64[ns]",
         "type": "datetime"
        },
        {
         "name": "similarity",
         "rawType": "float64",
         "type": "float"
        },
        {
         "name": "tic",
         "rawType": "object",
         "type": "string"
        },
        {
         "name": "permno",
         "rawType": "float64",
         "type": "float"
        },
        {
         "name": "month",
         "rawType": "datetime64[ns]",
         "type": "datetime"
        }
       ],
       "conversionMethod": "pd.DataFrame",
       "ref": "92da5017-bfa7-47cb-815b-d8475dacba68",
       "rows": [
        [
         "0",
         "1750",
         "1994-01-13 00:00:00",
         null,
         "air",
         "54594.0",
         "1994-01-31 00:00:00"
        ],
        [
         "1",
         "1750",
         "1994-04-14 00:00:00",
         "0.9919124935715184",
         "air",
         "54594.0",
         "1994-04-30 00:00:00"
        ],
        [
         "2",
         "1750",
         "1994-08-24 00:00:00",
         "0.9345975319160444",
         "air",
         "54594.0",
         "1994-08-31 00:00:00"
        ],
        [
         "3",
         "1750",
         "1994-10-14 00:00:00",
         "0.9286989363593594",
         "air",
         "54594.0",
         "1994-10-31 00:00:00"
        ],
        [
         "4",
         "1750",
         "1995-01-13 00:00:00",
         "0.8682989752815812",
         "air",
         "54594.0",
         "1995-01-31 00:00:00"
        ]
       ],
       "shape": {
        "columns": 6,
        "rows": 5
       }
      },
      "text/html": [
       "<div>\n",
       "<style scoped>\n",
       "    .dataframe tbody tr th:only-of-type {\n",
       "        vertical-align: middle;\n",
       "    }\n",
       "\n",
       "    .dataframe tbody tr th {\n",
       "        vertical-align: top;\n",
       "    }\n",
       "\n",
       "    .dataframe thead th {\n",
       "        text-align: right;\n",
       "    }\n",
       "</style>\n",
       "<table border=\"1\" class=\"dataframe\">\n",
       "  <thead>\n",
       "    <tr style=\"text-align: right;\">\n",
       "      <th></th>\n",
       "      <th>cik</th>\n",
       "      <th>filing_date</th>\n",
       "      <th>similarity</th>\n",
       "      <th>tic</th>\n",
       "      <th>permno</th>\n",
       "      <th>month</th>\n",
       "    </tr>\n",
       "  </thead>\n",
       "  <tbody>\n",
       "    <tr>\n",
       "      <th>0</th>\n",
       "      <td>1750</td>\n",
       "      <td>1994-01-13</td>\n",
       "      <td>NaN</td>\n",
       "      <td>air</td>\n",
       "      <td>54594.0</td>\n",
       "      <td>1994-01-31</td>\n",
       "    </tr>\n",
       "    <tr>\n",
       "      <th>1</th>\n",
       "      <td>1750</td>\n",
       "      <td>1994-04-14</td>\n",
       "      <td>0.991912</td>\n",
       "      <td>air</td>\n",
       "      <td>54594.0</td>\n",
       "      <td>1994-04-30</td>\n",
       "    </tr>\n",
       "    <tr>\n",
       "      <th>2</th>\n",
       "      <td>1750</td>\n",
       "      <td>1994-08-24</td>\n",
       "      <td>0.934598</td>\n",
       "      <td>air</td>\n",
       "      <td>54594.0</td>\n",
       "      <td>1994-08-31</td>\n",
       "    </tr>\n",
       "    <tr>\n",
       "      <th>3</th>\n",
       "      <td>1750</td>\n",
       "      <td>1994-10-14</td>\n",
       "      <td>0.928699</td>\n",
       "      <td>air</td>\n",
       "      <td>54594.0</td>\n",
       "      <td>1994-10-31</td>\n",
       "    </tr>\n",
       "    <tr>\n",
       "      <th>4</th>\n",
       "      <td>1750</td>\n",
       "      <td>1995-01-13</td>\n",
       "      <td>0.868299</td>\n",
       "      <td>air</td>\n",
       "      <td>54594.0</td>\n",
       "      <td>1995-01-31</td>\n",
       "    </tr>\n",
       "  </tbody>\n",
       "</table>\n",
       "</div>"
      ],
      "text/plain": [
       "    cik filing_date  similarity  tic   permno      month\n",
       "0  1750  1994-01-13         NaN  air  54594.0 1994-01-31\n",
       "1  1750  1994-04-14    0.991912  air  54594.0 1994-04-30\n",
       "2  1750  1994-08-24    0.934598  air  54594.0 1994-08-31\n",
       "3  1750  1994-10-14    0.928699  air  54594.0 1994-10-31\n",
       "4  1750  1995-01-13    0.868299  air  54594.0 1995-01-31"
      ]
     },
     "execution_count": 21,
     "metadata": {},
     "output_type": "execute_result"
    }
   ],
   "source": [
    "df_similarity_permno['month'] = df_similarity_permno['filing_date'].dt.to_period('M').dt.to_timestamp('M')\n",
    "\n",
    "df_similarity_permno.head()"
   ]
  },
  {
   "cell_type": "markdown",
   "id": "ba67182d",
   "metadata": {},
   "source": [
    "### Merge scores with returns:"
   ]
  },
  {
   "cell_type": "code",
   "execution_count": 22,
   "id": "3540523a",
   "metadata": {},
   "outputs": [
    {
     "name": "stdout",
     "output_type": "stream",
     "text": [
      "(1303803, 8)\n"
     ]
    },
    {
     "data": {
      "application/vnd.microsoft.datawrangler.viewer.v0+json": {
       "columns": [
        {
         "name": "index",
         "rawType": "int64",
         "type": "integer"
        },
        {
         "name": "cik",
         "rawType": "int64",
         "type": "integer"
        },
        {
         "name": "filing_date",
         "rawType": "datetime64[ns]",
         "type": "datetime"
        },
        {
         "name": "similarity",
         "rawType": "float64",
         "type": "float"
        },
        {
         "name": "tic",
         "rawType": "object",
         "type": "string"
        },
        {
         "name": "permno",
         "rawType": "float64",
         "type": "float"
        },
        {
         "name": "month",
         "rawType": "datetime64[ns]",
         "type": "datetime"
        },
        {
         "name": "date",
         "rawType": "datetime64[ns]",
         "type": "datetime"
        },
        {
         "name": "ret",
         "rawType": "float64",
         "type": "float"
        }
       ],
       "conversionMethod": "pd.DataFrame",
       "ref": "ba6fe7fe-398d-4874-ab60-0cff5dd3523f",
       "rows": [
        [
         "0",
         "1750",
         "1994-01-13 00:00:00",
         null,
         "air",
         "54594.0",
         "1994-01-31 00:00:00",
         "1994-01-31 00:00:00",
         "14.6207"
        ],
        [
         "1",
         "1750",
         "1994-04-14 00:00:00",
         "0.9919124935715184",
         "air",
         "54594.0",
         "1994-04-30 00:00:00",
         null,
         null
        ],
        [
         "2",
         "1750",
         "1994-08-24 00:00:00",
         "0.9345975319160444",
         "air",
         "54594.0",
         "1994-08-31 00:00:00",
         "1994-08-31 00:00:00",
         "-2.7027"
        ],
        [
         "3",
         "1750",
         "1994-10-14 00:00:00",
         "0.9286989363593594",
         "air",
         "54594.0",
         "1994-10-31 00:00:00",
         "1994-10-31 00:00:00",
         "-4.8462"
        ],
        [
         "4",
         "1750",
         "1995-01-13 00:00:00",
         "0.8682989752815812",
         "air",
         "54594.0",
         "1995-01-31 00:00:00",
         "1995-01-31 00:00:00",
         "1.8318"
        ]
       ],
       "shape": {
        "columns": 8,
        "rows": 5
       }
      },
      "text/html": [
       "<div>\n",
       "<style scoped>\n",
       "    .dataframe tbody tr th:only-of-type {\n",
       "        vertical-align: middle;\n",
       "    }\n",
       "\n",
       "    .dataframe tbody tr th {\n",
       "        vertical-align: top;\n",
       "    }\n",
       "\n",
       "    .dataframe thead th {\n",
       "        text-align: right;\n",
       "    }\n",
       "</style>\n",
       "<table border=\"1\" class=\"dataframe\">\n",
       "  <thead>\n",
       "    <tr style=\"text-align: right;\">\n",
       "      <th></th>\n",
       "      <th>cik</th>\n",
       "      <th>filing_date</th>\n",
       "      <th>similarity</th>\n",
       "      <th>tic</th>\n",
       "      <th>permno</th>\n",
       "      <th>month</th>\n",
       "      <th>date</th>\n",
       "      <th>ret</th>\n",
       "    </tr>\n",
       "  </thead>\n",
       "  <tbody>\n",
       "    <tr>\n",
       "      <th>0</th>\n",
       "      <td>1750</td>\n",
       "      <td>1994-01-13</td>\n",
       "      <td>NaN</td>\n",
       "      <td>air</td>\n",
       "      <td>54594.0</td>\n",
       "      <td>1994-01-31</td>\n",
       "      <td>1994-01-31</td>\n",
       "      <td>14.6207</td>\n",
       "    </tr>\n",
       "    <tr>\n",
       "      <th>1</th>\n",
       "      <td>1750</td>\n",
       "      <td>1994-04-14</td>\n",
       "      <td>0.991912</td>\n",
       "      <td>air</td>\n",
       "      <td>54594.0</td>\n",
       "      <td>1994-04-30</td>\n",
       "      <td>NaT</td>\n",
       "      <td>NaN</td>\n",
       "    </tr>\n",
       "    <tr>\n",
       "      <th>2</th>\n",
       "      <td>1750</td>\n",
       "      <td>1994-08-24</td>\n",
       "      <td>0.934598</td>\n",
       "      <td>air</td>\n",
       "      <td>54594.0</td>\n",
       "      <td>1994-08-31</td>\n",
       "      <td>1994-08-31</td>\n",
       "      <td>-2.7027</td>\n",
       "    </tr>\n",
       "    <tr>\n",
       "      <th>3</th>\n",
       "      <td>1750</td>\n",
       "      <td>1994-10-14</td>\n",
       "      <td>0.928699</td>\n",
       "      <td>air</td>\n",
       "      <td>54594.0</td>\n",
       "      <td>1994-10-31</td>\n",
       "      <td>1994-10-31</td>\n",
       "      <td>-4.8462</td>\n",
       "    </tr>\n",
       "    <tr>\n",
       "      <th>4</th>\n",
       "      <td>1750</td>\n",
       "      <td>1995-01-13</td>\n",
       "      <td>0.868299</td>\n",
       "      <td>air</td>\n",
       "      <td>54594.0</td>\n",
       "      <td>1995-01-31</td>\n",
       "      <td>1995-01-31</td>\n",
       "      <td>1.8318</td>\n",
       "    </tr>\n",
       "  </tbody>\n",
       "</table>\n",
       "</div>"
      ],
      "text/plain": [
       "    cik filing_date  similarity  tic   permno      month       date      ret\n",
       "0  1750  1994-01-13         NaN  air  54594.0 1994-01-31 1994-01-31  14.6207\n",
       "1  1750  1994-04-14    0.991912  air  54594.0 1994-04-30        NaT      NaN\n",
       "2  1750  1994-08-24    0.934598  air  54594.0 1994-08-31 1994-08-31  -2.7027\n",
       "3  1750  1994-10-14    0.928699  air  54594.0 1994-10-31 1994-10-31  -4.8462\n",
       "4  1750  1995-01-13    0.868299  air  54594.0 1995-01-31 1995-01-31   1.8318"
      ]
     },
     "execution_count": 22,
     "metadata": {},
     "output_type": "execute_result"
    }
   ],
   "source": [
    "df_merge = df_similarity_permno.merge(\n",
    "    df_returns, \n",
    "    left_on=[\"permno\", \"month\"], \n",
    "    right_on=[\"permno\", \"date\"],\n",
    "    how=\"left\"\n",
    ")\n",
    "print(df_merge.shape)\n",
    "df_merge.head()\n"
   ]
  },
  {
   "cell_type": "markdown",
   "id": "5cbe8c40",
   "metadata": {},
   "source": [
    "Cleaning it up:"
   ]
  },
  {
   "cell_type": "code",
   "execution_count": 24,
   "id": "7fb2583a",
   "metadata": {},
   "outputs": [
    {
     "name": "stdout",
     "output_type": "stream",
     "text": [
      "(1303803, 5)\n"
     ]
    },
    {
     "data": {
      "application/vnd.microsoft.datawrangler.viewer.v0+json": {
       "columns": [
        {
         "name": "index",
         "rawType": "int64",
         "type": "integer"
        },
        {
         "name": "cik",
         "rawType": "int64",
         "type": "integer"
        },
        {
         "name": "tic",
         "rawType": "object",
         "type": "string"
        },
        {
         "name": "month",
         "rawType": "datetime64[ns]",
         "type": "datetime"
        },
        {
         "name": "similarity",
         "rawType": "float64",
         "type": "float"
        },
        {
         "name": "ret",
         "rawType": "float64",
         "type": "float"
        }
       ],
       "conversionMethod": "pd.DataFrame",
       "ref": "b2d372ea-0726-422b-8e7d-29f103f4b657",
       "rows": [
        [
         "0",
         "1750",
         "air",
         "1994-01-31 00:00:00",
         null,
         "14.6207"
        ],
        [
         "1",
         "1750",
         "air",
         "1994-04-30 00:00:00",
         "0.9919124935715184",
         null
        ],
        [
         "2",
         "1750",
         "air",
         "1994-08-31 00:00:00",
         "0.9345975319160444",
         "-2.7027"
        ],
        [
         "3",
         "1750",
         "air",
         "1994-10-31 00:00:00",
         "0.9286989363593594",
         "-4.8462"
        ],
        [
         "4",
         "1750",
         "air",
         "1995-01-31 00:00:00",
         "0.8682989752815812",
         "1.8318"
        ]
       ],
       "shape": {
        "columns": 5,
        "rows": 5
       }
      },
      "text/html": [
       "<div>\n",
       "<style scoped>\n",
       "    .dataframe tbody tr th:only-of-type {\n",
       "        vertical-align: middle;\n",
       "    }\n",
       "\n",
       "    .dataframe tbody tr th {\n",
       "        vertical-align: top;\n",
       "    }\n",
       "\n",
       "    .dataframe thead th {\n",
       "        text-align: right;\n",
       "    }\n",
       "</style>\n",
       "<table border=\"1\" class=\"dataframe\">\n",
       "  <thead>\n",
       "    <tr style=\"text-align: right;\">\n",
       "      <th></th>\n",
       "      <th>cik</th>\n",
       "      <th>tic</th>\n",
       "      <th>month</th>\n",
       "      <th>similarity</th>\n",
       "      <th>ret</th>\n",
       "    </tr>\n",
       "  </thead>\n",
       "  <tbody>\n",
       "    <tr>\n",
       "      <th>0</th>\n",
       "      <td>1750</td>\n",
       "      <td>air</td>\n",
       "      <td>1994-01-31</td>\n",
       "      <td>NaN</td>\n",
       "      <td>14.6207</td>\n",
       "    </tr>\n",
       "    <tr>\n",
       "      <th>1</th>\n",
       "      <td>1750</td>\n",
       "      <td>air</td>\n",
       "      <td>1994-04-30</td>\n",
       "      <td>0.991912</td>\n",
       "      <td>NaN</td>\n",
       "    </tr>\n",
       "    <tr>\n",
       "      <th>2</th>\n",
       "      <td>1750</td>\n",
       "      <td>air</td>\n",
       "      <td>1994-08-31</td>\n",
       "      <td>0.934598</td>\n",
       "      <td>-2.7027</td>\n",
       "    </tr>\n",
       "    <tr>\n",
       "      <th>3</th>\n",
       "      <td>1750</td>\n",
       "      <td>air</td>\n",
       "      <td>1994-10-31</td>\n",
       "      <td>0.928699</td>\n",
       "      <td>-4.8462</td>\n",
       "    </tr>\n",
       "    <tr>\n",
       "      <th>4</th>\n",
       "      <td>1750</td>\n",
       "      <td>air</td>\n",
       "      <td>1995-01-31</td>\n",
       "      <td>0.868299</td>\n",
       "      <td>1.8318</td>\n",
       "    </tr>\n",
       "  </tbody>\n",
       "</table>\n",
       "</div>"
      ],
      "text/plain": [
       "    cik  tic      month  similarity      ret\n",
       "0  1750  air 1994-01-31         NaN  14.6207\n",
       "1  1750  air 1994-04-30    0.991912      NaN\n",
       "2  1750  air 1994-08-31    0.934598  -2.7027\n",
       "3  1750  air 1994-10-31    0.928699  -4.8462\n",
       "4  1750  air 1995-01-31    0.868299   1.8318"
      ]
     },
     "execution_count": 24,
     "metadata": {},
     "output_type": "execute_result"
    }
   ],
   "source": [
    "df_clean = df_merge[['cik', 'tic', 'month', 'similarity', 'ret']]\n",
    "print(df_clean.shape)\n",
    "df_clean.head()\n"
   ]
  },
  {
   "cell_type": "markdown",
   "id": "087c19bc",
   "metadata": {},
   "source": [
    "Saving the file for future portfolio construction and analysis:"
   ]
  },
  {
   "cell_type": "code",
   "execution_count": 25,
   "id": "f58be147",
   "metadata": {},
   "outputs": [
    {
     "name": "stdout",
     "output_type": "stream",
     "text": [
      "Saved cleaned similarity + returns file with shape (1303803, 5) to ../data/processed/full_similarity_with_returns.csv\n"
     ]
    }
   ],
   "source": [
    "# Save to processed folder\n",
    "output_path = \"../data/processed/full_similarity_with_returns.csv\"\n",
    "df_clean.to_csv(output_path, index=False)\n",
    "\n",
    "print(f\"Saved cleaned similarity + returns file with shape {df_clean.shape} to {output_path}\")\n"
   ]
  }
 ],
 "metadata": {
  "kernelspec": {
   "display_name": "base",
   "language": "python",
   "name": "python3"
  },
  "language_info": {
   "codemirror_mode": {
    "name": "ipython",
    "version": 3
   },
   "file_extension": ".py",
   "mimetype": "text/x-python",
   "name": "python",
   "nbconvert_exporter": "python",
   "pygments_lexer": "ipython3",
   "version": "3.12.7"
  }
 },
 "nbformat": 4,
 "nbformat_minor": 5
}
