{
 "cells": [
  {
   "cell_type": "code",
   "execution_count": 40,
   "id": "1f1a172b-5493-42ff-bca6-8f53f7ffd613",
   "metadata": {},
   "outputs": [
    {
     "name": "stdout",
     "output_type": "stream",
     "text": [
      "    cik  tic       month  similarity      ret\n",
      "0  1750  air  1994-01-31         NaN  14.6207\n",
      "1  1750  air  1994-04-30    0.991912      NaN\n",
      "2  1750  air  1994-08-31    0.934598  -2.7027\n",
      "3  1750  air  1994-10-31    0.928699  -4.8462\n",
      "4  1750  air  1995-01-31    0.868299   1.8318\n"
     ]
    },
    {
     "data": {
      "application/vnd.microsoft.datawrangler.viewer.v0+json": {
       "columns": [
        {
         "name": "index",
         "rawType": "int64",
         "type": "integer"
        },
        {
         "name": "cik",
         "rawType": "int64",
         "type": "integer"
        },
        {
         "name": "tic",
         "rawType": "object",
         "type": "unknown"
        },
        {
         "name": "month",
         "rawType": "object",
         "type": "string"
        },
        {
         "name": "similarity_score",
         "rawType": "float64",
         "type": "float"
        },
        {
         "name": "ret",
         "rawType": "float64",
         "type": "float"
        }
       ],
       "conversionMethod": "pd.DataFrame",
       "ref": "8c24eba5-a295-4c43-9e7f-01e3f98138c2",
       "rows": [
        [
         "0",
         "1750",
         "air",
         "1994-01-31",
         null,
         "14.6207"
        ],
        [
         "1",
         "1750",
         "air",
         "1994-04-30",
         "0.9919124935715184",
         null
        ],
        [
         "2",
         "1750",
         "air",
         "1994-08-31",
         "0.9345975319160444",
         "-2.7027"
        ],
        [
         "3",
         "1750",
         "air",
         "1994-10-31",
         "0.9286989363593594",
         "-4.8462"
        ],
        [
         "4",
         "1750",
         "air",
         "1995-01-31",
         "0.8682989752815812",
         "1.8318"
        ],
        [
         "5",
         "1800",
         "abt",
         "1994-03-31",
         null,
         "-3.6199"
        ],
        [
         "6",
         "1800",
         "abt",
         "1994-05-31",
         "0.9346388411313687",
         "5.2863"
        ],
        [
         "7",
         "1800",
         "abt",
         "1994-08-31",
         "0.8885147481770947",
         "6.6667"
        ],
        [
         "8",
         "1800",
         "abt",
         "1994-11-30",
         "0.985544713370943",
         "2.8226"
        ],
        [
         "9",
         "2024",
         null,
         "1994-03-31",
         null,
         null
        ],
        [
         "10",
         "2024",
         null,
         "1994-05-31",
         "0.8437109470502007",
         null
        ],
        [
         "11",
         "2024",
         null,
         "1994-08-31",
         "0.9758129339283578",
         null
        ],
        [
         "12",
         "2024",
         null,
         "1994-11-30",
         "0.985324567724666",
         null
        ],
        [
         "13",
         "2145",
         null,
         "1994-11-30",
         null,
         null
        ],
        [
         "14",
         "2488",
         "amd",
         "1994-03-31",
         null,
         "45.3488"
        ],
        [
         "15",
         "2488",
         "amd",
         "1994-04-30",
         "0.8992338631636239",
         null
        ],
        [
         "16",
         "2488",
         "amd",
         "1994-04-30",
         "0.9584442717880834",
         null
        ],
        [
         "17",
         "2488",
         "amd",
         "1994-05-31",
         "0.8744835273249444",
         "2.3697"
        ],
        [
         "18",
         "2488",
         "amd",
         "1994-08-31",
         "0.8687560721110833",
         "7.4074"
        ],
        [
         "19",
         "2488",
         "amd",
         "1994-11-30",
         "0.929824388507994",
         "-4.2654"
        ],
        [
         "20",
         "2648",
         null,
         "1994-03-31",
         null,
         null
        ],
        [
         "21",
         "2648",
         null,
         "1994-05-31",
         "0.9714389608552004",
         null
        ],
        [
         "22",
         "2648",
         null,
         "1994-08-31",
         "0.8710001720273155",
         null
        ],
        [
         "23",
         "2648",
         null,
         "1994-10-31",
         "0.8839044124391235",
         null
        ],
        [
         "24",
         "2852",
         null,
         "1994-02-28",
         null,
         null
        ],
        [
         "25",
         "2852",
         null,
         "1994-05-31",
         "0.9908929201694924",
         null
        ],
        [
         "26",
         "2852",
         null,
         "1994-09-30",
         "0.9729684859188008",
         null
        ],
        [
         "27",
         "2852",
         null,
         "1994-11-30",
         "0.977644828068166",
         null
        ],
        [
         "28",
         "2969",
         "apd",
         "1994-02-28",
         null,
         "-4.0302"
        ],
        [
         "29",
         "2969",
         "apd",
         "1994-03-31",
         "0.7700609775122151",
         "-5.8163"
        ],
        [
         "30",
         "2969",
         "apd",
         "1994-05-31",
         "0.7587170652251912",
         "-2.3121"
        ],
        [
         "31",
         "2969",
         "apd",
         "1994-08-31",
         "0.9846995267252988",
         "3.6458"
        ],
        [
         "32",
         "2969",
         "apd",
         "1994-12-31",
         "0.9255903943105076",
         null
        ],
        [
         "33",
         "3000",
         null,
         "1994-03-31",
         null,
         null
        ],
        [
         "34",
         "3000",
         null,
         "1994-05-31",
         "0.8576134527714827",
         null
        ],
        [
         "35",
         "3000",
         null,
         "1994-08-31",
         "0.9681031983501696",
         null
        ],
        [
         "36",
         "3000",
         null,
         "1994-11-30",
         "0.9779748735284804",
         null
        ],
        [
         "37",
         "3133",
         null,
         "1994-03-31",
         null,
         null
        ],
        [
         "38",
         "3133",
         null,
         "1994-05-31",
         "0.9201039023057004",
         null
        ],
        [
         "39",
         "3133",
         null,
         "1994-08-31",
         "0.8309005963234307",
         null
        ],
        [
         "40",
         "3133",
         null,
         "1994-11-30",
         "0.899037196814714",
         null
        ],
        [
         "41",
         "3146",
         null,
         "1994-02-28",
         null,
         null
        ],
        [
         "42",
         "3146",
         null,
         "1994-05-31",
         "0.9892923147926314",
         null
        ],
        [
         "43",
         "3146",
         null,
         "1994-08-31",
         "0.9927802271630322",
         null
        ],
        [
         "44",
         "3146",
         null,
         "1994-12-31",
         "0.9451086158040488",
         null
        ],
        [
         "45",
         "3153",
         null,
         "1994-03-31",
         null,
         null
        ],
        [
         "46",
         "3153",
         null,
         "1994-05-31",
         "0.9313005790613113",
         null
        ],
        [
         "47",
         "3153",
         null,
         "1994-08-31",
         "0.9969984925818852",
         null
        ],
        [
         "48",
         "3153",
         null,
         "1994-11-30",
         "0.99763971031886",
         null
        ],
        [
         "49",
         "3333",
         null,
         "1994-01-31",
         null,
         null
        ]
       ],
       "shape": {
        "columns": 5,
        "rows": 1303803
       }
      },
      "text/html": [
       "<div>\n",
       "<style scoped>\n",
       "    .dataframe tbody tr th:only-of-type {\n",
       "        vertical-align: middle;\n",
       "    }\n",
       "\n",
       "    .dataframe tbody tr th {\n",
       "        vertical-align: top;\n",
       "    }\n",
       "\n",
       "    .dataframe thead th {\n",
       "        text-align: right;\n",
       "    }\n",
       "</style>\n",
       "<table border=\"1\" class=\"dataframe\">\n",
       "  <thead>\n",
       "    <tr style=\"text-align: right;\">\n",
       "      <th></th>\n",
       "      <th>cik</th>\n",
       "      <th>tic</th>\n",
       "      <th>month</th>\n",
       "      <th>similarity_score</th>\n",
       "      <th>ret</th>\n",
       "    </tr>\n",
       "  </thead>\n",
       "  <tbody>\n",
       "    <tr>\n",
       "      <th>0</th>\n",
       "      <td>1750</td>\n",
       "      <td>air</td>\n",
       "      <td>1994-01-31</td>\n",
       "      <td>NaN</td>\n",
       "      <td>14.6207</td>\n",
       "    </tr>\n",
       "    <tr>\n",
       "      <th>1</th>\n",
       "      <td>1750</td>\n",
       "      <td>air</td>\n",
       "      <td>1994-04-30</td>\n",
       "      <td>0.991912</td>\n",
       "      <td>NaN</td>\n",
       "    </tr>\n",
       "    <tr>\n",
       "      <th>2</th>\n",
       "      <td>1750</td>\n",
       "      <td>air</td>\n",
       "      <td>1994-08-31</td>\n",
       "      <td>0.934598</td>\n",
       "      <td>-2.7027</td>\n",
       "    </tr>\n",
       "    <tr>\n",
       "      <th>3</th>\n",
       "      <td>1750</td>\n",
       "      <td>air</td>\n",
       "      <td>1994-10-31</td>\n",
       "      <td>0.928699</td>\n",
       "      <td>-4.8462</td>\n",
       "    </tr>\n",
       "    <tr>\n",
       "      <th>4</th>\n",
       "      <td>1750</td>\n",
       "      <td>air</td>\n",
       "      <td>1995-01-31</td>\n",
       "      <td>0.868299</td>\n",
       "      <td>1.8318</td>\n",
       "    </tr>\n",
       "    <tr>\n",
       "      <th>...</th>\n",
       "      <td>...</td>\n",
       "      <td>...</td>\n",
       "      <td>...</td>\n",
       "      <td>...</td>\n",
       "      <td>...</td>\n",
       "    </tr>\n",
       "    <tr>\n",
       "      <th>1303798</th>\n",
       "      <td>2029303</td>\n",
       "      <td>NaN</td>\n",
       "      <td>2024-11-30</td>\n",
       "      <td>NaN</td>\n",
       "      <td>NaN</td>\n",
       "    </tr>\n",
       "    <tr>\n",
       "      <th>1303799</th>\n",
       "      <td>2031561</td>\n",
       "      <td>NaN</td>\n",
       "      <td>2024-11-30</td>\n",
       "      <td>NaN</td>\n",
       "      <td>NaN</td>\n",
       "    </tr>\n",
       "    <tr>\n",
       "      <th>1303800</th>\n",
       "      <td>2032950</td>\n",
       "      <td>NaN</td>\n",
       "      <td>2024-12-31</td>\n",
       "      <td>NaN</td>\n",
       "      <td>NaN</td>\n",
       "    </tr>\n",
       "    <tr>\n",
       "      <th>1303801</th>\n",
       "      <td>2033615</td>\n",
       "      <td>NaN</td>\n",
       "      <td>2024-12-31</td>\n",
       "      <td>NaN</td>\n",
       "      <td>NaN</td>\n",
       "    </tr>\n",
       "    <tr>\n",
       "      <th>1303802</th>\n",
       "      <td>2042694</td>\n",
       "      <td>NaN</td>\n",
       "      <td>2024-12-31</td>\n",
       "      <td>NaN</td>\n",
       "      <td>NaN</td>\n",
       "    </tr>\n",
       "  </tbody>\n",
       "</table>\n",
       "<p>1303803 rows × 5 columns</p>\n",
       "</div>"
      ],
      "text/plain": [
       "             cik  tic       month  similarity_score      ret\n",
       "0           1750  air  1994-01-31               NaN  14.6207\n",
       "1           1750  air  1994-04-30          0.991912      NaN\n",
       "2           1750  air  1994-08-31          0.934598  -2.7027\n",
       "3           1750  air  1994-10-31          0.928699  -4.8462\n",
       "4           1750  air  1995-01-31          0.868299   1.8318\n",
       "...          ...  ...         ...               ...      ...\n",
       "1303798  2029303  NaN  2024-11-30               NaN      NaN\n",
       "1303799  2031561  NaN  2024-11-30               NaN      NaN\n",
       "1303800  2032950  NaN  2024-12-31               NaN      NaN\n",
       "1303801  2033615  NaN  2024-12-31               NaN      NaN\n",
       "1303802  2042694  NaN  2024-12-31               NaN      NaN\n",
       "\n",
       "[1303803 rows x 5 columns]"
      ]
     },
     "execution_count": 40,
     "metadata": {},
     "output_type": "execute_result"
    }
   ],
   "source": [
    "import pandas as pd\n",
    "\n",
    "# Load your real dataset\n",
    "df = pd.read_csv('../data/processed/full_similarity_with_returns.csv')\n",
    "\n",
    "# Preview the data\n",
    "print(df.head())\n",
    "\n",
    "df = df.rename(columns={\"filing_date\": \"month\"})\n",
    "df = df.rename(columns={\"similarity\": \"similarity_score\"})\n",
    "\n",
    "\n",
    "df\n"
   ]
  },
  {
   "cell_type": "markdown",
   "id": "26b9afa1",
   "metadata": {},
   "source": [
    "### Removing missing values\n",
    "\n",
    "It is valid to drop missing rows. Need description."
   ]
  },
  {
   "cell_type": "code",
   "execution_count": 41,
   "id": "28d46afc",
   "metadata": {},
   "outputs": [
    {
     "name": "stdout",
     "output_type": "stream",
     "text": [
      "cik                       0\n",
      "tic                  956934\n",
      "month                     0\n",
      "similarity_score    1004951\n",
      "ret                 1152829\n",
      "dtype: int64\n",
      "(1303803, 5)\n",
      "cik                 0\n",
      "tic                 0\n",
      "month               0\n",
      "similarity_score    0\n",
      "ret                 0\n",
      "dtype: int64\n",
      "(34027, 5)\n"
     ]
    },
    {
     "data": {
      "application/vnd.microsoft.datawrangler.viewer.v0+json": {
       "columns": [
        {
         "name": "index",
         "rawType": "int64",
         "type": "integer"
        },
        {
         "name": "cik",
         "rawType": "int64",
         "type": "integer"
        },
        {
         "name": "tic",
         "rawType": "object",
         "type": "string"
        },
        {
         "name": "month",
         "rawType": "object",
         "type": "string"
        },
        {
         "name": "similarity_score",
         "rawType": "float64",
         "type": "float"
        },
        {
         "name": "ret",
         "rawType": "float64",
         "type": "float"
        }
       ],
       "conversionMethod": "pd.DataFrame",
       "ref": "52f7f8ee-eaf2-4c7c-9a39-5a0b5e5d5ae5",
       "rows": [
        [
         "2",
         "1750",
         "air",
         "1994-08-31",
         "0.9345975319160444",
         "-2.7027"
        ],
        [
         "3",
         "1750",
         "air",
         "1994-10-31",
         "0.9286989363593594",
         "-4.8462"
        ],
        [
         "4",
         "1750",
         "air",
         "1995-01-31",
         "0.8682989752815812",
         "1.8318"
        ],
        [
         "6",
         "1800",
         "abt",
         "1994-05-31",
         "0.9346388411313687",
         "5.2863"
        ],
        [
         "7",
         "1800",
         "abt",
         "1994-08-31",
         "0.8885147481770947",
         "6.6667"
        ],
        [
         "8",
         "1800",
         "abt",
         "1994-11-30",
         "0.985544713370943",
         "2.8226"
        ],
        [
         "17",
         "2488",
         "amd",
         "1994-05-31",
         "0.8744835273249444",
         "2.3697"
        ],
        [
         "18",
         "2488",
         "amd",
         "1994-08-31",
         "0.8687560721110833",
         "7.4074"
        ],
        [
         "19",
         "2488",
         "amd",
         "1994-11-30",
         "0.929824388507994",
         "-4.2654"
        ],
        [
         "29",
         "2969",
         "apd",
         "1994-03-31",
         "0.7700609775122151",
         "-5.8163"
        ],
        [
         "30",
         "2969",
         "apd",
         "1994-05-31",
         "0.7587170652251912",
         "-2.3121"
        ],
        [
         "31",
         "2969",
         "apd",
         "1994-08-31",
         "0.9846995267252988",
         "3.6458"
        ],
        [
         "97",
         "4447",
         "hes",
         "1994-05-31",
         "0.9603784677139764",
         "-1.4925"
        ],
        [
         "98",
         "4447",
         "hes",
         "1994-08-31",
         "0.9796691564657256",
         "-3.3654"
        ],
        [
         "99",
         "4447",
         "hes",
         "1994-11-30",
         "0.9766816060813878",
         "-8.5427"
        ],
        [
         "128",
         "4904",
         "aep",
         "1994-08-31",
         "0.980951059937596",
         "5.2459"
        ],
        [
         "143",
         "4962",
         "axp",
         "1994-05-31",
         "0.919141647438222",
         "5.4008"
        ],
        [
         "144",
         "4962",
         "axp",
         "1994-06-30",
         "0.7857273144063287",
         "-6.7873"
        ],
        [
         "145",
         "4962",
         "axp",
         "1994-08-31",
         "0.8199068295759916",
         "6.1321"
        ],
        [
         "146",
         "4962",
         "axp",
         "1994-11-30",
         "0.9574520251356872",
         "-4.0486"
        ],
        [
         "152",
         "4977",
         "afl",
         "1994-05-31",
         "0.9094377168518476",
         "10.6667"
        ],
        [
         "153",
         "4977",
         "afl",
         "1994-08-31",
         "0.9759545265934324",
         "3.1971"
        ],
        [
         "154",
         "4977",
         "afl",
         "1994-11-30",
         "0.9803469437836408",
         "-0.3956"
        ],
        [
         "178",
         "5272",
         "aig",
         "1994-05-31",
         "0.981425942082346",
         "9.6481"
        ],
        [
         "179",
         "5272",
         "aig",
         "1994-08-31",
         "0.9952059076330084",
         "-0.1432"
        ],
        [
         "180",
         "5272",
         "aig",
         "1994-11-30",
         "0.997367573905232",
         "-2.1469"
        ],
        [
         "215",
         "6176",
         "ap",
         "1994-05-31",
         "0.9643131598268232",
         "-11.2676"
        ],
        [
         "216",
         "6176",
         "ap",
         "1994-08-31",
         "0.9874139042047289",
         "6.8966"
        ],
        [
         "217",
         "6176",
         "ap",
         "1994-11-30",
         "0.8829894179858316",
         "0.0"
        ],
        [
         "220",
         "6201",
         "aal",
         "1994-05-31",
         "0.9413883044400496",
         "-9.0535"
        ],
        [
         "221",
         "6201",
         "aal",
         "1994-05-31",
         "0.9413883044400496",
         "8.547"
        ],
        [
         "222",
         "6201",
         "aal",
         "1994-08-31",
         "0.9502357284516536",
         "5.2402"
        ],
        [
         "223",
         "6201",
         "aal",
         "1994-08-31",
         "0.9502357284516536",
         "3.9241"
        ],
        [
         "224",
         "6201",
         "aal",
         "1994-11-30",
         "0.956678084485628",
         "-7.9365"
        ],
        [
         "225",
         "6201",
         "aal",
         "1994-11-30",
         "0.956678084485628",
         "-6.6667"
        ],
        [
         "228",
         "6207",
         "axr",
         "1994-09-30",
         "0.8822316324463505",
         "1.6949"
        ],
        [
         "235",
         "6281",
         "adi",
         "1994-06-30",
         "0.8191575408091836",
         "2.6786"
        ],
        [
         "236",
         "6281",
         "adi",
         "1994-09-30",
         "0.8256856484004986",
         "2.3256"
        ],
        [
         "258",
         "6845",
         "apog",
         "1994-05-31",
         "0.9352091803208574",
         "-9.9048"
        ],
        [
         "260",
         "6845",
         "apog",
         "1994-09-30",
         "0.8215488000470811",
         "10.0"
        ],
        [
         "261",
         "6845",
         "apog",
         "1995-01-31",
         "0.999745921703475",
         "-6.7826"
        ],
        [
         "271",
         "6951",
         "amat",
         "1994-06-30",
         "0.8784479619094039",
         "-2.0057"
        ],
        [
         "272",
         "6951",
         "amat",
         "1994-09-30",
         "0.9557718859208364",
         "-7.4257"
        ],
        [
         "280",
         "7084",
         "adm",
         "1994-05-31",
         "0.9837961063645528",
         "5.0"
        ],
        [
         "281",
         "7084",
         "adm",
         "1994-05-31",
         "0.7321325098288021",
         "5.0"
        ],
        [
         "282",
         "7084",
         "adm",
         "1994-09-30",
         "0.7032611288600007",
         "0.9709"
        ],
        [
         "283",
         "7084",
         "adm",
         "1994-11-30",
         "0.9252982053783724",
         "-3.4935"
        ],
        [
         "306",
         "7332",
         "swn",
         "1994-05-31",
         "0.9242939811026604",
         "-2.2901"
        ],
        [
         "307",
         "7332",
         "swn",
         "1994-08-31",
         "0.9897437373973696",
         "2.2222"
        ],
        [
         "308",
         "7332",
         "swn",
         "1994-11-30",
         "0.985741927667093",
         "-8.6957"
        ]
       ],
       "shape": {
        "columns": 5,
        "rows": 34027
       }
      },
      "text/html": [
       "<div>\n",
       "<style scoped>\n",
       "    .dataframe tbody tr th:only-of-type {\n",
       "        vertical-align: middle;\n",
       "    }\n",
       "\n",
       "    .dataframe tbody tr th {\n",
       "        vertical-align: top;\n",
       "    }\n",
       "\n",
       "    .dataframe thead th {\n",
       "        text-align: right;\n",
       "    }\n",
       "</style>\n",
       "<table border=\"1\" class=\"dataframe\">\n",
       "  <thead>\n",
       "    <tr style=\"text-align: right;\">\n",
       "      <th></th>\n",
       "      <th>cik</th>\n",
       "      <th>tic</th>\n",
       "      <th>month</th>\n",
       "      <th>similarity_score</th>\n",
       "      <th>ret</th>\n",
       "    </tr>\n",
       "  </thead>\n",
       "  <tbody>\n",
       "    <tr>\n",
       "      <th>2</th>\n",
       "      <td>1750</td>\n",
       "      <td>air</td>\n",
       "      <td>1994-08-31</td>\n",
       "      <td>0.934598</td>\n",
       "      <td>-2.7027</td>\n",
       "    </tr>\n",
       "    <tr>\n",
       "      <th>3</th>\n",
       "      <td>1750</td>\n",
       "      <td>air</td>\n",
       "      <td>1994-10-31</td>\n",
       "      <td>0.928699</td>\n",
       "      <td>-4.8462</td>\n",
       "    </tr>\n",
       "    <tr>\n",
       "      <th>4</th>\n",
       "      <td>1750</td>\n",
       "      <td>air</td>\n",
       "      <td>1995-01-31</td>\n",
       "      <td>0.868299</td>\n",
       "      <td>1.8318</td>\n",
       "    </tr>\n",
       "    <tr>\n",
       "      <th>6</th>\n",
       "      <td>1800</td>\n",
       "      <td>abt</td>\n",
       "      <td>1994-05-31</td>\n",
       "      <td>0.934639</td>\n",
       "      <td>5.2863</td>\n",
       "    </tr>\n",
       "    <tr>\n",
       "      <th>7</th>\n",
       "      <td>1800</td>\n",
       "      <td>abt</td>\n",
       "      <td>1994-08-31</td>\n",
       "      <td>0.888515</td>\n",
       "      <td>6.6667</td>\n",
       "    </tr>\n",
       "    <tr>\n",
       "      <th>...</th>\n",
       "      <td>...</td>\n",
       "      <td>...</td>\n",
       "      <td>...</td>\n",
       "      <td>...</td>\n",
       "      <td>...</td>\n",
       "    </tr>\n",
       "    <tr>\n",
       "      <th>1299053</th>\n",
       "      <td>85535</td>\n",
       "      <td>rgld</td>\n",
       "      <td>2024-12-31</td>\n",
       "      <td>0.923907</td>\n",
       "      <td>-9.8523</td>\n",
       "    </tr>\n",
       "    <tr>\n",
       "      <th>1300115</th>\n",
       "      <td>1058811</td>\n",
       "      <td>immr</td>\n",
       "      <td>2024-12-31</td>\n",
       "      <td>0.985401</td>\n",
       "      <td>-2.3490</td>\n",
       "    </tr>\n",
       "    <tr>\n",
       "      <th>1300909</th>\n",
       "      <td>1393612</td>\n",
       "      <td>dfs</td>\n",
       "      <td>2024-12-31</td>\n",
       "      <td>0.977140</td>\n",
       "      <td>-5.0430</td>\n",
       "    </tr>\n",
       "    <tr>\n",
       "      <th>1300910</th>\n",
       "      <td>1393612</td>\n",
       "      <td>dfs</td>\n",
       "      <td>2024-12-31</td>\n",
       "      <td>0.998017</td>\n",
       "      <td>-5.0430</td>\n",
       "    </tr>\n",
       "    <tr>\n",
       "      <th>1300911</th>\n",
       "      <td>1393612</td>\n",
       "      <td>dfs</td>\n",
       "      <td>2024-12-31</td>\n",
       "      <td>0.996312</td>\n",
       "      <td>-5.0430</td>\n",
       "    </tr>\n",
       "  </tbody>\n",
       "</table>\n",
       "<p>34027 rows × 5 columns</p>\n",
       "</div>"
      ],
      "text/plain": [
       "             cik   tic       month  similarity_score     ret\n",
       "2           1750   air  1994-08-31          0.934598 -2.7027\n",
       "3           1750   air  1994-10-31          0.928699 -4.8462\n",
       "4           1750   air  1995-01-31          0.868299  1.8318\n",
       "6           1800   abt  1994-05-31          0.934639  5.2863\n",
       "7           1800   abt  1994-08-31          0.888515  6.6667\n",
       "...          ...   ...         ...               ...     ...\n",
       "1299053    85535  rgld  2024-12-31          0.923907 -9.8523\n",
       "1300115  1058811  immr  2024-12-31          0.985401 -2.3490\n",
       "1300909  1393612   dfs  2024-12-31          0.977140 -5.0430\n",
       "1300910  1393612   dfs  2024-12-31          0.998017 -5.0430\n",
       "1300911  1393612   dfs  2024-12-31          0.996312 -5.0430\n",
       "\n",
       "[34027 rows x 5 columns]"
      ]
     },
     "execution_count": 41,
     "metadata": {},
     "output_type": "execute_result"
    }
   ],
   "source": [
    "print(df.isna().sum())\n",
    "print(df.shape)\n",
    "\n",
    "df = df.dropna(subset=['similarity_score'])\n",
    "df = df.dropna(subset=['tic'])\n",
    "df = df.dropna(subset=['ret'])\n",
    "\n",
    "print(df.isna().sum())\n",
    "print(df.shape)\n",
    "\n",
    "df"
   ]
  },
  {
   "cell_type": "markdown",
   "id": "db829448",
   "metadata": {},
   "source": [
    "We also need to remove rows where there is only one row per month, since we can't construct that portfolio."
   ]
  },
  {
   "cell_type": "code",
   "execution_count": 43,
   "id": "ddce9649",
   "metadata": {},
   "outputs": [],
   "source": [
    "# Step 1: Remove months with only 1 stock\n",
    "month_counts = df['month'].value_counts()\n",
    "valid_months = month_counts[month_counts > 1].index\n",
    "df = df[df['month'].isin(valid_months)].copy()"
   ]
  },
  {
   "cell_type": "markdown",
   "id": "64576104",
   "metadata": {},
   "source": [
    "Assigning quintiles"
   ]
  },
  {
   "cell_type": "code",
   "execution_count": null,
   "id": "e4f3bf7b-7a0c-4618-9110-eef313ad6033",
   "metadata": {},
   "outputs": [
    {
     "name": "stderr",
     "output_type": "stream",
     "text": [
      "/var/folders/nx/v58k3cwd0wlgff1pwy874p600000gn/T/ipykernel_29689/135029239.py:11: DeprecationWarning: DataFrameGroupBy.apply operated on the grouping columns. This behavior is deprecated, and in a future version of pandas the grouping columns will be excluded from the operation. Either pass `include_groups=False` to exclude the groupings or explicitly select the grouping columns after groupby to silence this warning.\n",
      "  df = df.groupby('month', group_keys=False).apply(custom_assign_quintile)\n"
     ]
    }
   ],
   "source": [
    "def custom_assign_quintile(group):\n",
    "    group = group.sort_values('similarity_score', ascending=False).reset_index(drop=True)\n",
    "    \n",
    "    if len(group) == 2:\n",
    "        group['quintile'] = [5, 1]  # Long top, short bottom\n",
    "    else:\n",
    "        group['quintile'] = pd.qcut(group.index, 5, labels=[5,4,3,2,1]).astype(int) # binning handled automatically\n",
    "    \n",
    "    return group\n",
    "\n",
    "df = df.groupby('month', group_keys=False).apply(custom_assign_quintile)\n",
    "\n",
    "# 5 is long, 1 is short"
   ]
  },
  {
   "cell_type": "code",
   "execution_count": 56,
   "id": "753f3b7f-1c03-478e-903f-0a498a8ab112",
   "metadata": {},
   "outputs": [],
   "source": [
    "#Compute monthly long-short portfolio returns\n",
    "portfolio_rets = []\n",
    "for month, group in df.groupby('month'):\n",
    "    long_ret = group.loc[group['quintile'] == 5, 'ret'].mean()\n",
    "    short_ret = group.loc[group['quintile'] == 1, 'ret'].mean()\n",
    "    long_short = long_ret - short_ret\n",
    "    portfolio_rets.append({'month': month, 'portfolio_return': long_short})\n",
    "\n",
    "portfolio_df = pd.DataFrame(portfolio_rets)\n",
    "portfolio_df['month'] = pd.to_datetime(portfolio_df['month'])\n",
    "portfolio_df = portfolio_df.sort_values('month')"
   ]
  },
  {
   "cell_type": "code",
   "execution_count": 57,
   "id": "8405022c-96b8-4bdf-ae8b-df03592fc0b7",
   "metadata": {},
   "outputs": [],
   "source": [
    "#Calculate cumulative return (growth of $1, if ret is percent, convert to decimal first)\n",
    "portfolio_df['portfolio_return_decimal'] = portfolio_df['portfolio_return'] / 100\n",
    "portfolio_df['cum_portfolio'] = (1 + portfolio_df['portfolio_return_decimal']).cumprod()\n"
   ]
  },
  {
   "cell_type": "code",
   "execution_count": null,
   "id": "260cb080",
   "metadata": {},
   "outputs": [],
   "source": [
    "portfolio_df"
   ]
  },
  {
   "cell_type": "code",
   "execution_count": 58,
   "id": "60d8be6d-3aad-47c5-acae-0d76ef4a08bd",
   "metadata": {},
   "outputs": [
    {
     "name": "stdout",
     "output_type": "stream",
     "text": [
      "       month  portfolio_return  portfolio_return_decimal  cum_portfolio\n",
      "0 1994-01-31         16.980800                  0.169808       1.169808\n",
      "1 1994-02-28        -36.893950                 -0.368940       0.738220\n",
      "2 1994-03-31         -6.443933                 -0.064439       0.690649\n",
      "3 1994-05-31         -0.289555                 -0.002896       0.688649\n",
      "4 1994-06-30          2.171164                  0.021712       0.703601\n"
     ]
    }
   ],
   "source": [
    "#Output your results\n",
    "print(portfolio_df.head())\n",
    "# Save your portfolio DataFrame as a CSV file in the right path\n",
    "portfolio_df.to_csv(\"../data/processed/full_portfolio_returns.csv\", index=False)\n"
   ]
  },
  {
   "cell_type": "code",
   "execution_count": 49,
   "id": "b20bbfb2-bc14-4c00-9bff-b394ebc31f08",
   "metadata": {},
   "outputs": [
    {
     "data": {
      "image/png": "[encoded data removed]",
      "text/plain": [
       "<Figure size 1000x500 with 1 Axes>"
      ]
     },
     "metadata": {},
     "output_type": "display_data"
    }
   ],
   "source": [
    "\n",
    "import matplotlib.pyplot as plt\n",
    "\n",
    "plt.figure(figsize=(10,5))\n",
    "plt.plot(portfolio_df['month'], portfolio_df['portfolio_return'], marker='o', label='Monthly Portfolio Return')\n",
    "plt.xlabel('Month')\n",
    "plt.ylabel('Monthly Long-Short Return (%)')\n",
    "plt.title('Monthly Long-Short Portfolio Return')\n",
    "plt.legend()\n",
    "plt.grid(alpha=0.3)\n",
    "plt.xticks(rotation=45)\n",
    "plt.tight_layout()\n",
    "plt.show()\n",
    "\n"
   ]
  },
  {
   "cell_type": "code",
   "execution_count": 53,
   "id": "057fe04b-af44-49ca-8777-b7111c70e78d",
   "metadata": {},
   "outputs": [
    {
     "name": "stdout",
     "output_type": "stream",
     "text": [
      "Index(['observation_date', 'SP500'], dtype='object')\n",
      "        month  sp500_return\n",
      "1  2015-04-28      0.276919\n",
      "2  2015-04-29     -0.374038\n",
      "3  2015-04-30     -1.012887\n",
      "4  2015-05-01      1.092299\n",
      "5  2015-05-04      0.294077\n"
     ]
    },
    {
     "name": "stderr",
     "output_type": "stream",
     "text": [
      "/var/folders/nx/v58k3cwd0wlgff1pwy874p600000gn/T/ipykernel_29689/2525207793.py:22: FutureWarning: The default fill_method='pad' in Series.pct_change is deprecated and will be removed in a future version. Either fill in any non-leading NA values prior to calling pct_change or specify 'fill_method=None' to not fill NA values.\n",
      "  sp500['sp500_return'] = sp500['sp500_index'].pct_change() * 100\n"
     ]
    }
   ],
   "source": [
    "# S&P 500\n",
    "import pandas as pd\n",
    "\n",
    "# Download S&P 500 from FRED\n",
    "fred_url = \"https://fred.stlouisfed.org/graph/fredgraph.csv?id=SP500\"\n",
    "sp500 = pd.read_csv(fred_url)\n",
    "\n",
    "# Check real column names\n",
    "print(sp500.columns)\n",
    "# Likely: ['observation_date', 'SP500']\n",
    "\n",
    "# Convert date and rename for consistency\n",
    "sp500['month'] = pd.to_datetime(sp500['observation_date'])\n",
    "sp500 = sp500.rename(columns={'SP500':'sp500_index'})\n",
    "\n",
    "# Filter to your project range\n",
    "start_date = \"1993-03-01\"\n",
    "end_date = \"2024-11-30\"\n",
    "sp500 = sp500[(sp500['month'] >= start_date) & (sp500['month'] <= end_date)]\n",
    "\n",
    "# Calculate monthly returns (in percent)\n",
    "sp500['sp500_return'] = sp500['sp500_index'].pct_change() * 100\n",
    "\n",
    "# Format date as string if merging\n",
    "sp500['month'] = sp500['month'].dt.strftime('%Y-%m-%d')\n",
    "\n",
    "# Drop first row with NaN return\n",
    "sp500 = sp500.dropna(subset=['sp500_return'])\n",
    "\n",
    "print(sp500[['month', 'sp500_return']].head())"
   ]
  },
  {
   "cell_type": "code",
   "execution_count": 52,
   "id": "8d96ac88-c028-420b-8cf0-fc7b0e0600d1",
   "metadata": {},
   "outputs": [
    {
     "data": {
      "image/png": "[encoded data removed]",
      "text/plain": [
       "<Figure size 1000x500 with 1 Axes>"
      ]
     },
     "metadata": {},
     "output_type": "display_data"
    }
   ],
   "source": [
    "import pandas as pd\n",
    "import matplotlib.pyplot as plt\n",
    "\n",
    "# 1. Load your saved portfolio results (from CSV)\n",
    "portfolio_df = pd.read_csv(\"../data/processed/full_portfolio_returns.csv\")\n",
    "portfolio_df['month'] = pd.to_datetime(portfolio_df['month']).dt.strftime('%Y-%m-%d')\n",
    "\n",
    "# 2. S&P 500 already loaded and processed as `sp500`\n",
    "# (from your previous notebook cell using FRED URL)\n",
    "# sp500['month'] and sp500['sp500_return'] are ready\n",
    "\n",
    "# 3. Calculate cumulative returns for both\n",
    "# Portfolio\n",
    "if 'cum_portfolio' not in portfolio_df.columns:\n",
    "    portfolio_df['portfolio_return_decimal'] = portfolio_df['portfolio_return'] / 100\n",
    "    portfolio_df['cum_portfolio'] = (1 + portfolio_df['portfolio_return_decimal']).cumprod()\n",
    "# S&P 500\n",
    "sp500['sp500_return_decimal'] = sp500['sp500_return'] / 100\n",
    "sp500['cum_sp500'] = (1 + sp500['sp500_return_decimal']).cumprod()\n",
    "\n",
    "# 4. Merge on 'month'\n",
    "merged = pd.merge(\n",
    "    portfolio_df[['month', 'cum_portfolio']],\n",
    "    sp500[['month', 'cum_sp500']],\n",
    "    on='month', how='inner'\n",
    ")\n",
    "\n",
    "\n",
    "\n",
    "# 6. Plot\n",
    "plt.figure(figsize=(10,5))\n",
    "plt.plot(merged['month'], merged['cum_portfolio'], label='Long-Short Portfolio (Lazy Price)')\n",
    "plt.plot(merged['month'], merged['cum_sp500'], label='S&P 500')\n",
    "plt.xlabel('Month')\n",
    "plt.ylabel('Cumulative Return (Growth of $1)')\n",
    "plt.title('Cumulative Performance: Portfolio vs S&P 500')\n",
    "plt.legend()\n",
    "plt.grid(alpha=0.3)\n",
    "plt.xticks(rotation=45)\n",
    "plt.tight_layout()\n",
    "plt.show()\n"
   ]
  },
  {
   "cell_type": "markdown",
   "id": "1e5253d3-68eb-4ebc-a0fd-9d25489eb88d",
   "metadata": {},
   "source": [
    "Logic\n",
    "1.\n",
    "a. Sort all firms by their similarity_score for that month (the higher the score, the more “similar” their filing is to the previous one).\n",
    "b. Assign quintiles (divide into 5 groups) based on the similarity_score within that month:\n",
    "Top 20% (5th quintile): Firms with the highest similarity\n",
    "Bottom 20% (1st quintile): Firms with the lowest similarity\n",
    "2.\n",
    "Long leg: Go long (buy) all stocks in the top quintile (highest similarity).\n",
    "Short leg: Go short (sell) all stocks in the bottom quintile (lowest similarity).\n",
    "\n",
    "Returns are equally weighted within each leg (i.e., average the returns for the long group and the short group).\n",
    "3.\n",
    "Long-short return = Mean(return of long leg) - Mean(return of short leg)\n",
    "\n",
    "Key\n",
    "If the long-short return is consistently positive:It means firms with high similarity (i.e., \"lazy\" prices) tend to outperform those with low similarity, after controlling for general market movements.\n"
   ]
  }
 ],
 "metadata": {
  "kernelspec": {
   "display_name": "base",
   "language": "python",
   "name": "python3"
  },
  "language_info": {
   "codemirror_mode": {
    "name": "ipython",
    "version": 3
   },
   "file_extension": ".py",
   "mimetype": "text/x-python",
   "name": "python",
   "nbconvert_exporter": "python",
   "pygments_lexer": "ipython3",
   "version": "3.12.7"
  }
 },
 "nbformat": 4,
 "nbformat_minor": 5
}
