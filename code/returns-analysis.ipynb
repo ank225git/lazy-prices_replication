{
 "cells": [
  {
   "cell_type": "code",
   "execution_count": 6,
   "id": "58b874a4",
   "metadata": {},
   "outputs": [
    {
     "name": "stdout",
     "output_type": "stream",
     "text": [
      "       month  portfolio_return  portfolio_return_decimal  cum_portfolio\n",
      "0 1994-05-31         -0.271882                 -0.002719       0.997281\n",
      "1 1994-06-30         -1.792614                 -0.017926       0.979404\n",
      "2 1994-07-29          1.173612                  0.011736       0.990898\n",
      "3 1994-08-31         -0.643994                 -0.006440       0.984517\n",
      "4 1994-09-30         -1.278395                 -0.012784       0.971931\n",
      "       month  portfolio_return  portfolio_return_decimal  cum_portfolio\n",
      "0 1994-05-31         -0.051703                 -0.000517       0.999483\n",
      "1 1994-08-31         -0.501820                 -0.005018       0.994467\n",
      "2 1994-11-30         -1.068947                 -0.010689       0.983837\n",
      "3 1995-05-31         -0.659955                 -0.006600       0.977344\n",
      "4 1995-06-30          0.801118                  0.008011       0.985174\n",
      "  signalname      month       ret  cum_return\n",
      "0         BM 1951-07-31 -1.115882    0.988841\n",
      "1         BM 1951-08-31  2.060248    1.009214\n",
      "2         BM 1951-09-28  2.272952    1.032153\n",
      "3         BM 1951-10-31  0.952421    1.041983\n",
      "4         BM 1951-11-30  0.388612    1.046032\n"
     ]
    },
    {
     "data": {
      "application/vnd.microsoft.datawrangler.viewer.v0+json": {
       "columns": [
        {
         "name": "index",
         "rawType": "int64",
         "type": "integer"
        },
        {
         "name": "signalname",
         "rawType": "object",
         "type": "string"
        },
        {
         "name": "month",
         "rawType": "datetime64[ns]",
         "type": "datetime"
        },
        {
         "name": "ret",
         "rawType": "float64",
         "type": "float"
        },
        {
         "name": "cum_return",
         "rawType": "float64",
         "type": "float"
        }
       ],
       "conversionMethod": "pd.DataFrame",
       "ref": "ac77580a-5c46-4f99-b882-8e5320b0e48d",
       "rows": [
        [
         "0",
         "BM",
         "1951-07-31 00:00:00",
         "-1.11588181818182",
         "0.9888411818181818"
        ],
        [
         "1",
         "BM",
         "1951-08-31 00:00:00",
         "2.06024848484848",
         "1.0092137672841486"
        ],
        [
         "2",
         "BM",
         "1951-09-28 00:00:00",
         "2.27295151515151",
         "1.0321527068987513"
        ],
        [
         "3",
         "BM",
         "1951-10-31 00:00:00",
         "0.952421212121211",
         "1.0419831482207382"
        ],
        [
         "4",
         "BM",
         "1951-11-30 00:00:00",
         "0.38861212121212",
         "1.0460324210357117"
        ],
        [
         "5",
         "BM",
         "1951-12-31 00:00:00",
         "-2.99682121212121",
         "1.0146846995564485"
        ],
        [
         "6",
         "BM",
         "1952-01-31 00:00:00",
         "-0.133690909090909",
         "1.0133281583572051"
        ],
        [
         "7",
         "BM",
         "1952-02-29 00:00:00",
         "0.694472727272726",
         "1.0203654460547709"
        ],
        [
         "8",
         "BM",
         "1952-03-31 00:00:00",
         "1.19059090909091",
         "1.0325138242950038"
        ],
        [
         "9",
         "BM",
         "1952-04-30 00:00:00",
         "-1.15460303030303",
         "1.020592388391396"
        ],
        [
         "10",
         "BM",
         "1952-05-29 00:00:00",
         "-0.487160606060607",
         "1.0156204643267002"
        ],
        [
         "11",
         "BM",
         "1952-06-30 00:00:00",
         "2.70917878787879",
         "1.0431354385115952"
        ],
        [
         "12",
         "BM",
         "1952-07-31 00:00:00",
         "0.825502702702703",
         "1.051746549749358"
        ],
        [
         "13",
         "BM",
         "1952-08-29 00:00:00",
         "1.83802972972973",
         "1.071077964015158"
        ],
        [
         "14",
         "BM",
         "1952-09-30 00:00:00",
         "0.71530810810811",
         "1.0787394715359178"
        ],
        [
         "15",
         "BM",
         "1952-10-31 00:00:00",
         "0.747418918918917",
         "1.086802174432023"
        ],
        [
         "16",
         "BM",
         "1952-11-28 00:00:00",
         "-2.00602702702702",
         "1.0650006290825993"
        ],
        [
         "17",
         "BM",
         "1952-12-31 00:00:00",
         "1.47955945945946",
         "1.0807579466334936"
        ],
        [
         "18",
         "BM",
         "1953-01-30 00:00:00",
         "5.84764054054054",
         "1.1439567864659472"
        ],
        [
         "19",
         "BM",
         "1953-02-27 00:00:00",
         "0.247643243243243",
         "1.1467897181532527"
        ],
        [
         "20",
         "BM",
         "1953-03-31 00:00:00",
         "0.755035135135136",
         "1.1554483834514269"
        ],
        [
         "21",
         "BM",
         "1953-04-30 00:00:00",
         "4.13916756756757",
         "1.2032743281992322"
        ],
        [
         "22",
         "BM",
         "1953-05-29 00:00:00",
         "0.403467567567564",
         "1.2081291498623827"
        ],
        [
         "23",
         "BM",
         "1953-06-30 00:00:00",
         "-1.72121891891892",
         "1.1873346023699771"
        ],
        [
         "24",
         "BM",
         "1953-07-31 00:00:00",
         "-0.625300000000001",
         "1.1799101991013576"
        ],
        [
         "25",
         "BM",
         "1953-08-31 00:00:00",
         "-0.673649999999999",
         "1.1719617340451114"
        ],
        [
         "26",
         "BM",
         "1953-09-30 00:00:00",
         "-3.4705",
         "1.1312888020650758"
        ],
        [
         "27",
         "BM",
         "1953-10-30 00:00:00",
         "-1.49795263157895",
         "1.114342631683784"
        ],
        [
         "28",
         "BM",
         "1953-11-30 00:00:00",
         "-1.68519736842105",
         "1.0955637589794551"
        ],
        [
         "29",
         "BM",
         "1953-12-31 00:00:00",
         "-2.91014210526316",
         "1.0636812967393905"
        ],
        [
         "30",
         "BM",
         "1954-01-29 00:00:00",
         "2.62507105263158",
         "1.0916036865523524"
        ],
        [
         "31",
         "BM",
         "1954-02-26 00:00:00",
         "-1.18665263157895",
         "1.078650142679466"
        ],
        [
         "32",
         "BM",
         "1954-03-31 00:00:00",
         "-4.38489473684211",
         "1.0313524693441742"
        ],
        [
         "33",
         "BM",
         "1954-04-30 00:00:00",
         "-3.71487368421053",
         "0.993039027869052"
        ],
        [
         "34",
         "BM",
         "1954-05-28 00:00:00",
         "1.73463947368421",
         "1.0102646748355586"
        ],
        [
         "35",
         "BM",
         "1954-06-30 00:00:00",
         "0.0863578947368437",
         "1.0111371181400164"
        ],
        [
         "36",
         "BM",
         "1954-07-30 00:00:00",
         "4.42135789473684",
         "1.0558431089395146"
        ],
        [
         "37",
         "BM",
         "1954-08-31 00:00:00",
         "2.29871315789474",
         "1.080113913411432"
        ],
        [
         "38",
         "BM",
         "1954-09-30 00:00:00",
         "0.0821131578947387",
         "1.0810008290545947"
        ],
        [
         "39",
         "BM",
         "1954-10-29 00:00:00",
         "-0.0377131578947357",
         "1.08059314950509"
        ],
        [
         "40",
         "BM",
         "1954-11-30 00:00:00",
         "1.11322631578947",
         "1.092622596811999"
        ],
        [
         "41",
         "BM",
         "1954-12-31 00:00:00",
         "7.08688157894737",
         "1.1700554663528848"
        ],
        [
         "42",
         "BM",
         "1955-01-31 00:00:00",
         "4.05608421052631",
         "1.217513901378024"
        ],
        [
         "43",
         "BM",
         "1955-02-28 00:00:00",
         "2.11867894736842",
         "1.243309112087804"
        ],
        [
         "44",
         "BM",
         "1955-03-31 00:00:00",
         "-1.19462894736842",
         "1.228456181529534"
        ],
        [
         "45",
         "BM",
         "1955-04-29 00:00:00",
         "-0.309847368421052",
         "1.224649842378859"
        ],
        [
         "46",
         "BM",
         "1955-05-31 00:00:00",
         "-3.34364210526316",
         "1.1837019346070403"
        ],
        [
         "47",
         "BM",
         "1955-06-30 00:00:00",
         "0.831386842105262",
         "1.1935430767411088"
        ],
        [
         "48",
         "BM",
         "1955-07-29 00:00:00",
         "-0.73864358974359",
         "1.1847270473139322"
        ],
        [
         "49",
         "BM",
         "1955-08-31 00:00:00",
         "-0.832179487179487",
         "1.1748679918471183"
        ]
       ],
       "shape": {
        "columns": 4,
        "rows": 1454
       }
      },
      "text/html": [
       "<div>\n",
       "<style scoped>\n",
       "    .dataframe tbody tr th:only-of-type {\n",
       "        vertical-align: middle;\n",
       "    }\n",
       "\n",
       "    .dataframe tbody tr th {\n",
       "        vertical-align: top;\n",
       "    }\n",
       "\n",
       "    .dataframe thead th {\n",
       "        text-align: right;\n",
       "    }\n",
       "</style>\n",
       "<table border=\"1\" class=\"dataframe\">\n",
       "  <thead>\n",
       "    <tr style=\"text-align: right;\">\n",
       "      <th></th>\n",
       "      <th>signalname</th>\n",
       "      <th>month</th>\n",
       "      <th>ret</th>\n",
       "      <th>cum_return</th>\n",
       "    </tr>\n",
       "  </thead>\n",
       "  <tbody>\n",
       "    <tr>\n",
       "      <th>0</th>\n",
       "      <td>BM</td>\n",
       "      <td>1951-07-31</td>\n",
       "      <td>-1.115882</td>\n",
       "      <td>0.988841</td>\n",
       "    </tr>\n",
       "    <tr>\n",
       "      <th>1</th>\n",
       "      <td>BM</td>\n",
       "      <td>1951-08-31</td>\n",
       "      <td>2.060248</td>\n",
       "      <td>1.009214</td>\n",
       "    </tr>\n",
       "    <tr>\n",
       "      <th>2</th>\n",
       "      <td>BM</td>\n",
       "      <td>1951-09-28</td>\n",
       "      <td>2.272952</td>\n",
       "      <td>1.032153</td>\n",
       "    </tr>\n",
       "    <tr>\n",
       "      <th>3</th>\n",
       "      <td>BM</td>\n",
       "      <td>1951-10-31</td>\n",
       "      <td>0.952421</td>\n",
       "      <td>1.041983</td>\n",
       "    </tr>\n",
       "    <tr>\n",
       "      <th>4</th>\n",
       "      <td>BM</td>\n",
       "      <td>1951-11-30</td>\n",
       "      <td>0.388612</td>\n",
       "      <td>1.046032</td>\n",
       "    </tr>\n",
       "    <tr>\n",
       "      <th>...</th>\n",
       "      <td>...</td>\n",
       "      <td>...</td>\n",
       "      <td>...</td>\n",
       "      <td>...</td>\n",
       "    </tr>\n",
       "    <tr>\n",
       "      <th>1449</th>\n",
       "      <td>IndIPO</td>\n",
       "      <td>2023-08-31</td>\n",
       "      <td>0.934639</td>\n",
       "      <td>8.728752</td>\n",
       "    </tr>\n",
       "    <tr>\n",
       "      <th>1450</th>\n",
       "      <td>IndIPO</td>\n",
       "      <td>2023-09-29</td>\n",
       "      <td>-0.556917</td>\n",
       "      <td>8.680140</td>\n",
       "    </tr>\n",
       "    <tr>\n",
       "      <th>1451</th>\n",
       "      <td>IndIPO</td>\n",
       "      <td>2023-10-31</td>\n",
       "      <td>1.618694</td>\n",
       "      <td>8.820645</td>\n",
       "    </tr>\n",
       "    <tr>\n",
       "      <th>1452</th>\n",
       "      <td>IndIPO</td>\n",
       "      <td>2023-11-30</td>\n",
       "      <td>2.104581</td>\n",
       "      <td>9.006283</td>\n",
       "    </tr>\n",
       "    <tr>\n",
       "      <th>1453</th>\n",
       "      <td>IndIPO</td>\n",
       "      <td>2023-12-29</td>\n",
       "      <td>5.175893</td>\n",
       "      <td>9.472439</td>\n",
       "    </tr>\n",
       "  </tbody>\n",
       "</table>\n",
       "<p>1454 rows × 4 columns</p>\n",
       "</div>"
      ],
      "text/plain": [
       "     signalname      month       ret  cum_return\n",
       "0            BM 1951-07-31 -1.115882    0.988841\n",
       "1            BM 1951-08-31  2.060248    1.009214\n",
       "2            BM 1951-09-28  2.272952    1.032153\n",
       "3            BM 1951-10-31  0.952421    1.041983\n",
       "4            BM 1951-11-30  0.388612    1.046032\n",
       "...         ...        ...       ...         ...\n",
       "1449     IndIPO 2023-08-31  0.934639    8.728752\n",
       "1450     IndIPO 2023-09-29 -0.556917    8.680140\n",
       "1451     IndIPO 2023-10-31  1.618694    8.820645\n",
       "1452     IndIPO 2023-11-30  2.104581    9.006283\n",
       "1453     IndIPO 2023-12-29  5.175893    9.472439\n",
       "\n",
       "[1454 rows x 4 columns]"
      ]
     },
     "execution_count": 6,
     "metadata": {},
     "output_type": "execute_result"
    }
   ],
   "source": [
    "import pandas as pd\n",
    "\n",
    "# Load your portfolio variants and the OAP benchmark\n",
    "df_prop = pd.read_csv('../data/processed/filtered_portfolio_returns-PROP.csv', parse_dates=['month'])\n",
    "df_wins = pd.read_csv('../data/processed/filtered_portfolio_returns-WINS.csv', parse_dates=['month'])\n",
    "df_oap = pd.read_csv('../data/processed/OAP_signal_returns.csv', parse_dates=['date'])\n",
    "\n",
    "# Rename OAP date column to match others\n",
    "df_oap.rename(columns={'date': 'month'}, inplace=True)\n",
    "\n",
    "# Check\n",
    "print(df_prop.head())\n",
    "print(df_wins.head())\n",
    "print(df_oap.head())\n",
    "\n",
    "df_oap\n"
   ]
  },
  {
   "cell_type": "markdown",
   "id": "7bd06705",
   "metadata": {},
   "source": [
    "Merging with other dataframes:"
   ]
  },
  {
   "cell_type": "code",
   "execution_count": 7,
   "id": "b3a86c94",
   "metadata": {},
   "outputs": [],
   "source": [
    "signallist = ['IndIPO', 'BM']"
   ]
  },
  {
   "cell_type": "code",
   "execution_count": 8,
   "id": "e4399c9f",
   "metadata": {},
   "outputs": [
    {
     "data": {
      "application/vnd.microsoft.datawrangler.viewer.v0+json": {
       "columns": [
        {
         "name": "index",
         "rawType": "int64",
         "type": "integer"
        },
        {
         "name": "month",
         "rawType": "datetime64[ns]",
         "type": "datetime"
        },
        {
         "name": "prop_return",
         "rawType": "float64",
         "type": "float"
        },
        {
         "name": "wins_return",
         "rawType": "float64",
         "type": "float"
        },
        {
         "name": "BM",
         "rawType": "float64",
         "type": "float"
        },
        {
         "name": "IndIPO",
         "rawType": "float64",
         "type": "float"
        }
       ],
       "conversionMethod": "pd.DataFrame",
       "ref": "8106e757-8d15-425e-b856-1197be17ca2a",
       "rows": [
        [
         "0",
         "1951-07-31 00:00:00",
         null,
         null,
         "-1.11588181818182",
         null
        ],
        [
         "1",
         "1951-08-31 00:00:00",
         null,
         null,
         "2.06024848484848",
         null
        ],
        [
         "2",
         "1951-09-28 00:00:00",
         null,
         null,
         "2.27295151515151",
         null
        ],
        [
         "3",
         "1951-10-31 00:00:00",
         null,
         null,
         "0.952421212121211",
         null
        ],
        [
         "4",
         "1951-11-30 00:00:00",
         null,
         null,
         "0.38861212121212",
         null
        ],
        [
         "5",
         "1951-12-31 00:00:00",
         null,
         null,
         "-2.99682121212121",
         null
        ],
        [
         "6",
         "1952-01-31 00:00:00",
         null,
         null,
         "-0.133690909090909",
         null
        ],
        [
         "7",
         "1952-02-29 00:00:00",
         null,
         null,
         "0.694472727272726",
         null
        ],
        [
         "8",
         "1952-03-31 00:00:00",
         null,
         null,
         "1.19059090909091",
         null
        ],
        [
         "9",
         "1952-04-30 00:00:00",
         null,
         null,
         "-1.15460303030303",
         null
        ],
        [
         "10",
         "1952-05-29 00:00:00",
         null,
         null,
         "-0.487160606060607",
         null
        ],
        [
         "11",
         "1952-06-30 00:00:00",
         null,
         null,
         "2.70917878787879",
         null
        ],
        [
         "12",
         "1952-07-31 00:00:00",
         null,
         null,
         "0.825502702702703",
         null
        ],
        [
         "13",
         "1952-08-29 00:00:00",
         null,
         null,
         "1.83802972972973",
         null
        ],
        [
         "14",
         "1952-09-30 00:00:00",
         null,
         null,
         "0.71530810810811",
         null
        ],
        [
         "15",
         "1952-10-31 00:00:00",
         null,
         null,
         "0.747418918918917",
         null
        ],
        [
         "16",
         "1952-11-28 00:00:00",
         null,
         null,
         "-2.00602702702702",
         null
        ],
        [
         "17",
         "1952-12-31 00:00:00",
         null,
         null,
         "1.47955945945946",
         null
        ],
        [
         "18",
         "1953-01-30 00:00:00",
         null,
         null,
         "5.84764054054054",
         null
        ],
        [
         "19",
         "1953-02-27 00:00:00",
         null,
         null,
         "0.247643243243243",
         null
        ],
        [
         "20",
         "1953-03-31 00:00:00",
         null,
         null,
         "0.755035135135136",
         null
        ],
        [
         "21",
         "1953-04-30 00:00:00",
         null,
         null,
         "4.13916756756757",
         null
        ],
        [
         "22",
         "1953-05-29 00:00:00",
         null,
         null,
         "0.403467567567564",
         null
        ],
        [
         "23",
         "1953-06-30 00:00:00",
         null,
         null,
         "-1.72121891891892",
         null
        ],
        [
         "24",
         "1953-07-31 00:00:00",
         null,
         null,
         "-0.625300000000001",
         null
        ],
        [
         "25",
         "1953-08-31 00:00:00",
         null,
         null,
         "-0.673649999999999",
         null
        ],
        [
         "26",
         "1953-09-30 00:00:00",
         null,
         null,
         "-3.4705",
         null
        ],
        [
         "27",
         "1953-10-30 00:00:00",
         null,
         null,
         "-1.49795263157895",
         null
        ],
        [
         "28",
         "1953-11-30 00:00:00",
         null,
         null,
         "-1.68519736842105",
         null
        ],
        [
         "29",
         "1953-12-31 00:00:00",
         null,
         null,
         "-2.91014210526316",
         null
        ],
        [
         "30",
         "1954-01-29 00:00:00",
         null,
         null,
         "2.62507105263158",
         null
        ],
        [
         "31",
         "1954-02-26 00:00:00",
         null,
         null,
         "-1.18665263157895",
         null
        ],
        [
         "32",
         "1954-03-31 00:00:00",
         null,
         null,
         "-4.38489473684211",
         null
        ],
        [
         "33",
         "1954-04-30 00:00:00",
         null,
         null,
         "-3.71487368421053",
         null
        ],
        [
         "34",
         "1954-05-28 00:00:00",
         null,
         null,
         "1.73463947368421",
         null
        ],
        [
         "35",
         "1954-06-30 00:00:00",
         null,
         null,
         "0.0863578947368437",
         null
        ],
        [
         "36",
         "1954-07-30 00:00:00",
         null,
         null,
         "4.42135789473684",
         null
        ],
        [
         "37",
         "1954-08-31 00:00:00",
         null,
         null,
         "2.29871315789474",
         null
        ],
        [
         "38",
         "1954-09-30 00:00:00",
         null,
         null,
         "0.0821131578947387",
         null
        ],
        [
         "39",
         "1954-10-29 00:00:00",
         null,
         null,
         "-0.0377131578947357",
         null
        ],
        [
         "40",
         "1954-11-30 00:00:00",
         null,
         null,
         "1.11322631578947",
         null
        ],
        [
         "41",
         "1954-12-31 00:00:00",
         null,
         null,
         "7.08688157894737",
         null
        ],
        [
         "42",
         "1955-01-31 00:00:00",
         null,
         null,
         "4.05608421052631",
         null
        ],
        [
         "43",
         "1955-02-28 00:00:00",
         null,
         null,
         "2.11867894736842",
         null
        ],
        [
         "44",
         "1955-03-31 00:00:00",
         null,
         null,
         "-1.19462894736842",
         null
        ],
        [
         "45",
         "1955-04-29 00:00:00",
         null,
         null,
         "-0.309847368421052",
         null
        ],
        [
         "46",
         "1955-05-31 00:00:00",
         null,
         null,
         "-3.34364210526316",
         null
        ],
        [
         "47",
         "1955-06-30 00:00:00",
         null,
         null,
         "0.831386842105262",
         null
        ],
        [
         "48",
         "1955-07-29 00:00:00",
         null,
         null,
         "-0.73864358974359",
         null
        ],
        [
         "49",
         "1955-08-31 00:00:00",
         null,
         null,
         "-0.832179487179487",
         null
        ]
       ],
       "shape": {
        "columns": 5,
        "rows": 882
       }
      },
      "text/html": [
       "<div>\n",
       "<style scoped>\n",
       "    .dataframe tbody tr th:only-of-type {\n",
       "        vertical-align: middle;\n",
       "    }\n",
       "\n",
       "    .dataframe tbody tr th {\n",
       "        vertical-align: top;\n",
       "    }\n",
       "\n",
       "    .dataframe thead th {\n",
       "        text-align: right;\n",
       "    }\n",
       "</style>\n",
       "<table border=\"1\" class=\"dataframe\">\n",
       "  <thead>\n",
       "    <tr style=\"text-align: right;\">\n",
       "      <th></th>\n",
       "      <th>month</th>\n",
       "      <th>prop_return</th>\n",
       "      <th>wins_return</th>\n",
       "      <th>BM</th>\n",
       "      <th>IndIPO</th>\n",
       "    </tr>\n",
       "  </thead>\n",
       "  <tbody>\n",
       "    <tr>\n",
       "      <th>0</th>\n",
       "      <td>1951-07-31</td>\n",
       "      <td>NaN</td>\n",
       "      <td>NaN</td>\n",
       "      <td>-1.115882</td>\n",
       "      <td>NaN</td>\n",
       "    </tr>\n",
       "    <tr>\n",
       "      <th>1</th>\n",
       "      <td>1951-08-31</td>\n",
       "      <td>NaN</td>\n",
       "      <td>NaN</td>\n",
       "      <td>2.060248</td>\n",
       "      <td>NaN</td>\n",
       "    </tr>\n",
       "    <tr>\n",
       "      <th>2</th>\n",
       "      <td>1951-09-28</td>\n",
       "      <td>NaN</td>\n",
       "      <td>NaN</td>\n",
       "      <td>2.272952</td>\n",
       "      <td>NaN</td>\n",
       "    </tr>\n",
       "    <tr>\n",
       "      <th>3</th>\n",
       "      <td>1951-10-31</td>\n",
       "      <td>NaN</td>\n",
       "      <td>NaN</td>\n",
       "      <td>0.952421</td>\n",
       "      <td>NaN</td>\n",
       "    </tr>\n",
       "    <tr>\n",
       "      <th>4</th>\n",
       "      <td>1951-11-30</td>\n",
       "      <td>NaN</td>\n",
       "      <td>NaN</td>\n",
       "      <td>0.388612</td>\n",
       "      <td>NaN</td>\n",
       "    </tr>\n",
       "    <tr>\n",
       "      <th>...</th>\n",
       "      <td>...</td>\n",
       "      <td>...</td>\n",
       "      <td>...</td>\n",
       "      <td>...</td>\n",
       "      <td>...</td>\n",
       "    </tr>\n",
       "    <tr>\n",
       "      <th>877</th>\n",
       "      <td>2024-08-30</td>\n",
       "      <td>-0.940091</td>\n",
       "      <td>NaN</td>\n",
       "      <td>NaN</td>\n",
       "      <td>NaN</td>\n",
       "    </tr>\n",
       "    <tr>\n",
       "      <th>878</th>\n",
       "      <td>2024-09-30</td>\n",
       "      <td>-0.034985</td>\n",
       "      <td>-0.394045</td>\n",
       "      <td>NaN</td>\n",
       "      <td>NaN</td>\n",
       "    </tr>\n",
       "    <tr>\n",
       "      <th>879</th>\n",
       "      <td>2024-10-31</td>\n",
       "      <td>0.124382</td>\n",
       "      <td>-0.794644</td>\n",
       "      <td>NaN</td>\n",
       "      <td>NaN</td>\n",
       "    </tr>\n",
       "    <tr>\n",
       "      <th>880</th>\n",
       "      <td>2024-11-29</td>\n",
       "      <td>0.611263</td>\n",
       "      <td>NaN</td>\n",
       "      <td>NaN</td>\n",
       "      <td>NaN</td>\n",
       "    </tr>\n",
       "    <tr>\n",
       "      <th>881</th>\n",
       "      <td>2024-12-31</td>\n",
       "      <td>-0.155168</td>\n",
       "      <td>NaN</td>\n",
       "      <td>NaN</td>\n",
       "      <td>NaN</td>\n",
       "    </tr>\n",
       "  </tbody>\n",
       "</table>\n",
       "<p>882 rows × 5 columns</p>\n",
       "</div>"
      ],
      "text/plain": [
       "         month  prop_return  wins_return        BM  IndIPO\n",
       "0   1951-07-31          NaN          NaN -1.115882     NaN\n",
       "1   1951-08-31          NaN          NaN  2.060248     NaN\n",
       "2   1951-09-28          NaN          NaN  2.272952     NaN\n",
       "3   1951-10-31          NaN          NaN  0.952421     NaN\n",
       "4   1951-11-30          NaN          NaN  0.388612     NaN\n",
       "..         ...          ...          ...       ...     ...\n",
       "877 2024-08-30    -0.940091          NaN       NaN     NaN\n",
       "878 2024-09-30    -0.034985    -0.394045       NaN     NaN\n",
       "879 2024-10-31     0.124382    -0.794644       NaN     NaN\n",
       "880 2024-11-29     0.611263          NaN       NaN     NaN\n",
       "881 2024-12-31    -0.155168          NaN       NaN     NaN\n",
       "\n",
       "[882 rows x 5 columns]"
      ]
     },
     "execution_count": 8,
     "metadata": {},
     "output_type": "execute_result"
    }
   ],
   "source": [
    "# Step 1: Rename return columns for clarity\n",
    "df_prop_renamed = df_prop[['month', 'portfolio_return']].rename(columns={'portfolio_return': 'prop_return'})\n",
    "df_wins_renamed = df_wins[['month', 'portfolio_return']].rename(columns={'portfolio_return': 'wins_return'})\n",
    "\n",
    "# Step 2: Pivot df_oap so each signal has its own return column\n",
    "df_oap_pivot = df_oap.pivot(index='month', columns='signalname', values='ret').reset_index()\n",
    "\n",
    "# Step 3: Merge all datasets on 'month'\n",
    "df_merged = df_prop_renamed.merge(df_wins_renamed, on='month', how='outer') \\\n",
    "                            .merge(df_oap_pivot, on='month', how='outer')\n",
    "\n",
    "# Step 4: Sort by month and display\n",
    "df_merged = df_merged.sort_values('month')\n",
    "\n",
    "\n",
    "df_merged"
   ]
  },
  {
   "cell_type": "markdown",
   "id": "1e48d578",
   "metadata": {},
   "source": [
    "Plot:"
   ]
  }
 ],
 "metadata": {
  "kernelspec": {
   "display_name": "base",
   "language": "python",
   "name": "python3"
  },
  "language_info": {
   "codemirror_mode": {
    "name": "ipython",
    "version": 3
   },
   "file_extension": ".py",
   "mimetype": "text/x-python",
   "name": "python",
   "nbconvert_exporter": "python",
   "pygments_lexer": "ipython3",
   "version": "3.12.7"
  }
 },
 "nbformat": 4,
 "nbformat_minor": 5
}
