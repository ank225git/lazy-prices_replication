{
 "cells": [
  {
   "cell_type": "code",
   "execution_count": 2,
   "id": "1f1a172b-5493-42ff-bca6-8f53f7ffd613",
   "metadata": {},
   "outputs": [
    {
     "name": "stdout",
     "output_type": "stream",
     "text": [
      "      cik  tic       month  similarity_score     ret\n",
      "0  200406  jnj  2012-05-31          0.982833 -3.1644\n",
      "1  200406  jnj  2012-08-31          0.979335 -1.7047\n",
      "2  200406  jnj  2012-11-30          0.992482 -0.6778\n",
      "3  200406  jnj  2013-02-28          0.987755  3.7879\n",
      "4  200406  jnj  2013-05-31          0.989229 -0.4576\n"
     ]
    },
    {
     "data": {
      "application/vnd.microsoft.datawrangler.viewer.v0+json": {
       "columns": [
        {
         "name": "index",
         "rawType": "int64",
         "type": "integer"
        },
        {
         "name": "cik",
         "rawType": "int64",
         "type": "integer"
        },
        {
         "name": "tic",
         "rawType": "object",
         "type": "string"
        },
        {
         "name": "month",
         "rawType": "object",
         "type": "string"
        },
        {
         "name": "similarity_score",
         "rawType": "float64",
         "type": "float"
        },
        {
         "name": "ret",
         "rawType": "float64",
         "type": "float"
        }
       ],
       "conversionMethod": "pd.DataFrame",
       "ref": "faeb4a85-f9da-4a8b-9d1b-16c4356ddbcc",
       "rows": [
        [
         "0",
         "200406",
         "jnj",
         "2012-05-31",
         "0.9828325055815345",
         "-3.1644"
        ],
        [
         "1",
         "200406",
         "jnj",
         "2012-08-31",
         "0.9793350462690228",
         "-1.7047"
        ],
        [
         "2",
         "200406",
         "jnj",
         "2012-11-30",
         "0.992482475825221",
         "-0.6778"
        ],
        [
         "3",
         "200406",
         "jnj",
         "2013-02-28",
         "0.9877552959705967",
         "3.7879"
        ],
        [
         "4",
         "200406",
         "jnj",
         "2013-05-31",
         "0.9892285323536144",
         "-0.4576"
        ],
        [
         "5",
         "200406",
         "jnj",
         "2013-08-31",
         "0.9970864892376174",
         null
        ],
        [
         "6",
         "200406",
         "jnj",
         "2013-11-30",
         "0.997538307306981",
         null
        ],
        [
         "7",
         "200406",
         "jnj",
         "2014-02-28",
         "0.9883037657839157",
         "4.8717"
        ],
        [
         "8",
         "200406",
         "jnj",
         "2014-05-31",
         "0.9890310157073202",
         null
        ],
        [
         "9",
         "200406",
         "jnj",
         "2014-08-31",
         "0.9958716932157144",
         null
        ],
        [
         "10",
         "200406",
         "jnj",
         "2014-10-31",
         "0.9918848515536616",
         "1.1164"
        ],
        [
         "11",
         "200406",
         "jnj",
         "2015-02-28",
         "0.9869621428852868",
         null
        ],
        [
         "12",
         "200406",
         "jnj",
         "2015-05-31",
         "0.9893696238710876",
         null
        ],
        [
         "13",
         "200406",
         "jnj",
         "2015-07-31",
         "0.9963678085180196",
         "2.8217"
        ],
        [
         "14",
         "200406",
         "jnj",
         "2015-10-31",
         "0.9972849038997544",
         null
        ],
        [
         "15",
         "200406",
         "jnj",
         "2016-02-29",
         "0.9879366032031808",
         "1.4554"
        ],
        [
         "16",
         "200406",
         "jnj",
         "2016-05-31",
         "0.9910381962125274",
         "1.258"
        ],
        [
         "17",
         "200406",
         "jnj",
         "2016-08-31",
         "0.9962969466080324",
         "-4.0645"
        ],
        [
         "18",
         "200406",
         "jnj",
         "2016-11-30",
         "0.9966919475843026",
         "-3.3537"
        ],
        [
         "19",
         "320193",
         "aapl",
         "2012-04-30",
         "0.9875708965768306",
         "-2.597"
        ],
        [
         "20",
         "320193",
         "aapl",
         "2012-07-31",
         "0.9910733880304814",
         "4.5822"
        ],
        [
         "21",
         "320193",
         "aapl",
         "2012-10-31",
         "0.9893374573153212",
         "-10.7607"
        ],
        [
         "22",
         "320193",
         "aapl",
         "2013-01-31",
         "0.9946790454471128",
         "-14.4094"
        ],
        [
         "23",
         "320193",
         "aapl",
         "2013-04-30",
         "0.9977485834280624",
         "0.0271"
        ],
        [
         "24",
         "320193",
         "aapl",
         "2013-07-31",
         "0.99768282243164",
         "14.1225"
        ],
        [
         "25",
         "320193",
         "aapl",
         "2013-10-31",
         "0.995250844695474",
         "9.6386"
        ],
        [
         "26",
         "320193",
         "aapl",
         "2014-01-31",
         "0.9895722911208276",
         "-10.7697"
        ],
        [
         "27",
         "320193",
         "aapl",
         "2014-04-30",
         "0.9917519348423928",
         "9.9396"
        ],
        [
         "28",
         "320193",
         "aapl",
         "2014-07-31",
         "0.9977868885041734",
         "2.8731"
        ],
        [
         "29",
         "320193",
         "aapl",
         "2014-10-31",
         "0.9899488245491228",
         "7.196"
        ],
        [
         "30",
         "320193",
         "aapl",
         "2015-01-31",
         "0.9925962857274316",
         null
        ],
        [
         "31",
         "320193",
         "aapl",
         "2015-04-30",
         "0.996971989963066",
         "0.5786"
        ],
        [
         "32",
         "320193",
         "aapl",
         "2015-07-31",
         "0.998328413644581",
         "-3.2888"
        ],
        [
         "33",
         "320193",
         "aapl",
         "2015-10-31",
         "0.9951677358538124",
         null
        ],
        [
         "34",
         "320193",
         "aapl",
         "2016-01-31",
         "0.9937996284609965",
         null
        ],
        [
         "35",
         "320193",
         "aapl",
         "2016-04-30",
         "0.9931530346298094",
         null
        ],
        [
         "36",
         "320193",
         "aapl",
         "2016-07-31",
         "0.984199198011473",
         null
        ],
        [
         "37",
         "320193",
         "aapl",
         "2016-10-31",
         "0.987949815985282",
         "0.4334"
        ],
        [
         "38",
         "789019",
         "msft",
         "2012-01-31",
         "0.7836904501714755",
         "13.7519"
        ],
        [
         "39",
         "789019",
         "msft",
         "2012-04-30",
         "0.777861054077138",
         "-0.7441"
        ],
        [
         "40",
         "789019",
         "msft",
         "2012-07-31",
         "0.9874515908073668",
         "-3.6613"
        ],
        [
         "41",
         "789019",
         "msft",
         "2012-10-31",
         "0.9924899705316922",
         "-4.0995"
        ],
        [
         "42",
         "789019",
         "msft",
         "2013-01-31",
         "0.9914055754842748",
         "2.7717"
        ],
        [
         "43",
         "789019",
         "msft",
         "2013-04-30",
         "0.9988158121639203",
         "15.714"
        ],
        [
         "44",
         "789019",
         "msft",
         "2013-07-31",
         "0.990433863227994",
         "-7.8304"
        ],
        [
         "45",
         "789019",
         "msft",
         "2013-10-31",
         "0.9911816428195068",
         "6.3852"
        ],
        [
         "46",
         "789019",
         "msft",
         "2014-01-31",
         "0.9960706896798404",
         "1.1494"
        ],
        [
         "47",
         "789019",
         "msft",
         "2014-04-30",
         "0.9985164614620692",
         "-1.4394"
        ],
        [
         "48",
         "789019",
         "msft",
         "2014-07-31",
         "0.9855089347568128",
         "3.5012"
        ],
        [
         "49",
         "789019",
         "msft",
         "2014-10-31",
         "0.9873904910856892",
         "1.2727"
        ]
       ],
       "shape": {
        "columns": 5,
        "rows": 82
       }
      },
      "text/html": [
       "<div>\n",
       "<style scoped>\n",
       "    .dataframe tbody tr th:only-of-type {\n",
       "        vertical-align: middle;\n",
       "    }\n",
       "\n",
       "    .dataframe tbody tr th {\n",
       "        vertical-align: top;\n",
       "    }\n",
       "\n",
       "    .dataframe thead th {\n",
       "        text-align: right;\n",
       "    }\n",
       "</style>\n",
       "<table border=\"1\" class=\"dataframe\">\n",
       "  <thead>\n",
       "    <tr style=\"text-align: right;\">\n",
       "      <th></th>\n",
       "      <th>cik</th>\n",
       "      <th>tic</th>\n",
       "      <th>month</th>\n",
       "      <th>similarity_score</th>\n",
       "      <th>ret</th>\n",
       "    </tr>\n",
       "  </thead>\n",
       "  <tbody>\n",
       "    <tr>\n",
       "      <th>0</th>\n",
       "      <td>200406</td>\n",
       "      <td>jnj</td>\n",
       "      <td>2012-05-31</td>\n",
       "      <td>0.982833</td>\n",
       "      <td>-3.1644</td>\n",
       "    </tr>\n",
       "    <tr>\n",
       "      <th>1</th>\n",
       "      <td>200406</td>\n",
       "      <td>jnj</td>\n",
       "      <td>2012-08-31</td>\n",
       "      <td>0.979335</td>\n",
       "      <td>-1.7047</td>\n",
       "    </tr>\n",
       "    <tr>\n",
       "      <th>2</th>\n",
       "      <td>200406</td>\n",
       "      <td>jnj</td>\n",
       "      <td>2012-11-30</td>\n",
       "      <td>0.992482</td>\n",
       "      <td>-0.6778</td>\n",
       "    </tr>\n",
       "    <tr>\n",
       "      <th>3</th>\n",
       "      <td>200406</td>\n",
       "      <td>jnj</td>\n",
       "      <td>2013-02-28</td>\n",
       "      <td>0.987755</td>\n",
       "      <td>3.7879</td>\n",
       "    </tr>\n",
       "    <tr>\n",
       "      <th>4</th>\n",
       "      <td>200406</td>\n",
       "      <td>jnj</td>\n",
       "      <td>2013-05-31</td>\n",
       "      <td>0.989229</td>\n",
       "      <td>-0.4576</td>\n",
       "    </tr>\n",
       "    <tr>\n",
       "      <th>...</th>\n",
       "      <td>...</td>\n",
       "      <td>...</td>\n",
       "      <td>...</td>\n",
       "      <td>...</td>\n",
       "      <td>...</td>\n",
       "    </tr>\n",
       "    <tr>\n",
       "      <th>77</th>\n",
       "      <td>1652044</td>\n",
       "      <td>goog</td>\n",
       "      <td>2016-02-29</td>\n",
       "      <td>0.978489</td>\n",
       "      <td>-5.7963</td>\n",
       "    </tr>\n",
       "    <tr>\n",
       "      <th>78</th>\n",
       "      <td>1652044</td>\n",
       "      <td>goog</td>\n",
       "      <td>2016-03-31</td>\n",
       "      <td>0.926402</td>\n",
       "      <td>6.3690</td>\n",
       "    </tr>\n",
       "    <tr>\n",
       "      <th>79</th>\n",
       "      <td>1652044</td>\n",
       "      <td>goog</td>\n",
       "      <td>2016-05-31</td>\n",
       "      <td>0.897723</td>\n",
       "      <td>5.7877</td>\n",
       "    </tr>\n",
       "    <tr>\n",
       "      <th>80</th>\n",
       "      <td>1652044</td>\n",
       "      <td>goog</td>\n",
       "      <td>2016-08-31</td>\n",
       "      <td>0.996488</td>\n",
       "      <td>-0.1883</td>\n",
       "    </tr>\n",
       "    <tr>\n",
       "      <th>81</th>\n",
       "      <td>1652044</td>\n",
       "      <td>goog</td>\n",
       "      <td>2016-11-30</td>\n",
       "      <td>0.987509</td>\n",
       "      <td>-4.2005</td>\n",
       "    </tr>\n",
       "  </tbody>\n",
       "</table>\n",
       "<p>82 rows × 5 columns</p>\n",
       "</div>"
      ],
      "text/plain": [
       "        cik   tic       month  similarity_score     ret\n",
       "0    200406   jnj  2012-05-31          0.982833 -3.1644\n",
       "1    200406   jnj  2012-08-31          0.979335 -1.7047\n",
       "2    200406   jnj  2012-11-30          0.992482 -0.6778\n",
       "3    200406   jnj  2013-02-28          0.987755  3.7879\n",
       "4    200406   jnj  2013-05-31          0.989229 -0.4576\n",
       "..      ...   ...         ...               ...     ...\n",
       "77  1652044  goog  2016-02-29          0.978489 -5.7963\n",
       "78  1652044  goog  2016-03-31          0.926402  6.3690\n",
       "79  1652044  goog  2016-05-31          0.897723  5.7877\n",
       "80  1652044  goog  2016-08-31          0.996488 -0.1883\n",
       "81  1652044  goog  2016-11-30          0.987509 -4.2005\n",
       "\n",
       "[82 rows x 5 columns]"
      ]
     },
     "execution_count": 2,
     "metadata": {},
     "output_type": "execute_result"
    }
   ],
   "source": [
    "import pandas as pd\n",
    "\n",
    "# Load your real dataset\n",
    "df = pd.read_csv('../data/processed/similarity_with_returns.csv')\n",
    "\n",
    "# Preview the data\n",
    "print(df.head())\n",
    "\n",
    "df"
   ]
  },
  {
   "cell_type": "code",
   "execution_count": 3,
   "id": "e4f3bf7b-7a0c-4618-9110-eef313ad6033",
   "metadata": {},
   "outputs": [
    {
     "name": "stderr",
     "output_type": "stream",
     "text": [
      "/var/folders/nx/v58k3cwd0wlgff1pwy874p600000gn/T/ipykernel_17219/771229645.py:10: DeprecationWarning: DataFrameGroupBy.apply operated on the grouping columns. This behavior is deprecated, and in a future version of pandas the grouping columns will be excluded from the operation. Either pass `include_groups=False` to exclude the groupings or explicitly select the grouping columns after groupby to silence this warning.\n",
      "  df['quintile'] = df.groupby('month', group_keys=False).apply(assign_quintile).astype(int)\n"
     ]
    }
   ],
   "source": [
    "# Assign quintiles within each month using similarity_score\n",
    "def assign_quintile(x):\n",
    "    if len(x) < 5:\n",
    "        max_signal = x['similarity_score'].max()\n",
    "        min_signal = x['similarity_score'].min()\n",
    "        return x['similarity_score'].apply(lambda s: 5 if s == max_signal else (1 if s == min_signal else 3))\n",
    "    else:\n",
    "        return pd.qcut(x['similarity_score'], 5, labels=[1,2,3,4,5])\n",
    "\n",
    "df['quintile'] = df.groupby('month', group_keys=False).apply(assign_quintile).astype(int)"
   ]
  },
  {
   "cell_type": "code",
   "execution_count": 4,
   "id": "6cdb971e",
   "metadata": {},
   "outputs": [
    {
     "data": {
      "application/vnd.microsoft.datawrangler.viewer.v0+json": {
       "columns": [
        {
         "name": "index",
         "rawType": "int64",
         "type": "integer"
        },
        {
         "name": "cik",
         "rawType": "int64",
         "type": "integer"
        },
        {
         "name": "tic",
         "rawType": "object",
         "type": "string"
        },
        {
         "name": "month",
         "rawType": "object",
         "type": "string"
        },
        {
         "name": "similarity_score",
         "rawType": "float64",
         "type": "float"
        },
        {
         "name": "ret",
         "rawType": "float64",
         "type": "float"
        },
        {
         "name": "quintile",
         "rawType": "int64",
         "type": "integer"
        }
       ],
       "conversionMethod": "pd.DataFrame",
       "ref": "87e09741-3ebf-4596-81e0-60dbbf050321",
       "rows": [
        [
         "0",
         "200406",
         "jnj",
         "2012-05-31",
         "0.9828325055815345",
         "-3.1644",
         "5"
        ],
        [
         "1",
         "200406",
         "jnj",
         "2012-08-31",
         "0.9793350462690228",
         "-1.7047",
         "5"
        ],
        [
         "2",
         "200406",
         "jnj",
         "2012-11-30",
         "0.992482475825221",
         "-0.6778",
         "5"
        ],
        [
         "3",
         "200406",
         "jnj",
         "2013-02-28",
         "0.9877552959705967",
         "3.7879",
         "5"
        ],
        [
         "4",
         "200406",
         "jnj",
         "2013-05-31",
         "0.9892285323536144",
         "-0.4576",
         "5"
        ],
        [
         "5",
         "200406",
         "jnj",
         "2013-08-31",
         "0.9970864892376174",
         null,
         "5"
        ],
        [
         "6",
         "200406",
         "jnj",
         "2013-11-30",
         "0.997538307306981",
         null,
         "5"
        ],
        [
         "7",
         "200406",
         "jnj",
         "2014-02-28",
         "0.9883037657839157",
         "4.8717",
         "5"
        ],
        [
         "8",
         "200406",
         "jnj",
         "2014-05-31",
         "0.9890310157073202",
         null,
         "5"
        ],
        [
         "9",
         "200406",
         "jnj",
         "2014-08-31",
         "0.9958716932157144",
         null,
         "5"
        ],
        [
         "10",
         "200406",
         "jnj",
         "2014-10-31",
         "0.9918848515536616",
         "1.1164",
         "3"
        ],
        [
         "11",
         "200406",
         "jnj",
         "2015-02-28",
         "0.9869621428852868",
         null,
         "5"
        ],
        [
         "12",
         "200406",
         "jnj",
         "2015-05-31",
         "0.9893696238710876",
         null,
         "5"
        ],
        [
         "13",
         "200406",
         "jnj",
         "2015-07-31",
         "0.9963678085180196",
         "2.8217",
         "3"
        ],
        [
         "14",
         "200406",
         "jnj",
         "2015-10-31",
         "0.9972849038997544",
         null,
         "3"
        ],
        [
         "15",
         "200406",
         "jnj",
         "2016-02-29",
         "0.9879366032031808",
         "1.4554",
         "5"
        ],
        [
         "16",
         "200406",
         "jnj",
         "2016-05-31",
         "0.9910381962125274",
         "1.258",
         "5"
        ],
        [
         "17",
         "200406",
         "jnj",
         "2016-08-31",
         "0.9962969466080324",
         "-4.0645",
         "1"
        ],
        [
         "18",
         "200406",
         "jnj",
         "2016-11-30",
         "0.9966919475843026",
         "-3.3537",
         "5"
        ],
        [
         "19",
         "320193",
         "aapl",
         "2012-04-30",
         "0.9875708965768306",
         "-2.597",
         "3"
        ],
        [
         "20",
         "320193",
         "aapl",
         "2012-07-31",
         "0.9910733880304814",
         "4.5822",
         "3"
        ],
        [
         "21",
         "320193",
         "aapl",
         "2012-10-31",
         "0.9893374573153212",
         "-10.7607",
         "1"
        ],
        [
         "22",
         "320193",
         "aapl",
         "2013-01-31",
         "0.9946790454471128",
         "-14.4094",
         "5"
        ],
        [
         "23",
         "320193",
         "aapl",
         "2013-04-30",
         "0.9977485834280624",
         "0.0271",
         "3"
        ],
        [
         "24",
         "320193",
         "aapl",
         "2013-07-31",
         "0.99768282243164",
         "14.1225",
         "5"
        ],
        [
         "25",
         "320193",
         "aapl",
         "2013-10-31",
         "0.995250844695474",
         "9.6386",
         "3"
        ],
        [
         "26",
         "320193",
         "aapl",
         "2014-01-31",
         "0.9895722911208276",
         "-10.7697",
         "1"
        ],
        [
         "27",
         "320193",
         "aapl",
         "2014-04-30",
         "0.9917519348423928",
         "9.9396",
         "3"
        ],
        [
         "28",
         "320193",
         "aapl",
         "2014-07-31",
         "0.9977868885041734",
         "2.8731",
         "5"
        ],
        [
         "29",
         "320193",
         "aapl",
         "2014-10-31",
         "0.9899488245491228",
         "7.196",
         "3"
        ],
        [
         "30",
         "320193",
         "aapl",
         "2015-01-31",
         "0.9925962857274316",
         null,
         "3"
        ],
        [
         "31",
         "320193",
         "aapl",
         "2015-04-30",
         "0.996971989963066",
         "0.5786",
         "5"
        ],
        [
         "32",
         "320193",
         "aapl",
         "2015-07-31",
         "0.998328413644581",
         "-3.2888",
         "5"
        ],
        [
         "33",
         "320193",
         "aapl",
         "2015-10-31",
         "0.9951677358538124",
         null,
         "3"
        ],
        [
         "34",
         "320193",
         "aapl",
         "2016-01-31",
         "0.9937996284609965",
         null,
         "5"
        ],
        [
         "35",
         "320193",
         "aapl",
         "2016-04-30",
         "0.9931530346298094",
         null,
         "1"
        ],
        [
         "36",
         "320193",
         "aapl",
         "2016-07-31",
         "0.984199198011473",
         null,
         "3"
        ],
        [
         "37",
         "320193",
         "aapl",
         "2016-10-31",
         "0.987949815985282",
         "0.4334",
         "5"
        ],
        [
         "38",
         "789019",
         "msft",
         "2012-01-31",
         "0.7836904501714755",
         "13.7519",
         "5"
        ],
        [
         "39",
         "789019",
         "msft",
         "2012-04-30",
         "0.777861054077138",
         "-0.7441",
         "1"
        ],
        [
         "40",
         "789019",
         "msft",
         "2012-07-31",
         "0.9874515908073668",
         "-3.6613",
         "1"
        ],
        [
         "41",
         "789019",
         "msft",
         "2012-10-31",
         "0.9924899705316922",
         "-4.0995",
         "3"
        ],
        [
         "42",
         "789019",
         "msft",
         "2013-01-31",
         "0.9914055754842748",
         "2.7717",
         "3"
        ],
        [
         "43",
         "789019",
         "msft",
         "2013-04-30",
         "0.9988158121639203",
         "15.714",
         "5"
        ],
        [
         "44",
         "789019",
         "msft",
         "2013-07-31",
         "0.990433863227994",
         "-7.8304",
         "3"
        ],
        [
         "45",
         "789019",
         "msft",
         "2013-10-31",
         "0.9911816428195068",
         "6.3852",
         "1"
        ],
        [
         "46",
         "789019",
         "msft",
         "2014-01-31",
         "0.9960706896798404",
         "1.1494",
         "5"
        ],
        [
         "47",
         "789019",
         "msft",
         "2014-04-30",
         "0.9985164614620692",
         "-1.4394",
         "5"
        ],
        [
         "48",
         "789019",
         "msft",
         "2014-07-31",
         "0.9855089347568128",
         "3.5012",
         "3"
        ],
        [
         "49",
         "789019",
         "msft",
         "2014-10-31",
         "0.9873904910856892",
         "1.2727",
         "1"
        ]
       ],
       "shape": {
        "columns": 6,
        "rows": 82
       }
      },
      "text/html": [
       "<div>\n",
       "<style scoped>\n",
       "    .dataframe tbody tr th:only-of-type {\n",
       "        vertical-align: middle;\n",
       "    }\n",
       "\n",
       "    .dataframe tbody tr th {\n",
       "        vertical-align: top;\n",
       "    }\n",
       "\n",
       "    .dataframe thead th {\n",
       "        text-align: right;\n",
       "    }\n",
       "</style>\n",
       "<table border=\"1\" class=\"dataframe\">\n",
       "  <thead>\n",
       "    <tr style=\"text-align: right;\">\n",
       "      <th></th>\n",
       "      <th>cik</th>\n",
       "      <th>tic</th>\n",
       "      <th>month</th>\n",
       "      <th>similarity_score</th>\n",
       "      <th>ret</th>\n",
       "      <th>quintile</th>\n",
       "    </tr>\n",
       "  </thead>\n",
       "  <tbody>\n",
       "    <tr>\n",
       "      <th>0</th>\n",
       "      <td>200406</td>\n",
       "      <td>jnj</td>\n",
       "      <td>2012-05-31</td>\n",
       "      <td>0.982833</td>\n",
       "      <td>-3.1644</td>\n",
       "      <td>5</td>\n",
       "    </tr>\n",
       "    <tr>\n",
       "      <th>1</th>\n",
       "      <td>200406</td>\n",
       "      <td>jnj</td>\n",
       "      <td>2012-08-31</td>\n",
       "      <td>0.979335</td>\n",
       "      <td>-1.7047</td>\n",
       "      <td>5</td>\n",
       "    </tr>\n",
       "    <tr>\n",
       "      <th>2</th>\n",
       "      <td>200406</td>\n",
       "      <td>jnj</td>\n",
       "      <td>2012-11-30</td>\n",
       "      <td>0.992482</td>\n",
       "      <td>-0.6778</td>\n",
       "      <td>5</td>\n",
       "    </tr>\n",
       "    <tr>\n",
       "      <th>3</th>\n",
       "      <td>200406</td>\n",
       "      <td>jnj</td>\n",
       "      <td>2013-02-28</td>\n",
       "      <td>0.987755</td>\n",
       "      <td>3.7879</td>\n",
       "      <td>5</td>\n",
       "    </tr>\n",
       "    <tr>\n",
       "      <th>4</th>\n",
       "      <td>200406</td>\n",
       "      <td>jnj</td>\n",
       "      <td>2013-05-31</td>\n",
       "      <td>0.989229</td>\n",
       "      <td>-0.4576</td>\n",
       "      <td>5</td>\n",
       "    </tr>\n",
       "    <tr>\n",
       "      <th>...</th>\n",
       "      <td>...</td>\n",
       "      <td>...</td>\n",
       "      <td>...</td>\n",
       "      <td>...</td>\n",
       "      <td>...</td>\n",
       "      <td>...</td>\n",
       "    </tr>\n",
       "    <tr>\n",
       "      <th>77</th>\n",
       "      <td>1652044</td>\n",
       "      <td>goog</td>\n",
       "      <td>2016-02-29</td>\n",
       "      <td>0.978489</td>\n",
       "      <td>-5.7963</td>\n",
       "      <td>1</td>\n",
       "    </tr>\n",
       "    <tr>\n",
       "      <th>78</th>\n",
       "      <td>1652044</td>\n",
       "      <td>goog</td>\n",
       "      <td>2016-03-31</td>\n",
       "      <td>0.926402</td>\n",
       "      <td>6.3690</td>\n",
       "      <td>5</td>\n",
       "    </tr>\n",
       "    <tr>\n",
       "      <th>79</th>\n",
       "      <td>1652044</td>\n",
       "      <td>goog</td>\n",
       "      <td>2016-05-31</td>\n",
       "      <td>0.897723</td>\n",
       "      <td>5.7877</td>\n",
       "      <td>1</td>\n",
       "    </tr>\n",
       "    <tr>\n",
       "      <th>80</th>\n",
       "      <td>1652044</td>\n",
       "      <td>goog</td>\n",
       "      <td>2016-08-31</td>\n",
       "      <td>0.996488</td>\n",
       "      <td>-0.1883</td>\n",
       "      <td>5</td>\n",
       "    </tr>\n",
       "    <tr>\n",
       "      <th>81</th>\n",
       "      <td>1652044</td>\n",
       "      <td>goog</td>\n",
       "      <td>2016-11-30</td>\n",
       "      <td>0.987509</td>\n",
       "      <td>-4.2005</td>\n",
       "      <td>1</td>\n",
       "    </tr>\n",
       "  </tbody>\n",
       "</table>\n",
       "<p>82 rows × 6 columns</p>\n",
       "</div>"
      ],
      "text/plain": [
       "        cik   tic       month  similarity_score     ret  quintile\n",
       "0    200406   jnj  2012-05-31          0.982833 -3.1644         5\n",
       "1    200406   jnj  2012-08-31          0.979335 -1.7047         5\n",
       "2    200406   jnj  2012-11-30          0.992482 -0.6778         5\n",
       "3    200406   jnj  2013-02-28          0.987755  3.7879         5\n",
       "4    200406   jnj  2013-05-31          0.989229 -0.4576         5\n",
       "..      ...   ...         ...               ...     ...       ...\n",
       "77  1652044  goog  2016-02-29          0.978489 -5.7963         1\n",
       "78  1652044  goog  2016-03-31          0.926402  6.3690         5\n",
       "79  1652044  goog  2016-05-31          0.897723  5.7877         1\n",
       "80  1652044  goog  2016-08-31          0.996488 -0.1883         5\n",
       "81  1652044  goog  2016-11-30          0.987509 -4.2005         1\n",
       "\n",
       "[82 rows x 6 columns]"
      ]
     },
     "execution_count": 4,
     "metadata": {},
     "output_type": "execute_result"
    }
   ],
   "source": [
    "df"
   ]
  },
  {
   "cell_type": "code",
   "execution_count": 4,
   "id": "753f3b7f-1c03-478e-903f-0a498a8ab112",
   "metadata": {},
   "outputs": [],
   "source": [
    "#Compute monthly long-short portfolio returns\n",
    "portfolio_rets = []\n",
    "for month, group in df.groupby('month'):\n",
    "    long_ret = group.loc[group['quintile'] == 5, 'ret'].mean()\n",
    "    short_ret = group.loc[group['quintile'] == 1, 'ret'].mean()\n",
    "    long_short = long_ret - short_ret\n",
    "    portfolio_rets.append({'month': month, 'portfolio_return': long_short})\n",
    "\n",
    "portfolio_df = pd.DataFrame(portfolio_rets)\n",
    "portfolio_df['month'] = pd.to_datetime(portfolio_df['month'])\n",
    "portfolio_df = portfolio_df.sort_values('month')"
   ]
  },
  {
   "cell_type": "code",
   "execution_count": 5,
   "id": "8405022c-96b8-4bdf-ae8b-df03592fc0b7",
   "metadata": {},
   "outputs": [],
   "source": [
    "#Calculate cumulative return (growth of $1, if ret is percent, convert to decimal first)\n",
    "portfolio_df['portfolio_return_decimal'] = portfolio_df['portfolio_return'] / 100\n",
    "portfolio_df['cum_portfolio'] = (1 + portfolio_df['portfolio_return_decimal']).cumprod()\n"
   ]
  },
  {
   "cell_type": "code",
   "execution_count": 20,
   "id": "60d8be6d-3aad-47c5-acae-0d76ef4a08bd",
   "metadata": {},
   "outputs": [
    {
     "name": "stdout",
     "output_type": "stream",
     "text": [
      "       month  portfolio_return  portfolio_return_decimal  cum_portfolio\n",
      "0 2012-01-31               NaN                       NaN            NaN\n",
      "1 2012-04-30            15.257                   0.15257       1.152570\n",
      "2 2012-05-31               NaN                       NaN            NaN\n",
      "3 2012-07-31             5.829                   0.05829       1.219753\n",
      "4 2012-08-31               NaN                       NaN            NaN\n"
     ]
    }
   ],
   "source": [
    "#Output your results\n",
    "print(portfolio_df.head())\n",
    "# Save your portfolio DataFrame as a CSV file in the right path\n",
    "portfolio_df.to_csv(\"/Users/lhn/Desktop/FIN377/lazy-prices_replication/data/processed/step9_portfolio_returns.csv\", index=False)\n"
   ]
  },
  {
   "cell_type": "code",
   "execution_count": 10,
   "id": "b20bbfb2-bc14-4c00-9bff-b394ebc31f08",
   "metadata": {},
   "outputs": [
    {
     "data": {
      "image/png": "[encoded data removed]",
      "text/plain": [
       "<Figure size 1000x500 with 1 Axes>"
      ]
     },
     "metadata": {},
     "output_type": "display_data"
    }
   ],
   "source": [
    "\n",
    "import matplotlib.pyplot as plt\n",
    "\n",
    "plt.figure(figsize=(10,5))\n",
    "plt.plot(portfolio_df['month'], portfolio_df['portfolio_return'], marker='o', label='Monthly Portfolio Return')\n",
    "plt.xlabel('Month')\n",
    "plt.ylabel('Monthly Long-Short Return (%)')\n",
    "plt.title('Monthly Long-Short Portfolio Return')\n",
    "plt.legend()\n",
    "plt.grid(alpha=0.3)\n",
    "plt.xticks(rotation=45)\n",
    "plt.tight_layout()\n",
    "plt.show()\n",
    "\n"
   ]
  },
  {
   "cell_type": "code",
   "execution_count": 16,
   "id": "057fe04b-af44-49ca-8777-b7111c70e78d",
   "metadata": {},
   "outputs": [
    {
     "name": "stdout",
     "output_type": "stream",
     "text": [
      "Index(['observation_date', 'SP500'], dtype='object')\n",
      "        month  sp500_return\n",
      "1  2015-04-28      0.276919\n",
      "2  2015-04-29     -0.374038\n",
      "3  2015-04-30     -1.012887\n",
      "4  2015-05-01      1.092299\n",
      "5  2015-05-04      0.294077\n"
     ]
    },
    {
     "name": "stderr",
     "output_type": "stream",
     "text": [
      "/var/folders/0l/qx_t59gs2g159dkl9zybv6f40000gn/T/ipykernel_15727/2788594281.py:21: FutureWarning: The default fill_method='pad' in Series.pct_change is deprecated and will be removed in a future version. Either fill in any non-leading NA values prior to calling pct_change or specify 'fill_method=None' to not fill NA values.\n",
      "  sp500['sp500_return'] = sp500['sp500_index'].pct_change() * 100\n"
     ]
    }
   ],
   "source": [
    "# S&P 500\n",
    "import pandas as pd\n",
    "\n",
    "# Download S&P 500 from FRED\n",
    "fred_url = \"https://fred.stlouisfed.org/graph/fredgraph.csv?id=SP500\"\n",
    "sp500 = pd.read_csv(fred_url)\n",
    "\n",
    "# Check real column names\n",
    "print(sp500.columns)\n",
    "# Likely: ['observation_date', 'SP500']\n",
    "\n",
    "# Convert date and rename for consistency\n",
    "sp500['month'] = pd.to_datetime(sp500['observation_date'])\n",
    "sp500 = sp500.rename(columns={'SP500':'sp500_index'})\n",
    "\n",
    "# Filter to your project range\n",
    "start_date = \"2012-01-01\"\n",
    "end_date = \"2016-11-30\"\n",
    "sp500 = sp500[(sp500['month'] >= start_date) & (sp500['month'] <= end_date)]\n",
    "\n",
    "# Calculate monthly returns (in percent)\n",
    "sp500['sp500_return'] = sp500['sp500_index'].pct_change() * 100\n",
    "\n",
    "# Format date as string if merging\n",
    "sp500['month'] = sp500['month'].dt.strftime('%Y-%m-%d')\n",
    "\n",
    "# Drop first row with NaN return\n",
    "sp500 = sp500.dropna(subset=['sp500_return'])\n",
    "\n",
    "print(sp500[['month', 'sp500_return']].head())"
   ]
  },
  {
   "cell_type": "code",
   "execution_count": 26,
   "id": "8d96ac88-c028-420b-8cf0-fc7b0e0600d1",
   "metadata": {},
   "outputs": [
    {
     "data": {
      "image/png": "[encoded data removed]",
      "text/plain": [
       "<Figure size 1000x500 with 1 Axes>"
      ]
     },
     "metadata": {},
     "output_type": "display_data"
    }
   ],
   "source": [
    "import pandas as pd\n",
    "import matplotlib.pyplot as plt\n",
    "\n",
    "# 1. Load your saved portfolio results (from CSV)\n",
    "portfolio_df = pd.read_csv(\"/Users/lhn/Desktop/FIN377/lazy-prices_replication/data/processed/step9_portfolio_returns.csv\")\n",
    "portfolio_df['month'] = pd.to_datetime(portfolio_df['month']).dt.strftime('%Y-%m-%d')\n",
    "\n",
    "# 2. S&P 500 already loaded and processed as `sp500`\n",
    "# (from your previous notebook cell using FRED URL)\n",
    "# sp500['month'] and sp500['sp500_return'] are ready\n",
    "\n",
    "# 3. Calculate cumulative returns for both\n",
    "# Portfolio\n",
    "if 'cum_portfolio' not in portfolio_df.columns:\n",
    "    portfolio_df['portfolio_return_decimal'] = portfolio_df['portfolio_return'] / 100\n",
    "    portfolio_df['cum_portfolio'] = (1 + portfolio_df['portfolio_return_decimal']).cumprod()\n",
    "# S&P 500\n",
    "sp500['sp500_return_decimal'] = sp500['sp500_return'] / 100\n",
    "sp500['cum_sp500'] = (1 + sp500['sp500_return_decimal']).cumprod()\n",
    "\n",
    "# 4. Merge on 'month'\n",
    "merged = pd.merge(\n",
    "    portfolio_df[['month', 'cum_portfolio']],\n",
    "    sp500[['month', 'cum_sp500']],\n",
    "    on='month', how='inner'\n",
    ")\n",
    "\n",
    "\n",
    "\n",
    "# 6. Plot\n",
    "plt.figure(figsize=(10,5))\n",
    "plt.plot(merged['month'], merged['cum_portfolio'], label='Long-Short Portfolio (Lazy Price)')\n",
    "plt.plot(merged['month'], merged['cum_sp500'], label='S&P 500')\n",
    "plt.xlabel('Month')\n",
    "plt.ylabel('Cumulative Return (Growth of $1)')\n",
    "plt.title('Cumulative Performance: Portfolio vs S&P 500')\n",
    "plt.legend()\n",
    "plt.grid(alpha=0.3)\n",
    "plt.xticks(rotation=45)\n",
    "plt.tight_layout()\n",
    "plt.show()\n"
   ]
  },
  {
   "cell_type": "markdown",
   "id": "1e5253d3-68eb-4ebc-a0fd-9d25489eb88d",
   "metadata": {},
   "source": [
    "Logic\n",
    "1.\n",
    "a. Sort all firms by their similarity_score for that month (the higher the score, the more “similar” their filing is to the previous one).\n",
    "b. Assign quintiles (divide into 5 groups) based on the similarity_score within that month:\n",
    "Top 20% (5th quintile): Firms with the highest similarity\n",
    "Bottom 20% (1st quintile): Firms with the lowest similarity\n",
    "2.\n",
    "Long leg: Go long (buy) all stocks in the top quintile (highest similarity).\n",
    "Short leg: Go short (sell) all stocks in the bottom quintile (lowest similarity).\n",
    "\n",
    "Returns are equally weighted within each leg (i.e., average the returns for the long group and the short group).\n",
    "3.\n",
    "Long-short return = Mean(return of long leg) - Mean(return of short leg)\n",
    "\n",
    "Key\n",
    "If the long-short return is consistently positive:It means firms with high similarity (i.e., \"lazy\" prices) tend to outperform those with low similarity, after controlling for general market movements.\n"
   ]
  }
 ],
 "metadata": {
  "kernelspec": {
   "display_name": "base",
   "language": "python",
   "name": "python3"
  },
  "language_info": {
   "codemirror_mode": {
    "name": "ipython",
    "version": 3
   },
   "file_extension": ".py",
   "mimetype": "text/x-python",
   "name": "python",
   "nbconvert_exporter": "python",
   "pygments_lexer": "ipython3",
   "version": "3.12.7"
  }
 },
 "nbformat": 4,
 "nbformat_minor": 5
}
