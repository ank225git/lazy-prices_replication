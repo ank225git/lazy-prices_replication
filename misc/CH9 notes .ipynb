{
 "cells": [
  {
   "cell_type": "markdown",
   "id": "d65a8430-9c8d-4855-9f18-8b01baddcca9",
   "metadata": {},
   "source": [
    "9.1 Compounding returns r1--> single period. R1--> gross"
   ]
  },
  {
   "cell_type": "code",
   "execution_count": null,
   "id": "1b02af86-42d0-49d5-98da-b4a8cd0626c6",
   "metadata": {},
   "outputs": [],
   "source": [
    "# 1 way\n",
    "(df\n",
    "   # compute gross returns for each asset\n",
    "   .assign(R = 1+df['ret'])\n",
    "   # for each portfolio and time period...\n",
    "   .groupby(['asset','timeperiod'])\n",
    "   # get the gross returns, and cumulate by taking the product\n",
    "   ['R'].prod()\n",
    "   # subtract one to get back to simple returns\n",
    "   -1\n",
    ")"
   ]
  },
  {
   "cell_type": "code",
   "execution_count": null,
   "id": "a58ca711-1558-40ca-98ce-4fea328895c3",
   "metadata": {},
   "outputs": [],
   "source": [
    "#2nd way\n",
    "(df\n",
    " # for each asset and time period\n",
    " .groupby([\"asset\", \"timeperiod\"])\n",
    " # agg() does the function inside for each group (asset-timeperiod combo)\n",
    " # 1+x['ret'] gets gross return (R) for each observation in the data\n",
    " # (1+x{'ret']).prod() takes the product of all R for that group\n",
    " # and then subtract one\n",
    " .agg(ret=lambda x: ((1 + x[\"ret\"]).prod()) - 1)\n",
    ")"
   ]
  },
  {
   "cell_type": "code",
   "execution_count": null,
   "id": "d0a61a66-06ad-47e8-a518-09586f1a20d1",
   "metadata": {},
   "outputs": [],
   "source": [
    "# 3 way\n",
    "(df\n",
    " .assign(logR = np.log(1+df.ret))\n",
    " # for each asset and time period\n",
    " .groupby([\"asset\", \"timeperiod\"])\n",
    " # sum log returns\n",
    " ['logR'].sum()\n",
    " # exponentiate and subtract 1\n",
    " .assign(ret = lambda x: np.exp(x['logR'])-1\n",
    ")"
   ]
  },
  {
   "cell_type": "markdown",
   "id": "7806e5b1-1529-4359-907d-ea5ecfa5f70c",
   "metadata": {},
   "source": [
    "Explaination for 3\n",
    "1. Why we have to use log?\n",
    "Adding returns over time. Log returns can be summed across time in order to get the toal log return since simple returns can not be added over time.\n",
    "2. Steps\n",
    "A.Calculate log returns for each period\n",
    "B. Sum them over the periods\n",
    "C.Exponentiate the sum"
   ]
  },
  {
   "cell_type": "markdown",
   "id": "29aa3dff-d23b-47a3-b53c-dfb84a3dd327",
   "metadata": {},
   "source": [
    "9.2 Rolling Returns\n",
    "Rolling returns. Rolling returns are used to calculate the return of an asset over a moving time window. Since some data is not perfect, might be missing\n"
   ]
  },
  {
   "cell_type": "code",
   "execution_count": null,
   "id": "c7ef0350-5050-49c8-b486-6607e2970d15",
   "metadata": {},
   "outputs": [],
   "source": [
    "Questions: Stock markets close on weekends, so we can’t always just take the last 5 rows."
   ]
  },
  {
   "cell_type": "code",
   "execution_count": null,
   "id": "6f9a5f11-c243-44da-bb89-a217a1f8997d",
   "metadata": {},
   "outputs": [],
   "source": [
    "df['ret1week'] = (\n",
    "    df.set_index('Date')\n",
    "    .groupby('Firm')['ret']\n",
    "    .rolling('7D', 1)\n",
    "    .apply(lambda x: np.prod(1 + x) - 1)\n",
    "    .values\n",
    ")\n",
    "\n",
    "# make sure the data is used for rolling, do the calculation, look at pervious 7 calendar days, compute the retuns,ensure resuly lines up as column.\n"
   ]
  },
  {
   "cell_type": "markdown",
   "id": "7b669bf8-5160-42a9-91fd-33fd5b7adb67",
   "metadata": {},
   "source": [
    "9.3 Expanding returns\n",
    "Since we need the total returns from day 0 to day n+1, this is not a fixed number of units, so we need to expand it."
   ]
  },
  {
   "cell_type": "code",
   "execution_count": null,
   "id": "47e5b241-ee4c-4c21-975b-8ac4833c07f0",
   "metadata": {},
   "outputs": [],
   "source": [
    "# Getting the expanding returns 2 ways\n",
    "\n",
    "#1.\n",
    "df.assign(R=1+df['r']).groupby('firm')['R'].cumprod()\n",
    "\n",
    "#2.\n",
    "df.groupby('firm')['r'].expanding().apply(lambda x: np.prod(1+x))"
   ]
  },
  {
   "cell_type": "markdown",
   "id": "48bf5d14-ab02-410e-a19e-0e5c7cd2d3fe",
   "metadata": {},
   "source": [
    "Might be very useful!!! 9.6 Cross-Sectional / “Assaying Anomalies” Style Analysis"
   ]
  },
  {
   "cell_type": "code",
   "execution_count": null,
   "id": "3b5c2940-5285-443e-97f6-2f4d5987da1e",
   "metadata": {},
   "outputs": [],
   "source": [
    "#STEP 1 Get the factor portfolio returns\n",
    "# I think this are in the opensourceAP dataset, and you should grab from that source instead, IMO\n",
    "df_factors = ff.FamaFrenchReader('F-F_Research_Data_5_Factors_2x3', start='1900-01-01').read()[0]\n",
    "\n",
    "# add momentum to this\n",
    "mom = ff.FamaFrenchReader('F-F_Momentum_Factor', start='1900-01-01').read()[0] # add momentum\n",
    "mom.columns = ['Mom'] # rename\n",
    "df_factors = pd.merge(df_factors, mom, left_index=True, right_index=True)\n",
    "df_factors # FYI: contains Mkt-RF and RF, but no Mkt\n",
    "\n",
    "#STEP 2 Get your signal,construct portfolio returns.\n",
    "# now, here we'd develop some \"signal\" and then create portfolio rets based on it\n",
    "# I'm skipping... you figure that out\n",
    "\n",
    "# I'll pretend I did that by grabbing 5 industry portfolio returns\n",
    "df_portfolios = ff.FamaFrenchReader('5_Industry_Portfolios', start='1900-01-01').read()[0]\n",
    "df_portfolios.columns = [f'Port{i+1}' for i in range(len(df_portfolios.columns))] # this is my anticipated portfolio number name scheme\n",
    "\n",
    "df_portfolios.eval(\"HmL = Port5-Port1\", inplace=True)\n",
    "\n",
    "# Make each portfolio (except for HmL) excess returns\n",
    "for col in ['Port1', 'Port2', 'Port3', 'Port4', 'Port5']:\n",
    "    df_portfolios[col] = df_portfolios[col] - df_factors['RF']\n",
    "\n",
    "portfolios = df_portfolios.columns.tolist()\n",
    "\n",
    "df_portfolios"
   ]
  }
 ],
 "metadata": {
  "kernelspec": {
   "display_name": "Python [conda env:base] *",
   "language": "python",
   "name": "conda-base-py"
  },
  "language_info": {
   "codemirror_mode": {
    "name": "ipython",
    "version": 3
   },
   "file_extension": ".py",
   "mimetype": "text/x-python",
   "name": "python",
   "nbconvert_exporter": "python",
   "pygments_lexer": "ipython3",
   "version": "3.12.7"
  }
 },
 "nbformat": 4,
 "nbformat_minor": 5
}
