{
 "cells": [
  {
   "cell_type": "code",
   "execution_count": 1,
   "id": "b95a74df",
   "metadata": {},
   "outputs": [
    {
     "name": "stdout",
     "output_type": "stream",
     "text": [
      "Available signals:\n",
      "               Acronym                         Authors  \\\n",
      "0     AbnormalAccruals                             Xie   \n",
      "1             Accruals                           Sloan   \n",
      "2           AccrualsBM                  Bartov and Kim   \n",
      "3            Activism1                Cremers and Nair   \n",
      "4                   AM                 Fama and French   \n",
      "5      AnalystRevision     Hawkins, Chamberlin, Daniel   \n",
      "6   AnnouncementReturn  Chan, Jegadeesh and Lakonishok   \n",
      "7          AssetGrowth        Cooper, Gulen and Schill   \n",
      "8      BetaLiquidityPS            Pastor and Stambaugh   \n",
      "9         BetaTailRisk                 Kelly and Jiang   \n",
      "10             betaVIX                      Ang et al.   \n",
      "11                  BM                        Stattman   \n",
      "12               BMdec                 Fama and French   \n",
      "13        BookLeverage                 Fama and French   \n",
      "14               BPEBM     Penman, Richardson and Tuna   \n",
      "15                Cash                         Palazzo   \n",
      "16            CashProd           Chandrashekar and Rao   \n",
      "17          CBOperProf                     Ball et al.   \n",
      "18                  CF    Lakonishok, Shleifer, Vishny   \n",
      "19                 cfp  Desai, Rajgopal, Venkatachalam   \n",
      "\n",
      "                             LongDescription  \n",
      "0                          Abnormal Accruals  \n",
      "1                                   Accruals  \n",
      "2                Book-to-market and accruals  \n",
      "3                     Takeover vulnerability  \n",
      "4                     Total assets to market  \n",
      "5                      EPS forecast revision  \n",
      "6               Earnings announcement return  \n",
      "7                               Asset growth  \n",
      "8            Pastor-Stambaugh liquidity beta  \n",
      "9                             Tail risk beta  \n",
      "10                     Systematic volatility  \n",
      "11  Book to market, original (Stattman 1980)  \n",
      "12          Book to market using December ME  \n",
      "13                    Book leverage (annual)  \n",
      "14                  Leverage component of BM  \n",
      "15                            Cash to assets  \n",
      "16                         Cash Productivity  \n",
      "17        Cash-based operating profitability  \n",
      "18                       Cash flow to market  \n",
      "19             Operating Cash flows to price  \n",
      "\n",
      "Data is downloaded: 8s\n"
     ]
    },
    {
     "name": "stderr",
     "output_type": "stream",
     "text": [
      "/var/folders/nx/v58k3cwd0wlgff1pwy874p600000gn/T/ipykernel_51052/4133835328.py:36: FutureWarning: The argument 'date_parser' is deprecated and will be removed in a future version. Please use 'date_format' instead, or read your data in as 'object' dtype and then call 'to_datetime'.\n",
      "  ff = pandas_datareader.get_data_famafrench('F-F_Research_Data_Factors',start=1950,end=2024)[0]\n",
      "/var/folders/nx/v58k3cwd0wlgff1pwy874p600000gn/T/ipykernel_51052/4133835328.py:36: FutureWarning: The argument 'date_parser' is deprecated and will be removed in a future version. Please use 'date_format' instead, or read your data in as 'object' dtype and then call 'to_datetime'.\n",
      "  ff = pandas_datareader.get_data_famafrench('F-F_Research_Data_Factors',start=1950,end=2024)[0]\n"
     ]
    },
    {
     "data": {
      "application/vnd.microsoft.datawrangler.viewer.v0+json": {
       "columns": [
        {
         "name": "signalname",
         "rawType": "object",
         "type": "string"
        },
        {
         "name": "count",
         "rawType": "float64",
         "type": "float"
        },
        {
         "name": "mean",
         "rawType": "float64",
         "type": "float"
        },
        {
         "name": "min",
         "rawType": "float64",
         "type": "float"
        },
        {
         "name": "25%",
         "rawType": "float64",
         "type": "float"
        },
        {
         "name": "50%",
         "rawType": "float64",
         "type": "float"
        },
        {
         "name": "75%",
         "rawType": "float64",
         "type": "float"
        },
        {
         "name": "max",
         "rawType": "float64",
         "type": "float"
        },
        {
         "name": "std",
         "rawType": "float64",
         "type": "float"
        }
       ],
       "conversionMethod": "pd.DataFrame",
       "ref": "0fb61226-d133-458c-8397-398cd07eb220",
       "rows": [
        [
         "BM",
         "870.0",
         "0.6741945618786964",
         "-16.6091710733945",
         "-1.605302585702205",
         "0.4808366852809885",
         "2.5249494822916447",
         "33.2730389508084",
         "4.122495574270876"
        ],
        [
         "IndIPO",
         "584.0",
         "0.44292012847101503",
         "-18.9368940401547",
         "-1.0793177674407675",
         "0.35143662970284995",
         "2.080434496822615",
         "15.4043822580993",
         "3.382486180775266"
        ],
        [
         "mkt_rf",
         "870.0",
         "0.6425977011494254",
         "-23.24",
         "-1.94",
         "1.025",
         "3.4225000000000003",
         "16.1",
         "4.3575492908123135"
        ]
       ],
       "shape": {
        "columns": 8,
        "rows": 3
       }
      },
      "text/html": [
       "<div>\n",
       "<style scoped>\n",
       "    .dataframe tbody tr th:only-of-type {\n",
       "        vertical-align: middle;\n",
       "    }\n",
       "\n",
       "    .dataframe tbody tr th {\n",
       "        vertical-align: top;\n",
       "    }\n",
       "\n",
       "    .dataframe thead th {\n",
       "        text-align: right;\n",
       "    }\n",
       "</style>\n",
       "<table border=\"1\" class=\"dataframe\">\n",
       "  <thead>\n",
       "    <tr style=\"text-align: right;\">\n",
       "      <th></th>\n",
       "      <th>count</th>\n",
       "      <th>mean</th>\n",
       "      <th>min</th>\n",
       "      <th>25%</th>\n",
       "      <th>50%</th>\n",
       "      <th>75%</th>\n",
       "      <th>max</th>\n",
       "      <th>std</th>\n",
       "    </tr>\n",
       "    <tr>\n",
       "      <th>signalname</th>\n",
       "      <th></th>\n",
       "      <th></th>\n",
       "      <th></th>\n",
       "      <th></th>\n",
       "      <th></th>\n",
       "      <th></th>\n",
       "      <th></th>\n",
       "      <th></th>\n",
       "    </tr>\n",
       "  </thead>\n",
       "  <tbody>\n",
       "    <tr>\n",
       "      <th>BM</th>\n",
       "      <td>870.0</td>\n",
       "      <td>0.674195</td>\n",
       "      <td>-16.609171</td>\n",
       "      <td>-1.605303</td>\n",
       "      <td>0.480837</td>\n",
       "      <td>2.524949</td>\n",
       "      <td>33.273039</td>\n",
       "      <td>4.122496</td>\n",
       "    </tr>\n",
       "    <tr>\n",
       "      <th>IndIPO</th>\n",
       "      <td>584.0</td>\n",
       "      <td>0.442920</td>\n",
       "      <td>-18.936894</td>\n",
       "      <td>-1.079318</td>\n",
       "      <td>0.351437</td>\n",
       "      <td>2.080434</td>\n",
       "      <td>15.404382</td>\n",
       "      <td>3.382486</td>\n",
       "    </tr>\n",
       "    <tr>\n",
       "      <th>mkt_rf</th>\n",
       "      <td>870.0</td>\n",
       "      <td>0.642598</td>\n",
       "      <td>-23.240000</td>\n",
       "      <td>-1.940000</td>\n",
       "      <td>1.025000</td>\n",
       "      <td>3.422500</td>\n",
       "      <td>16.100000</td>\n",
       "      <td>4.357549</td>\n",
       "    </tr>\n",
       "  </tbody>\n",
       "</table>\n",
       "</div>"
      ],
      "text/plain": [
       "            count      mean        min       25%       50%       75%  \\\n",
       "signalname                                                             \n",
       "BM          870.0  0.674195 -16.609171 -1.605303  0.480837  2.524949   \n",
       "IndIPO      584.0  0.442920 -18.936894 -1.079318  0.351437  2.080434   \n",
       "mkt_rf      870.0  0.642598 -23.240000 -1.940000  1.025000  3.422500   \n",
       "\n",
       "                  max       std  \n",
       "signalname                       \n",
       "BM          33.273039  4.122496  \n",
       "IndIPO      15.404382  3.382486  \n",
       "mkt_rf      16.100000  4.357549  "
      ]
     },
     "metadata": {},
     "output_type": "display_data"
    }
   ],
   "source": [
    "import os\n",
    "import pandas as pd\n",
    "import numpy as np\n",
    "import matplotlib.pyplot as plt\n",
    "import seaborn as sns\n",
    "import requests\n",
    "import zipfile\n",
    "from datetime import datetime\n",
    "import openassetpricing as openap\n",
    "\n",
    "# -------------------- Parameters --------------------\n",
    "signallist = ['IndIPO','BM']\n",
    "\n",
    "# -------------------- Initialize OpenAP and Download Signal Doc --------------------\n",
    "openap_obj = openap.OpenAP()  \n",
    "signaldoc = openap_obj.dl_signal_doc('pandas')\n",
    "\n",
    "print(\"Available signals:\")\n",
    "print(signaldoc[['Acronym', 'Authors', 'LongDescription']].head(20))\n",
    "\n",
    "# -------------------- Download Portfolio Data --------------------\n",
    "# Download OSAP portfolio returns for the IndIPO signal\n",
    "port_osap = openap_obj.dl_port('op', 'pandas', signallist)\n",
    "port_osap['date'] = pd.to_datetime(port_osap['date'])\n",
    "\n",
    "# Reduce to LS portfolios (openap provides multiple portfolio versions for each anomaly on each date)\n",
    "port_osap.query('port== \"LS\"', inplace=True)\n",
    "\n",
    "# -------------------- Add Mkt-Rf returns --------------------\n",
    "\n",
    "import pandas_datareader \n",
    "pandas_datareader.famafrench.get_available_datasets()\n",
    "# Developed_3_Factors\n",
    "\n",
    "# download F-F_Research_Data_Factors\n",
    "ff = pandas_datareader.get_data_famafrench('F-F_Research_Data_Factors',start=1950,end=2024)[0]\n",
    "ff = ff.reset_index().rename(columns={'Date':'yearm'})\n",
    "\n",
    "# convert ff['Date'] from period[M] to YYYYMM number, to merge with port_osap\n",
    "ff['yearm'] = ff['yearm'].dt.year * 100 + ff['yearm'].dt.month\n",
    "\n",
    "# Create a mapping from dates in port_osap to a 'yearm' format (e.g. 202103 for March 2021)\n",
    "date_mapping = port_osap[['date']].drop_duplicates().copy()\n",
    "date_mapping['yearm'] = date_mapping['date'].dt.year * 100 + date_mapping['date'].dt.month\n",
    "date_mapping, ff\n",
    "\n",
    "# Merge into the FF data the port_osap dates for each money (last trading date of that month/year)\n",
    "ff = pd.merge(ff, date_mapping, on='yearm', how='inner')\n",
    "\n",
    "# For our purposes, we only need the date and the market excess return (Mkt-RF)\n",
    "ff_processed = ff[['date', 'Mkt-RF']].copy()\n",
    "ff_processed.rename(columns={'Mkt-RF': 'ret'}, inplace=True)\n",
    "ff_processed['signalname'] = 'mkt_rf'\n",
    "ff_processed\n",
    "\n",
    "# -------------------- Combine Data -------------------- #\n",
    "# NOTE: this drops all variables except date, ret, and signalname \n",
    "\n",
    "port_osap = pd.concat([port_osap[['date', 'ret', 'signalname']],\n",
    "              ff_processed[['date', 'ret', 'signalname']]], ignore_index=True)\n",
    "\n",
    "display(port_osap.groupby('signalname').describe()['ret'])"
   ]
  },
  {
   "cell_type": "code",
   "execution_count": null,
   "id": "60447168",
   "metadata": {},
   "outputs": [],
   "source": [
    "ff_processed"
   ]
  }
 ],
 "metadata": {
  "kernelspec": {
   "display_name": "base",
   "language": "python",
   "name": "python3"
  },
  "language_info": {
   "codemirror_mode": {
    "name": "ipython",
    "version": 3
   },
   "file_extension": ".py",
   "mimetype": "text/x-python",
   "name": "python",
   "nbconvert_exporter": "python",
   "pygments_lexer": "ipython3",
   "version": "3.12.7"
  }
 },
 "nbformat": 4,
 "nbformat_minor": 5
}
