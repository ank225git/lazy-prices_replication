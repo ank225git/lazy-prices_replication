{
 "cells": [
  {
   "cell_type": "code",
   "execution_count": null,
   "id": "433e29f6",
   "metadata": {},
   "outputs": [],
   "source": [
    "import pandas as pd\n",
    "import requests # need to fake being a browser\n",
    "\n",
    "# URL to SEC ticker file\n",
    "url = \"https://www.sec.gov/include/ticker.txt\"\n",
    "\n",
    "# Set up a session with headers\n",
    "headers = {\"User-Agent\": \"Mozilla/5.0 (compatible; your_email@example.com)\"}\n",
    "response = requests.get(url, headers=headers)\n",
    "\n",
    "# Check if request successful\n",
    "if response.status_code == 200:\n",
    "    # Read into pandas\n",
    "    from io import StringIO\n",
    "    df_ticker_cik = pd.read_csv(StringIO(response.text), sep='\\t', header=None, names=[\"ticker\", \"cik\"])\n",
    "    print(df_ticker_cik.shape)\n",
    "    display(df_ticker_cik.head())\n",
    "else:\n",
    "    print(f\"Failed to fetch ticker.txt - Status code: {response.status_code}\")\n"
   ]
  },
  {
   "cell_type": "code",
   "execution_count": null,
   "id": "2b116179",
   "metadata": {},
   "outputs": [],
   "source": [
    "# Save SEC ticker-CIK mapping\n",
    "df_ticker_cik.to_csv(\"../data/processed/sec_ticker_cik_mapping.csv\", index=False)\n",
    "\n",
    "print(f\"Saved SEC ticker-CIK mapping with {df_ticker_cik.shape[0]} rows.\")\n"
   ]
  }
 ],
 "metadata": {
  "language_info": {
   "name": "python"
  }
 },
 "nbformat": 4,
 "nbformat_minor": 5
}
